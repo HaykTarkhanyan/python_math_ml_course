{
 "cells": [
  {
   "cell_type": "code",
   "execution_count": 1,
   "id": "0baf99c2",
   "metadata": {},
   "outputs": [],
   "source": [
    "import numpy as np\n",
    "import pandas as pd\n",
    "import plotly.express as px"
   ]
  },
  {
   "cell_type": "code",
   "execution_count": 8,
   "id": "ce1dca3d",
   "metadata": {},
   "outputs": [],
   "source": [
    "COUNTRY_OCCURRENCE_THRESHOLD = 5"
   ]
  },
  {
   "cell_type": "code",
   "execution_count": 2,
   "id": "6a317c3a",
   "metadata": {},
   "outputs": [],
   "source": [
    "df = pd.read_csv(\"startup_data_cleaned.csv\")"
   ]
  },
  {
   "cell_type": "code",
   "execution_count": 4,
   "id": "ff95fb5b",
   "metadata": {},
   "outputs": [],
   "source": [
    "CATEGORICAL_COLS = [\"Continent of company\", \"Country of company\"]"
   ]
  },
  {
   "cell_type": "code",
   "execution_count": 16,
   "id": "7bed978e",
   "metadata": {},
   "outputs": [],
   "source": [
    "target = \"Dependent-Company Status\""
   ]
  },
  {
   "cell_type": "code",
   "execution_count": 5,
   "id": "722a006d",
   "metadata": {},
   "outputs": [
    {
     "data": {
      "application/vnd.microsoft.datawrangler.viewer.v0+json": {
       "columns": [
        {
         "name": "index",
         "rawType": "object",
         "type": "string"
        },
        {
         "name": "0",
         "rawType": "int64",
         "type": "integer"
        }
       ],
       "ref": "9cfbdc95-c9e0-4245-8d61-45ee948e9feb",
       "rows": [
        [
         "Continent of company",
         "5"
        ],
        [
         "Country of company",
         "23"
        ]
       ],
       "shape": {
        "columns": 1,
        "rows": 2
       }
      },
      "text/plain": [
       "Continent of company     5\n",
       "Country of company      23\n",
       "dtype: int64"
      ]
     },
     "execution_count": 5,
     "metadata": {},
     "output_type": "execute_result"
    }
   ],
   "source": [
    "df[CATEGORICAL_COLS].nunique()"
   ]
  },
  {
   "cell_type": "code",
   "execution_count": 15,
   "id": "73b45e04",
   "metadata": {},
   "outputs": [
    {
     "data": {
      "application/vnd.microsoft.datawrangler.viewer.v0+json": {
       "columns": [
        {
         "name": "index",
         "rawType": "int64",
         "type": "integer"
        },
        {
         "name": "year of founding",
         "rawType": "float64",
         "type": "float"
        },
        {
         "name": "Internet Activity Score",
         "rawType": "float64",
         "type": "float"
        },
        {
         "name": "industry_marketing",
         "rawType": "bool",
         "type": "boolean"
        },
        {
         "name": "industry_sales",
         "rawType": "bool",
         "type": "boolean"
        },
        {
         "name": "industry_operation",
         "rawType": "bool",
         "type": "boolean"
        },
        {
         "name": "industry_social",
         "rawType": "bool",
         "type": "boolean"
        },
        {
         "name": "industry_software",
         "rawType": "bool",
         "type": "boolean"
        },
        {
         "name": "industry_web",
         "rawType": "bool",
         "type": "boolean"
        },
        {
         "name": "Dependent-Company Status",
         "rawType": "object",
         "type": "string"
        },
        {
         "name": "Continent of company_Europe",
         "rawType": "bool",
         "type": "boolean"
        },
        {
         "name": "Continent of company_North America",
         "rawType": "bool",
         "type": "boolean"
        },
        {
         "name": "Continent of company_South America",
         "rawType": "bool",
         "type": "boolean"
        },
        {
         "name": "Continent of company_Unknown",
         "rawType": "bool",
         "type": "boolean"
        },
        {
         "name": "Country of company_France",
         "rawType": "bool",
         "type": "boolean"
        },
        {
         "name": "Country of company_Germany",
         "rawType": "bool",
         "type": "boolean"
        },
        {
         "name": "Country of company_India",
         "rawType": "bool",
         "type": "boolean"
        },
        {
         "name": "Country of company_Other",
         "rawType": "bool",
         "type": "boolean"
        },
        {
         "name": "Country of company_Spain",
         "rawType": "bool",
         "type": "boolean"
        },
        {
         "name": "Country of company_United Kingdom",
         "rawType": "bool",
         "type": "boolean"
        },
        {
         "name": "Country of company_United States",
         "rawType": "bool",
         "type": "boolean"
        },
        {
         "name": "Country of company_Unknown",
         "rawType": "bool",
         "type": "boolean"
        }
       ],
       "ref": "f4baeac3-9467-4402-91ac-228314498358",
       "rows": [
        [
         "0",
         "2010.0",
         "-1.0",
         "False",
         "False",
         "True",
         "False",
         "False",
         "False",
         "Success",
         "False",
         "True",
         "False",
         "False",
         "False",
         "False",
         "False",
         "False",
         "False",
         "False",
         "True",
         "False"
        ],
        [
         "1",
         "2011.0",
         "125.0",
         "True",
         "True",
         "False",
         "False",
         "False",
         "False",
         "Success",
         "False",
         "True",
         "False",
         "False",
         "False",
         "False",
         "False",
         "False",
         "False",
         "False",
         "True",
         "False"
        ],
        [
         "2",
         "2011.0",
         "455.0",
         "False",
         "False",
         "True",
         "False",
         "False",
         "False",
         "Success",
         "False",
         "True",
         "False",
         "False",
         "False",
         "False",
         "False",
         "False",
         "False",
         "False",
         "True",
         "False"
        ],
        [
         "3",
         "2009.0",
         "-99.0",
         "True",
         "True",
         "False",
         "False",
         "False",
         "False",
         "Success",
         "False",
         "True",
         "False",
         "False",
         "False",
         "False",
         "False",
         "False",
         "False",
         "False",
         "True",
         "False"
        ],
        [
         "4",
         "2010.0",
         "496.0",
         "True",
         "True",
         "False",
         "False",
         "False",
         "False",
         "Success",
         "False",
         "True",
         "False",
         "False",
         "False",
         "False",
         "False",
         "False",
         "False",
         "False",
         "True",
         "False"
        ],
        [
         "5",
         "2010.0",
         "106.0",
         "False",
         "False",
         "False",
         "False",
         "False",
         "False",
         "Success",
         "False",
         "True",
         "False",
         "False",
         "False",
         "False",
         "False",
         "False",
         "False",
         "False",
         "True",
         "False"
        ],
        [
         "6",
         "2011.0",
         "39.0",
         "False",
         "False",
         "False",
         "False",
         "False",
         "False",
         "Success",
         "False",
         "True",
         "False",
         "False",
         "False",
         "False",
         "False",
         "False",
         "False",
         "False",
         "True",
         "False"
        ],
        [
         "7",
         "2010.0",
         "139.0",
         "False",
         "False",
         "False",
         "False",
         "False",
         "False",
         "Success",
         "False",
         "True",
         "False",
         "False",
         "False",
         "False",
         "False",
         "False",
         "False",
         "False",
         "True",
         "False"
        ],
        [
         "8",
         "2011.0",
         "306.0",
         "True",
         "False",
         "False",
         "False",
         "False",
         "False",
         "Success",
         "False",
         "True",
         "False",
         "False",
         "False",
         "False",
         "False",
         "False",
         "False",
         "False",
         "True",
         "False"
        ],
        [
         "9",
         "2013.0",
         "53.0",
         "False",
         "False",
         "False",
         "False",
         "False",
         "False",
         "Success",
         "False",
         "True",
         "False",
         "False",
         "False",
         "False",
         "False",
         "False",
         "False",
         "False",
         "True",
         "False"
        ],
        [
         "10",
         "2011.0",
         "762.0",
         "True",
         "True",
         "False",
         "False",
         "False",
         "False",
         "Success",
         "False",
         "True",
         "False",
         "False",
         "False",
         "False",
         "False",
         "False",
         "False",
         "False",
         "True",
         "False"
        ],
        [
         "11",
         "2010.0",
         "140.0",
         "False",
         "False",
         "True",
         "False",
         "False",
         "False",
         "Success",
         "False",
         "True",
         "False",
         "False",
         "False",
         "False",
         "False",
         "False",
         "False",
         "False",
         "True",
         "False"
        ],
        [
         "12",
         "2010.0",
         "115.0",
         "True",
         "True",
         "False",
         "False",
         "False",
         "False",
         "Success",
         "False",
         "True",
         "False",
         "False",
         "False",
         "False",
         "False",
         "False",
         "False",
         "False",
         "True",
         "False"
        ],
        [
         "13",
         "2008.0",
         "277.0",
         "False",
         "False",
         "False",
         "False",
         "False",
         "False",
         "Success",
         "False",
         "True",
         "False",
         "False",
         "False",
         "False",
         "False",
         "False",
         "False",
         "False",
         "True",
         "False"
        ],
        [
         "14",
         "2010.0",
         "242.0",
         "True",
         "True",
         "False",
         "False",
         "False",
         "False",
         "Success",
         "False",
         "True",
         "False",
         "False",
         "False",
         "False",
         "False",
         "False",
         "False",
         "False",
         "True",
         "False"
        ],
        [
         "15",
         "2008.0",
         "533.0",
         "False",
         "False",
         "False",
         "False",
         "False",
         "False",
         "Success",
         "False",
         "True",
         "False",
         "False",
         "False",
         "False",
         "False",
         "False",
         "False",
         "False",
         "True",
         "False"
        ],
        [
         "16",
         "2010.0",
         "-81.0",
         "True",
         "False",
         "False",
         "False",
         "False",
         "False",
         "Success",
         "False",
         "True",
         "False",
         "False",
         "False",
         "False",
         "False",
         "False",
         "False",
         "False",
         "True",
         "False"
        ],
        [
         "17",
         "2009.0",
         "471.0",
         "True",
         "True",
         "False",
         "False",
         "False",
         "False",
         "Success",
         "False",
         "True",
         "False",
         "False",
         "False",
         "False",
         "False",
         "False",
         "False",
         "False",
         "True",
         "False"
        ],
        [
         "18",
         "2002.0",
         "47.0",
         "False",
         "False",
         "False",
         "False",
         "False",
         "False",
         "Success",
         "False",
         "True",
         "False",
         "False",
         "False",
         "False",
         "False",
         "False",
         "False",
         "False",
         "True",
         "False"
        ],
        [
         "19",
         "2010.0",
         "60.0",
         "True",
         "True",
         "False",
         "False",
         "False",
         "False",
         "Success",
         "False",
         "True",
         "False",
         "False",
         "False",
         "False",
         "False",
         "False",
         "False",
         "False",
         "True",
         "False"
        ],
        [
         "20",
         "2010.0",
         "70.0",
         "True",
         "False",
         "False",
         "False",
         "False",
         "False",
         "Success",
         "False",
         "True",
         "False",
         "False",
         "False",
         "False",
         "False",
         "False",
         "False",
         "False",
         "True",
         "False"
        ],
        [
         "21",
         "2005.0",
         "242.0",
         "False",
         "False",
         "False",
         "True",
         "False",
         "False",
         "Success",
         "False",
         "True",
         "False",
         "False",
         "False",
         "False",
         "False",
         "False",
         "False",
         "False",
         "True",
         "False"
        ],
        [
         "22",
         "2012.0",
         "245.0",
         "True",
         "False",
         "False",
         "False",
         "False",
         "False",
         "Success",
         "False",
         "True",
         "False",
         "False",
         "False",
         "False",
         "False",
         "False",
         "False",
         "False",
         "True",
         "False"
        ],
        [
         "23",
         "2009.0",
         "60.0",
         "True",
         "False",
         "False",
         "False",
         "False",
         "False",
         "Success",
         "False",
         "False",
         "False",
         "True",
         "False",
         "False",
         "False",
         "False",
         "False",
         "False",
         "False",
         "True"
        ],
        [
         "24",
         "2012.0",
         "373.0",
         "False",
         "False",
         "False",
         "False",
         "False",
         "False",
         "Success",
         "False",
         "True",
         "False",
         "False",
         "False",
         "False",
         "False",
         "False",
         "False",
         "False",
         "True",
         "False"
        ],
        [
         "25",
         "2011.0",
         "61.0",
         "False",
         "False",
         "False",
         "False",
         "False",
         "True",
         "Success",
         "False",
         "True",
         "False",
         "False",
         "False",
         "False",
         "False",
         "False",
         "False",
         "False",
         "True",
         "False"
        ],
        [
         "26",
         "2009.0",
         "155.0",
         "False",
         "False",
         "False",
         "False",
         "False",
         "False",
         "Success",
         "False",
         "True",
         "False",
         "False",
         "False",
         "False",
         "False",
         "False",
         "False",
         "False",
         "True",
         "False"
        ],
        [
         "27",
         "2013.0",
         "43.0",
         "False",
         "False",
         "False",
         "True",
         "False",
         "False",
         "Success",
         "False",
         "True",
         "False",
         "False",
         "False",
         "False",
         "False",
         "False",
         "False",
         "False",
         "True",
         "False"
        ],
        [
         "28",
         "2007.0",
         "11.0",
         "False",
         "False",
         "False",
         "False",
         "False",
         "False",
         "Success",
         "False",
         "True",
         "False",
         "False",
         "False",
         "False",
         "False",
         "False",
         "False",
         "False",
         "True",
         "False"
        ],
        [
         "29",
         "2012.0",
         "281.0",
         "False",
         "False",
         "False",
         "False",
         "False",
         "False",
         "Success",
         "False",
         "True",
         "False",
         "False",
         "False",
         "False",
         "False",
         "False",
         "False",
         "False",
         "True",
         "False"
        ],
        [
         "30",
         "2012.0",
         "421.0",
         "False",
         "False",
         "False",
         "False",
         "False",
         "False",
         "Success",
         "False",
         "True",
         "False",
         "False",
         "False",
         "False",
         "False",
         "False",
         "False",
         "False",
         "True",
         "False"
        ],
        [
         "31",
         "2008.0",
         "-91.0",
         "False",
         "False",
         "False",
         "False",
         "False",
         "False",
         "Success",
         "False",
         "True",
         "False",
         "False",
         "False",
         "False",
         "False",
         "False",
         "False",
         "False",
         "True",
         "False"
        ],
        [
         "32",
         "2010.0",
         "983.0",
         "False",
         "False",
         "False",
         "False",
         "False",
         "False",
         "Success",
         "False",
         "True",
         "False",
         "False",
         "False",
         "False",
         "False",
         "False",
         "False",
         "False",
         "True",
         "False"
        ],
        [
         "33",
         "2011.0",
         "68.0",
         "False",
         "False",
         "False",
         "True",
         "False",
         "False",
         "Success",
         "False",
         "True",
         "False",
         "False",
         "False",
         "False",
         "False",
         "False",
         "False",
         "False",
         "True",
         "False"
        ],
        [
         "34",
         "2010.0",
         "60.0",
         "False",
         "False",
         "False",
         "False",
         "False",
         "False",
         "Success",
         "False",
         "False",
         "False",
         "True",
         "False",
         "False",
         "False",
         "False",
         "False",
         "False",
         "False",
         "True"
        ],
        [
         "35",
         "2012.0",
         "75.0",
         "True",
         "False",
         "False",
         "False",
         "False",
         "False",
         "Success",
         "False",
         "True",
         "False",
         "False",
         "False",
         "False",
         "False",
         "False",
         "False",
         "False",
         "True",
         "False"
        ],
        [
         "36",
         "2012.0",
         "140.0",
         "False",
         "False",
         "False",
         "False",
         "False",
         "False",
         "Success",
         "False",
         "True",
         "False",
         "False",
         "False",
         "False",
         "False",
         "False",
         "False",
         "False",
         "True",
         "False"
        ],
        [
         "37",
         "2012.0",
         "46.0",
         "False",
         "False",
         "True",
         "False",
         "False",
         "False",
         "Success",
         "False",
         "True",
         "False",
         "False",
         "False",
         "False",
         "False",
         "False",
         "False",
         "False",
         "True",
         "False"
        ],
        [
         "38",
         "2010.0",
         "33.0",
         "False",
         "False",
         "False",
         "False",
         "False",
         "False",
         "Success",
         "False",
         "True",
         "False",
         "False",
         "False",
         "False",
         "False",
         "False",
         "False",
         "False",
         "True",
         "False"
        ],
        [
         "39",
         "2010.0",
         "56.0",
         "False",
         "False",
         "False",
         "False",
         "False",
         "False",
         "Success",
         "False",
         "True",
         "False",
         "False",
         "False",
         "False",
         "False",
         "False",
         "False",
         "False",
         "True",
         "False"
        ],
        [
         "40",
         "2012.0",
         "89.0",
         "True",
         "False",
         "False",
         "False",
         "False",
         "False",
         "Success",
         "False",
         "True",
         "False",
         "False",
         "False",
         "False",
         "False",
         "False",
         "False",
         "False",
         "True",
         "False"
        ],
        [
         "41",
         "2009.0",
         "69.0",
         "False",
         "False",
         "True",
         "False",
         "False",
         "False",
         "Success",
         "False",
         "True",
         "False",
         "False",
         "False",
         "False",
         "False",
         "False",
         "False",
         "False",
         "True",
         "False"
        ],
        [
         "42",
         "2011.0",
         "374.0",
         "False",
         "False",
         "True",
         "False",
         "False",
         "False",
         "Success",
         "False",
         "True",
         "False",
         "False",
         "False",
         "False",
         "False",
         "False",
         "False",
         "False",
         "True",
         "False"
        ],
        [
         "43",
         "2008.0",
         "40.0",
         "False",
         "True",
         "False",
         "False",
         "False",
         "False",
         "Success",
         "False",
         "True",
         "False",
         "False",
         "False",
         "False",
         "False",
         "False",
         "False",
         "False",
         "True",
         "False"
        ],
        [
         "44",
         "2012.0",
         "60.0",
         "False",
         "False",
         "False",
         "False",
         "False",
         "False",
         "Success",
         "False",
         "False",
         "False",
         "True",
         "False",
         "False",
         "False",
         "False",
         "False",
         "False",
         "False",
         "True"
        ],
        [
         "45",
         "2010.0",
         "-24.0",
         "False",
         "False",
         "False",
         "False",
         "False",
         "False",
         "Success",
         "False",
         "True",
         "False",
         "False",
         "False",
         "False",
         "False",
         "False",
         "False",
         "False",
         "True",
         "False"
        ],
        [
         "46",
         "2011.0",
         "295.0",
         "False",
         "False",
         "False",
         "False",
         "False",
         "False",
         "Success",
         "False",
         "True",
         "False",
         "False",
         "False",
         "False",
         "False",
         "False",
         "False",
         "False",
         "True",
         "False"
        ],
        [
         "47",
         "2003.0",
         "111.0",
         "False",
         "False",
         "False",
         "False",
         "False",
         "False",
         "Success",
         "False",
         "True",
         "False",
         "False",
         "False",
         "False",
         "False",
         "False",
         "False",
         "False",
         "True",
         "False"
        ],
        [
         "48",
         "2000.0",
         "160.0",
         "False",
         "False",
         "True",
         "False",
         "False",
         "False",
         "Success",
         "False",
         "True",
         "False",
         "False",
         "False",
         "False",
         "False",
         "False",
         "False",
         "False",
         "True",
         "False"
        ],
        [
         "49",
         "2010.0",
         "0.0",
         "True",
         "False",
         "False",
         "False",
         "False",
         "False",
         "Failed",
         "False",
         "True",
         "False",
         "False",
         "False",
         "False",
         "False",
         "False",
         "False",
         "False",
         "True",
         "False"
        ]
       ],
       "shape": {
        "columns": 21,
        "rows": 472
       }
      },
      "text/html": [
       "<div>\n",
       "<style scoped>\n",
       "    .dataframe tbody tr th:only-of-type {\n",
       "        vertical-align: middle;\n",
       "    }\n",
       "\n",
       "    .dataframe tbody tr th {\n",
       "        vertical-align: top;\n",
       "    }\n",
       "\n",
       "    .dataframe thead th {\n",
       "        text-align: right;\n",
       "    }\n",
       "</style>\n",
       "<table border=\"1\" class=\"dataframe\">\n",
       "  <thead>\n",
       "    <tr style=\"text-align: right;\">\n",
       "      <th></th>\n",
       "      <th>year of founding</th>\n",
       "      <th>Internet Activity Score</th>\n",
       "      <th>industry_marketing</th>\n",
       "      <th>industry_sales</th>\n",
       "      <th>industry_operation</th>\n",
       "      <th>industry_social</th>\n",
       "      <th>industry_software</th>\n",
       "      <th>industry_web</th>\n",
       "      <th>Dependent-Company Status</th>\n",
       "      <th>Continent of company_Europe</th>\n",
       "      <th>...</th>\n",
       "      <th>Continent of company_South America</th>\n",
       "      <th>Continent of company_Unknown</th>\n",
       "      <th>Country of company_France</th>\n",
       "      <th>Country of company_Germany</th>\n",
       "      <th>Country of company_India</th>\n",
       "      <th>Country of company_Other</th>\n",
       "      <th>Country of company_Spain</th>\n",
       "      <th>Country of company_United Kingdom</th>\n",
       "      <th>Country of company_United States</th>\n",
       "      <th>Country of company_Unknown</th>\n",
       "    </tr>\n",
       "  </thead>\n",
       "  <tbody>\n",
       "    <tr>\n",
       "      <th>0</th>\n",
       "      <td>2010.0</td>\n",
       "      <td>-1.0</td>\n",
       "      <td>False</td>\n",
       "      <td>False</td>\n",
       "      <td>True</td>\n",
       "      <td>False</td>\n",
       "      <td>False</td>\n",
       "      <td>False</td>\n",
       "      <td>Success</td>\n",
       "      <td>False</td>\n",
       "      <td>...</td>\n",
       "      <td>False</td>\n",
       "      <td>False</td>\n",
       "      <td>False</td>\n",
       "      <td>False</td>\n",
       "      <td>False</td>\n",
       "      <td>False</td>\n",
       "      <td>False</td>\n",
       "      <td>False</td>\n",
       "      <td>True</td>\n",
       "      <td>False</td>\n",
       "    </tr>\n",
       "    <tr>\n",
       "      <th>1</th>\n",
       "      <td>2011.0</td>\n",
       "      <td>125.0</td>\n",
       "      <td>True</td>\n",
       "      <td>True</td>\n",
       "      <td>False</td>\n",
       "      <td>False</td>\n",
       "      <td>False</td>\n",
       "      <td>False</td>\n",
       "      <td>Success</td>\n",
       "      <td>False</td>\n",
       "      <td>...</td>\n",
       "      <td>False</td>\n",
       "      <td>False</td>\n",
       "      <td>False</td>\n",
       "      <td>False</td>\n",
       "      <td>False</td>\n",
       "      <td>False</td>\n",
       "      <td>False</td>\n",
       "      <td>False</td>\n",
       "      <td>True</td>\n",
       "      <td>False</td>\n",
       "    </tr>\n",
       "    <tr>\n",
       "      <th>2</th>\n",
       "      <td>2011.0</td>\n",
       "      <td>455.0</td>\n",
       "      <td>False</td>\n",
       "      <td>False</td>\n",
       "      <td>True</td>\n",
       "      <td>False</td>\n",
       "      <td>False</td>\n",
       "      <td>False</td>\n",
       "      <td>Success</td>\n",
       "      <td>False</td>\n",
       "      <td>...</td>\n",
       "      <td>False</td>\n",
       "      <td>False</td>\n",
       "      <td>False</td>\n",
       "      <td>False</td>\n",
       "      <td>False</td>\n",
       "      <td>False</td>\n",
       "      <td>False</td>\n",
       "      <td>False</td>\n",
       "      <td>True</td>\n",
       "      <td>False</td>\n",
       "    </tr>\n",
       "    <tr>\n",
       "      <th>3</th>\n",
       "      <td>2009.0</td>\n",
       "      <td>-99.0</td>\n",
       "      <td>True</td>\n",
       "      <td>True</td>\n",
       "      <td>False</td>\n",
       "      <td>False</td>\n",
       "      <td>False</td>\n",
       "      <td>False</td>\n",
       "      <td>Success</td>\n",
       "      <td>False</td>\n",
       "      <td>...</td>\n",
       "      <td>False</td>\n",
       "      <td>False</td>\n",
       "      <td>False</td>\n",
       "      <td>False</td>\n",
       "      <td>False</td>\n",
       "      <td>False</td>\n",
       "      <td>False</td>\n",
       "      <td>False</td>\n",
       "      <td>True</td>\n",
       "      <td>False</td>\n",
       "    </tr>\n",
       "    <tr>\n",
       "      <th>4</th>\n",
       "      <td>2010.0</td>\n",
       "      <td>496.0</td>\n",
       "      <td>True</td>\n",
       "      <td>True</td>\n",
       "      <td>False</td>\n",
       "      <td>False</td>\n",
       "      <td>False</td>\n",
       "      <td>False</td>\n",
       "      <td>Success</td>\n",
       "      <td>False</td>\n",
       "      <td>...</td>\n",
       "      <td>False</td>\n",
       "      <td>False</td>\n",
       "      <td>False</td>\n",
       "      <td>False</td>\n",
       "      <td>False</td>\n",
       "      <td>False</td>\n",
       "      <td>False</td>\n",
       "      <td>False</td>\n",
       "      <td>True</td>\n",
       "      <td>False</td>\n",
       "    </tr>\n",
       "    <tr>\n",
       "      <th>...</th>\n",
       "      <td>...</td>\n",
       "      <td>...</td>\n",
       "      <td>...</td>\n",
       "      <td>...</td>\n",
       "      <td>...</td>\n",
       "      <td>...</td>\n",
       "      <td>...</td>\n",
       "      <td>...</td>\n",
       "      <td>...</td>\n",
       "      <td>...</td>\n",
       "      <td>...</td>\n",
       "      <td>...</td>\n",
       "      <td>...</td>\n",
       "      <td>...</td>\n",
       "      <td>...</td>\n",
       "      <td>...</td>\n",
       "      <td>...</td>\n",
       "      <td>...</td>\n",
       "      <td>...</td>\n",
       "      <td>...</td>\n",
       "      <td>...</td>\n",
       "    </tr>\n",
       "    <tr>\n",
       "      <th>467</th>\n",
       "      <td>2011.0</td>\n",
       "      <td>-5.0</td>\n",
       "      <td>False</td>\n",
       "      <td>False</td>\n",
       "      <td>False</td>\n",
       "      <td>False</td>\n",
       "      <td>False</td>\n",
       "      <td>False</td>\n",
       "      <td>Failed</td>\n",
       "      <td>False</td>\n",
       "      <td>...</td>\n",
       "      <td>False</td>\n",
       "      <td>False</td>\n",
       "      <td>False</td>\n",
       "      <td>False</td>\n",
       "      <td>False</td>\n",
       "      <td>False</td>\n",
       "      <td>False</td>\n",
       "      <td>False</td>\n",
       "      <td>True</td>\n",
       "      <td>False</td>\n",
       "    </tr>\n",
       "    <tr>\n",
       "      <th>468</th>\n",
       "      <td>2010.0</td>\n",
       "      <td>60.0</td>\n",
       "      <td>False</td>\n",
       "      <td>False</td>\n",
       "      <td>False</td>\n",
       "      <td>False</td>\n",
       "      <td>False</td>\n",
       "      <td>True</td>\n",
       "      <td>Failed</td>\n",
       "      <td>False</td>\n",
       "      <td>...</td>\n",
       "      <td>False</td>\n",
       "      <td>True</td>\n",
       "      <td>False</td>\n",
       "      <td>False</td>\n",
       "      <td>False</td>\n",
       "      <td>False</td>\n",
       "      <td>False</td>\n",
       "      <td>False</td>\n",
       "      <td>False</td>\n",
       "      <td>True</td>\n",
       "    </tr>\n",
       "    <tr>\n",
       "      <th>469</th>\n",
       "      <td>2010.0</td>\n",
       "      <td>0.0</td>\n",
       "      <td>False</td>\n",
       "      <td>False</td>\n",
       "      <td>False</td>\n",
       "      <td>False</td>\n",
       "      <td>False</td>\n",
       "      <td>False</td>\n",
       "      <td>Failed</td>\n",
       "      <td>False</td>\n",
       "      <td>...</td>\n",
       "      <td>False</td>\n",
       "      <td>False</td>\n",
       "      <td>False</td>\n",
       "      <td>False</td>\n",
       "      <td>False</td>\n",
       "      <td>False</td>\n",
       "      <td>False</td>\n",
       "      <td>False</td>\n",
       "      <td>True</td>\n",
       "      <td>False</td>\n",
       "    </tr>\n",
       "    <tr>\n",
       "      <th>470</th>\n",
       "      <td>2009.0</td>\n",
       "      <td>0.0</td>\n",
       "      <td>False</td>\n",
       "      <td>False</td>\n",
       "      <td>False</td>\n",
       "      <td>True</td>\n",
       "      <td>False</td>\n",
       "      <td>False</td>\n",
       "      <td>Failed</td>\n",
       "      <td>False</td>\n",
       "      <td>...</td>\n",
       "      <td>False</td>\n",
       "      <td>False</td>\n",
       "      <td>False</td>\n",
       "      <td>False</td>\n",
       "      <td>False</td>\n",
       "      <td>False</td>\n",
       "      <td>False</td>\n",
       "      <td>False</td>\n",
       "      <td>True</td>\n",
       "      <td>False</td>\n",
       "    </tr>\n",
       "    <tr>\n",
       "      <th>471</th>\n",
       "      <td>2013.0</td>\n",
       "      <td>11.0</td>\n",
       "      <td>False</td>\n",
       "      <td>False</td>\n",
       "      <td>False</td>\n",
       "      <td>False</td>\n",
       "      <td>False</td>\n",
       "      <td>False</td>\n",
       "      <td>Failed</td>\n",
       "      <td>False</td>\n",
       "      <td>...</td>\n",
       "      <td>False</td>\n",
       "      <td>False</td>\n",
       "      <td>False</td>\n",
       "      <td>False</td>\n",
       "      <td>False</td>\n",
       "      <td>False</td>\n",
       "      <td>False</td>\n",
       "      <td>False</td>\n",
       "      <td>True</td>\n",
       "      <td>False</td>\n",
       "    </tr>\n",
       "  </tbody>\n",
       "</table>\n",
       "<p>472 rows × 21 columns</p>\n",
       "</div>"
      ],
      "text/plain": [
       "     year of founding  Internet Activity Score  industry_marketing  \\\n",
       "0              2010.0                     -1.0               False   \n",
       "1              2011.0                    125.0                True   \n",
       "2              2011.0                    455.0               False   \n",
       "3              2009.0                    -99.0                True   \n",
       "4              2010.0                    496.0                True   \n",
       "..                ...                      ...                 ...   \n",
       "467            2011.0                     -5.0               False   \n",
       "468            2010.0                     60.0               False   \n",
       "469            2010.0                      0.0               False   \n",
       "470            2009.0                      0.0               False   \n",
       "471            2013.0                     11.0               False   \n",
       "\n",
       "     industry_sales  industry_operation  industry_social  industry_software  \\\n",
       "0             False                True            False              False   \n",
       "1              True               False            False              False   \n",
       "2             False                True            False              False   \n",
       "3              True               False            False              False   \n",
       "4              True               False            False              False   \n",
       "..              ...                 ...              ...                ...   \n",
       "467           False               False            False              False   \n",
       "468           False               False            False              False   \n",
       "469           False               False            False              False   \n",
       "470           False               False             True              False   \n",
       "471           False               False            False              False   \n",
       "\n",
       "     industry_web Dependent-Company Status  Continent of company_Europe  ...  \\\n",
       "0           False                  Success                        False  ...   \n",
       "1           False                  Success                        False  ...   \n",
       "2           False                  Success                        False  ...   \n",
       "3           False                  Success                        False  ...   \n",
       "4           False                  Success                        False  ...   \n",
       "..            ...                      ...                          ...  ...   \n",
       "467         False                   Failed                        False  ...   \n",
       "468          True                   Failed                        False  ...   \n",
       "469         False                   Failed                        False  ...   \n",
       "470         False                   Failed                        False  ...   \n",
       "471         False                   Failed                        False  ...   \n",
       "\n",
       "     Continent of company_South America  Continent of company_Unknown  \\\n",
       "0                                 False                         False   \n",
       "1                                 False                         False   \n",
       "2                                 False                         False   \n",
       "3                                 False                         False   \n",
       "4                                 False                         False   \n",
       "..                                  ...                           ...   \n",
       "467                               False                         False   \n",
       "468                               False                          True   \n",
       "469                               False                         False   \n",
       "470                               False                         False   \n",
       "471                               False                         False   \n",
       "\n",
       "     Country of company_France  Country of company_Germany  \\\n",
       "0                        False                       False   \n",
       "1                        False                       False   \n",
       "2                        False                       False   \n",
       "3                        False                       False   \n",
       "4                        False                       False   \n",
       "..                         ...                         ...   \n",
       "467                      False                       False   \n",
       "468                      False                       False   \n",
       "469                      False                       False   \n",
       "470                      False                       False   \n",
       "471                      False                       False   \n",
       "\n",
       "     Country of company_India  Country of company_Other  \\\n",
       "0                       False                     False   \n",
       "1                       False                     False   \n",
       "2                       False                     False   \n",
       "3                       False                     False   \n",
       "4                       False                     False   \n",
       "..                        ...                       ...   \n",
       "467                     False                     False   \n",
       "468                     False                     False   \n",
       "469                     False                     False   \n",
       "470                     False                     False   \n",
       "471                     False                     False   \n",
       "\n",
       "     Country of company_Spain  Country of company_United Kingdom  \\\n",
       "0                       False                              False   \n",
       "1                       False                              False   \n",
       "2                       False                              False   \n",
       "3                       False                              False   \n",
       "4                       False                              False   \n",
       "..                        ...                                ...   \n",
       "467                     False                              False   \n",
       "468                     False                              False   \n",
       "469                     False                              False   \n",
       "470                     False                              False   \n",
       "471                     False                              False   \n",
       "\n",
       "     Country of company_United States  Country of company_Unknown  \n",
       "0                                True                       False  \n",
       "1                                True                       False  \n",
       "2                                True                       False  \n",
       "3                                True                       False  \n",
       "4                                True                       False  \n",
       "..                                ...                         ...  \n",
       "467                              True                       False  \n",
       "468                             False                        True  \n",
       "469                              True                       False  \n",
       "470                              True                       False  \n",
       "471                              True                       False  \n",
       "\n",
       "[472 rows x 21 columns]"
      ]
     },
     "execution_count": 15,
     "metadata": {},
     "output_type": "execute_result"
    }
   ],
   "source": [
    "df"
   ]
  },
  {
   "cell_type": "code",
   "execution_count": 9,
   "id": "29737089",
   "metadata": {},
   "outputs": [],
   "source": [
    "# Get value counts for countries\n",
    "country_counts = df[\"Country of company\"].value_counts()\n",
    "\n",
    "# Find countries with less than 5 occurrences\n",
    "countries_to_replace = country_counts[country_counts < COUNTRY_OCCURRENCE_THRESHOLD].index\n",
    "\n",
    "# Replace countries with less than 5 occurrences with \"Other\"\n",
    "df[\"Country of company\"] = df[\"Country of company\"].replace(countries_to_replace, \"Other\")"
   ]
  },
  {
   "cell_type": "code",
   "execution_count": 11,
   "id": "6fefbc59",
   "metadata": {},
   "outputs": [
    {
     "data": {
      "text/plain": [
       "9"
      ]
     },
     "execution_count": 11,
     "metadata": {},
     "output_type": "execute_result"
    }
   ],
   "source": [
    "df[\"Country of company\"].nunique()"
   ]
  },
  {
   "cell_type": "code",
   "execution_count": 12,
   "id": "798c3986",
   "metadata": {},
   "outputs": [],
   "source": [
    "# One-hot encode the categorical features and drop the last column\n",
    "df = pd.get_dummies(df, columns=CATEGORICAL_COLS, drop_first=True)"
   ]
  },
  {
   "cell_type": "code",
   "execution_count": 13,
   "id": "c7a75600",
   "metadata": {},
   "outputs": [
    {
     "data": {
      "application/vnd.microsoft.datawrangler.viewer.v0+json": {
       "columns": [
        {
         "name": "index",
         "rawType": "int64",
         "type": "integer"
        },
        {
         "name": "year of founding",
         "rawType": "float64",
         "type": "float"
        },
        {
         "name": "Internet Activity Score",
         "rawType": "float64",
         "type": "float"
        },
        {
         "name": "industry_marketing",
         "rawType": "bool",
         "type": "boolean"
        },
        {
         "name": "industry_sales",
         "rawType": "bool",
         "type": "boolean"
        },
        {
         "name": "industry_operation",
         "rawType": "bool",
         "type": "boolean"
        },
        {
         "name": "industry_social",
         "rawType": "bool",
         "type": "boolean"
        },
        {
         "name": "industry_software",
         "rawType": "bool",
         "type": "boolean"
        },
        {
         "name": "industry_web",
         "rawType": "bool",
         "type": "boolean"
        },
        {
         "name": "Dependent-Company Status",
         "rawType": "object",
         "type": "string"
        },
        {
         "name": "Continent of company_Europe",
         "rawType": "bool",
         "type": "boolean"
        },
        {
         "name": "Continent of company_North America",
         "rawType": "bool",
         "type": "boolean"
        },
        {
         "name": "Continent of company_South America",
         "rawType": "bool",
         "type": "boolean"
        },
        {
         "name": "Continent of company_Unknown",
         "rawType": "bool",
         "type": "boolean"
        },
        {
         "name": "Country of company_France",
         "rawType": "bool",
         "type": "boolean"
        },
        {
         "name": "Country of company_Germany",
         "rawType": "bool",
         "type": "boolean"
        },
        {
         "name": "Country of company_India",
         "rawType": "bool",
         "type": "boolean"
        },
        {
         "name": "Country of company_Other",
         "rawType": "bool",
         "type": "boolean"
        },
        {
         "name": "Country of company_Spain",
         "rawType": "bool",
         "type": "boolean"
        },
        {
         "name": "Country of company_United Kingdom",
         "rawType": "bool",
         "type": "boolean"
        },
        {
         "name": "Country of company_United States",
         "rawType": "bool",
         "type": "boolean"
        },
        {
         "name": "Country of company_Unknown",
         "rawType": "bool",
         "type": "boolean"
        }
       ],
       "ref": "c0053c1c-db4c-4d06-885b-58220b7608d4",
       "rows": [
        [
         "0",
         "2010.0",
         "-1.0",
         "False",
         "False",
         "True",
         "False",
         "False",
         "False",
         "Success",
         "False",
         "True",
         "False",
         "False",
         "False",
         "False",
         "False",
         "False",
         "False",
         "False",
         "True",
         "False"
        ],
        [
         "1",
         "2011.0",
         "125.0",
         "True",
         "True",
         "False",
         "False",
         "False",
         "False",
         "Success",
         "False",
         "True",
         "False",
         "False",
         "False",
         "False",
         "False",
         "False",
         "False",
         "False",
         "True",
         "False"
        ],
        [
         "2",
         "2011.0",
         "455.0",
         "False",
         "False",
         "True",
         "False",
         "False",
         "False",
         "Success",
         "False",
         "True",
         "False",
         "False",
         "False",
         "False",
         "False",
         "False",
         "False",
         "False",
         "True",
         "False"
        ],
        [
         "3",
         "2009.0",
         "-99.0",
         "True",
         "True",
         "False",
         "False",
         "False",
         "False",
         "Success",
         "False",
         "True",
         "False",
         "False",
         "False",
         "False",
         "False",
         "False",
         "False",
         "False",
         "True",
         "False"
        ],
        [
         "4",
         "2010.0",
         "496.0",
         "True",
         "True",
         "False",
         "False",
         "False",
         "False",
         "Success",
         "False",
         "True",
         "False",
         "False",
         "False",
         "False",
         "False",
         "False",
         "False",
         "False",
         "True",
         "False"
        ],
        [
         "5",
         "2010.0",
         "106.0",
         "False",
         "False",
         "False",
         "False",
         "False",
         "False",
         "Success",
         "False",
         "True",
         "False",
         "False",
         "False",
         "False",
         "False",
         "False",
         "False",
         "False",
         "True",
         "False"
        ],
        [
         "6",
         "2011.0",
         "39.0",
         "False",
         "False",
         "False",
         "False",
         "False",
         "False",
         "Success",
         "False",
         "True",
         "False",
         "False",
         "False",
         "False",
         "False",
         "False",
         "False",
         "False",
         "True",
         "False"
        ],
        [
         "7",
         "2010.0",
         "139.0",
         "False",
         "False",
         "False",
         "False",
         "False",
         "False",
         "Success",
         "False",
         "True",
         "False",
         "False",
         "False",
         "False",
         "False",
         "False",
         "False",
         "False",
         "True",
         "False"
        ],
        [
         "8",
         "2011.0",
         "306.0",
         "True",
         "False",
         "False",
         "False",
         "False",
         "False",
         "Success",
         "False",
         "True",
         "False",
         "False",
         "False",
         "False",
         "False",
         "False",
         "False",
         "False",
         "True",
         "False"
        ],
        [
         "9",
         "2013.0",
         "53.0",
         "False",
         "False",
         "False",
         "False",
         "False",
         "False",
         "Success",
         "False",
         "True",
         "False",
         "False",
         "False",
         "False",
         "False",
         "False",
         "False",
         "False",
         "True",
         "False"
        ],
        [
         "10",
         "2011.0",
         "762.0",
         "True",
         "True",
         "False",
         "False",
         "False",
         "False",
         "Success",
         "False",
         "True",
         "False",
         "False",
         "False",
         "False",
         "False",
         "False",
         "False",
         "False",
         "True",
         "False"
        ],
        [
         "11",
         "2010.0",
         "140.0",
         "False",
         "False",
         "True",
         "False",
         "False",
         "False",
         "Success",
         "False",
         "True",
         "False",
         "False",
         "False",
         "False",
         "False",
         "False",
         "False",
         "False",
         "True",
         "False"
        ],
        [
         "12",
         "2010.0",
         "115.0",
         "True",
         "True",
         "False",
         "False",
         "False",
         "False",
         "Success",
         "False",
         "True",
         "False",
         "False",
         "False",
         "False",
         "False",
         "False",
         "False",
         "False",
         "True",
         "False"
        ],
        [
         "13",
         "2008.0",
         "277.0",
         "False",
         "False",
         "False",
         "False",
         "False",
         "False",
         "Success",
         "False",
         "True",
         "False",
         "False",
         "False",
         "False",
         "False",
         "False",
         "False",
         "False",
         "True",
         "False"
        ],
        [
         "14",
         "2010.0",
         "242.0",
         "True",
         "True",
         "False",
         "False",
         "False",
         "False",
         "Success",
         "False",
         "True",
         "False",
         "False",
         "False",
         "False",
         "False",
         "False",
         "False",
         "False",
         "True",
         "False"
        ],
        [
         "15",
         "2008.0",
         "533.0",
         "False",
         "False",
         "False",
         "False",
         "False",
         "False",
         "Success",
         "False",
         "True",
         "False",
         "False",
         "False",
         "False",
         "False",
         "False",
         "False",
         "False",
         "True",
         "False"
        ],
        [
         "16",
         "2010.0",
         "-81.0",
         "True",
         "False",
         "False",
         "False",
         "False",
         "False",
         "Success",
         "False",
         "True",
         "False",
         "False",
         "False",
         "False",
         "False",
         "False",
         "False",
         "False",
         "True",
         "False"
        ],
        [
         "17",
         "2009.0",
         "471.0",
         "True",
         "True",
         "False",
         "False",
         "False",
         "False",
         "Success",
         "False",
         "True",
         "False",
         "False",
         "False",
         "False",
         "False",
         "False",
         "False",
         "False",
         "True",
         "False"
        ],
        [
         "18",
         "2002.0",
         "47.0",
         "False",
         "False",
         "False",
         "False",
         "False",
         "False",
         "Success",
         "False",
         "True",
         "False",
         "False",
         "False",
         "False",
         "False",
         "False",
         "False",
         "False",
         "True",
         "False"
        ],
        [
         "19",
         "2010.0",
         "60.0",
         "True",
         "True",
         "False",
         "False",
         "False",
         "False",
         "Success",
         "False",
         "True",
         "False",
         "False",
         "False",
         "False",
         "False",
         "False",
         "False",
         "False",
         "True",
         "False"
        ],
        [
         "20",
         "2010.0",
         "70.0",
         "True",
         "False",
         "False",
         "False",
         "False",
         "False",
         "Success",
         "False",
         "True",
         "False",
         "False",
         "False",
         "False",
         "False",
         "False",
         "False",
         "False",
         "True",
         "False"
        ],
        [
         "21",
         "2005.0",
         "242.0",
         "False",
         "False",
         "False",
         "True",
         "False",
         "False",
         "Success",
         "False",
         "True",
         "False",
         "False",
         "False",
         "False",
         "False",
         "False",
         "False",
         "False",
         "True",
         "False"
        ],
        [
         "22",
         "2012.0",
         "245.0",
         "True",
         "False",
         "False",
         "False",
         "False",
         "False",
         "Success",
         "False",
         "True",
         "False",
         "False",
         "False",
         "False",
         "False",
         "False",
         "False",
         "False",
         "True",
         "False"
        ],
        [
         "23",
         "2009.0",
         "60.0",
         "True",
         "False",
         "False",
         "False",
         "False",
         "False",
         "Success",
         "False",
         "False",
         "False",
         "True",
         "False",
         "False",
         "False",
         "False",
         "False",
         "False",
         "False",
         "True"
        ],
        [
         "24",
         "2012.0",
         "373.0",
         "False",
         "False",
         "False",
         "False",
         "False",
         "False",
         "Success",
         "False",
         "True",
         "False",
         "False",
         "False",
         "False",
         "False",
         "False",
         "False",
         "False",
         "True",
         "False"
        ],
        [
         "25",
         "2011.0",
         "61.0",
         "False",
         "False",
         "False",
         "False",
         "False",
         "True",
         "Success",
         "False",
         "True",
         "False",
         "False",
         "False",
         "False",
         "False",
         "False",
         "False",
         "False",
         "True",
         "False"
        ],
        [
         "26",
         "2009.0",
         "155.0",
         "False",
         "False",
         "False",
         "False",
         "False",
         "False",
         "Success",
         "False",
         "True",
         "False",
         "False",
         "False",
         "False",
         "False",
         "False",
         "False",
         "False",
         "True",
         "False"
        ],
        [
         "27",
         "2013.0",
         "43.0",
         "False",
         "False",
         "False",
         "True",
         "False",
         "False",
         "Success",
         "False",
         "True",
         "False",
         "False",
         "False",
         "False",
         "False",
         "False",
         "False",
         "False",
         "True",
         "False"
        ],
        [
         "28",
         "2007.0",
         "11.0",
         "False",
         "False",
         "False",
         "False",
         "False",
         "False",
         "Success",
         "False",
         "True",
         "False",
         "False",
         "False",
         "False",
         "False",
         "False",
         "False",
         "False",
         "True",
         "False"
        ],
        [
         "29",
         "2012.0",
         "281.0",
         "False",
         "False",
         "False",
         "False",
         "False",
         "False",
         "Success",
         "False",
         "True",
         "False",
         "False",
         "False",
         "False",
         "False",
         "False",
         "False",
         "False",
         "True",
         "False"
        ],
        [
         "30",
         "2012.0",
         "421.0",
         "False",
         "False",
         "False",
         "False",
         "False",
         "False",
         "Success",
         "False",
         "True",
         "False",
         "False",
         "False",
         "False",
         "False",
         "False",
         "False",
         "False",
         "True",
         "False"
        ],
        [
         "31",
         "2008.0",
         "-91.0",
         "False",
         "False",
         "False",
         "False",
         "False",
         "False",
         "Success",
         "False",
         "True",
         "False",
         "False",
         "False",
         "False",
         "False",
         "False",
         "False",
         "False",
         "True",
         "False"
        ],
        [
         "32",
         "2010.0",
         "983.0",
         "False",
         "False",
         "False",
         "False",
         "False",
         "False",
         "Success",
         "False",
         "True",
         "False",
         "False",
         "False",
         "False",
         "False",
         "False",
         "False",
         "False",
         "True",
         "False"
        ],
        [
         "33",
         "2011.0",
         "68.0",
         "False",
         "False",
         "False",
         "True",
         "False",
         "False",
         "Success",
         "False",
         "True",
         "False",
         "False",
         "False",
         "False",
         "False",
         "False",
         "False",
         "False",
         "True",
         "False"
        ],
        [
         "34",
         "2010.0",
         "60.0",
         "False",
         "False",
         "False",
         "False",
         "False",
         "False",
         "Success",
         "False",
         "False",
         "False",
         "True",
         "False",
         "False",
         "False",
         "False",
         "False",
         "False",
         "False",
         "True"
        ],
        [
         "35",
         "2012.0",
         "75.0",
         "True",
         "False",
         "False",
         "False",
         "False",
         "False",
         "Success",
         "False",
         "True",
         "False",
         "False",
         "False",
         "False",
         "False",
         "False",
         "False",
         "False",
         "True",
         "False"
        ],
        [
         "36",
         "2012.0",
         "140.0",
         "False",
         "False",
         "False",
         "False",
         "False",
         "False",
         "Success",
         "False",
         "True",
         "False",
         "False",
         "False",
         "False",
         "False",
         "False",
         "False",
         "False",
         "True",
         "False"
        ],
        [
         "37",
         "2012.0",
         "46.0",
         "False",
         "False",
         "True",
         "False",
         "False",
         "False",
         "Success",
         "False",
         "True",
         "False",
         "False",
         "False",
         "False",
         "False",
         "False",
         "False",
         "False",
         "True",
         "False"
        ],
        [
         "38",
         "2010.0",
         "33.0",
         "False",
         "False",
         "False",
         "False",
         "False",
         "False",
         "Success",
         "False",
         "True",
         "False",
         "False",
         "False",
         "False",
         "False",
         "False",
         "False",
         "False",
         "True",
         "False"
        ],
        [
         "39",
         "2010.0",
         "56.0",
         "False",
         "False",
         "False",
         "False",
         "False",
         "False",
         "Success",
         "False",
         "True",
         "False",
         "False",
         "False",
         "False",
         "False",
         "False",
         "False",
         "False",
         "True",
         "False"
        ],
        [
         "40",
         "2012.0",
         "89.0",
         "True",
         "False",
         "False",
         "False",
         "False",
         "False",
         "Success",
         "False",
         "True",
         "False",
         "False",
         "False",
         "False",
         "False",
         "False",
         "False",
         "False",
         "True",
         "False"
        ],
        [
         "41",
         "2009.0",
         "69.0",
         "False",
         "False",
         "True",
         "False",
         "False",
         "False",
         "Success",
         "False",
         "True",
         "False",
         "False",
         "False",
         "False",
         "False",
         "False",
         "False",
         "False",
         "True",
         "False"
        ],
        [
         "42",
         "2011.0",
         "374.0",
         "False",
         "False",
         "True",
         "False",
         "False",
         "False",
         "Success",
         "False",
         "True",
         "False",
         "False",
         "False",
         "False",
         "False",
         "False",
         "False",
         "False",
         "True",
         "False"
        ],
        [
         "43",
         "2008.0",
         "40.0",
         "False",
         "True",
         "False",
         "False",
         "False",
         "False",
         "Success",
         "False",
         "True",
         "False",
         "False",
         "False",
         "False",
         "False",
         "False",
         "False",
         "False",
         "True",
         "False"
        ],
        [
         "44",
         "2012.0",
         "60.0",
         "False",
         "False",
         "False",
         "False",
         "False",
         "False",
         "Success",
         "False",
         "False",
         "False",
         "True",
         "False",
         "False",
         "False",
         "False",
         "False",
         "False",
         "False",
         "True"
        ],
        [
         "45",
         "2010.0",
         "-24.0",
         "False",
         "False",
         "False",
         "False",
         "False",
         "False",
         "Success",
         "False",
         "True",
         "False",
         "False",
         "False",
         "False",
         "False",
         "False",
         "False",
         "False",
         "True",
         "False"
        ],
        [
         "46",
         "2011.0",
         "295.0",
         "False",
         "False",
         "False",
         "False",
         "False",
         "False",
         "Success",
         "False",
         "True",
         "False",
         "False",
         "False",
         "False",
         "False",
         "False",
         "False",
         "False",
         "True",
         "False"
        ],
        [
         "47",
         "2003.0",
         "111.0",
         "False",
         "False",
         "False",
         "False",
         "False",
         "False",
         "Success",
         "False",
         "True",
         "False",
         "False",
         "False",
         "False",
         "False",
         "False",
         "False",
         "False",
         "True",
         "False"
        ],
        [
         "48",
         "2000.0",
         "160.0",
         "False",
         "False",
         "True",
         "False",
         "False",
         "False",
         "Success",
         "False",
         "True",
         "False",
         "False",
         "False",
         "False",
         "False",
         "False",
         "False",
         "False",
         "True",
         "False"
        ],
        [
         "49",
         "2010.0",
         "0.0",
         "True",
         "False",
         "False",
         "False",
         "False",
         "False",
         "Failed",
         "False",
         "True",
         "False",
         "False",
         "False",
         "False",
         "False",
         "False",
         "False",
         "False",
         "True",
         "False"
        ]
       ],
       "shape": {
        "columns": 21,
        "rows": 472
       }
      },
      "text/html": [
       "<div>\n",
       "<style scoped>\n",
       "    .dataframe tbody tr th:only-of-type {\n",
       "        vertical-align: middle;\n",
       "    }\n",
       "\n",
       "    .dataframe tbody tr th {\n",
       "        vertical-align: top;\n",
       "    }\n",
       "\n",
       "    .dataframe thead th {\n",
       "        text-align: right;\n",
       "    }\n",
       "</style>\n",
       "<table border=\"1\" class=\"dataframe\">\n",
       "  <thead>\n",
       "    <tr style=\"text-align: right;\">\n",
       "      <th></th>\n",
       "      <th>year of founding</th>\n",
       "      <th>Internet Activity Score</th>\n",
       "      <th>industry_marketing</th>\n",
       "      <th>industry_sales</th>\n",
       "      <th>industry_operation</th>\n",
       "      <th>industry_social</th>\n",
       "      <th>industry_software</th>\n",
       "      <th>industry_web</th>\n",
       "      <th>Dependent-Company Status</th>\n",
       "      <th>Continent of company_Europe</th>\n",
       "      <th>...</th>\n",
       "      <th>Continent of company_South America</th>\n",
       "      <th>Continent of company_Unknown</th>\n",
       "      <th>Country of company_France</th>\n",
       "      <th>Country of company_Germany</th>\n",
       "      <th>Country of company_India</th>\n",
       "      <th>Country of company_Other</th>\n",
       "      <th>Country of company_Spain</th>\n",
       "      <th>Country of company_United Kingdom</th>\n",
       "      <th>Country of company_United States</th>\n",
       "      <th>Country of company_Unknown</th>\n",
       "    </tr>\n",
       "  </thead>\n",
       "  <tbody>\n",
       "    <tr>\n",
       "      <th>0</th>\n",
       "      <td>2010.0</td>\n",
       "      <td>-1.0</td>\n",
       "      <td>False</td>\n",
       "      <td>False</td>\n",
       "      <td>True</td>\n",
       "      <td>False</td>\n",
       "      <td>False</td>\n",
       "      <td>False</td>\n",
       "      <td>Success</td>\n",
       "      <td>False</td>\n",
       "      <td>...</td>\n",
       "      <td>False</td>\n",
       "      <td>False</td>\n",
       "      <td>False</td>\n",
       "      <td>False</td>\n",
       "      <td>False</td>\n",
       "      <td>False</td>\n",
       "      <td>False</td>\n",
       "      <td>False</td>\n",
       "      <td>True</td>\n",
       "      <td>False</td>\n",
       "    </tr>\n",
       "    <tr>\n",
       "      <th>1</th>\n",
       "      <td>2011.0</td>\n",
       "      <td>125.0</td>\n",
       "      <td>True</td>\n",
       "      <td>True</td>\n",
       "      <td>False</td>\n",
       "      <td>False</td>\n",
       "      <td>False</td>\n",
       "      <td>False</td>\n",
       "      <td>Success</td>\n",
       "      <td>False</td>\n",
       "      <td>...</td>\n",
       "      <td>False</td>\n",
       "      <td>False</td>\n",
       "      <td>False</td>\n",
       "      <td>False</td>\n",
       "      <td>False</td>\n",
       "      <td>False</td>\n",
       "      <td>False</td>\n",
       "      <td>False</td>\n",
       "      <td>True</td>\n",
       "      <td>False</td>\n",
       "    </tr>\n",
       "    <tr>\n",
       "      <th>2</th>\n",
       "      <td>2011.0</td>\n",
       "      <td>455.0</td>\n",
       "      <td>False</td>\n",
       "      <td>False</td>\n",
       "      <td>True</td>\n",
       "      <td>False</td>\n",
       "      <td>False</td>\n",
       "      <td>False</td>\n",
       "      <td>Success</td>\n",
       "      <td>False</td>\n",
       "      <td>...</td>\n",
       "      <td>False</td>\n",
       "      <td>False</td>\n",
       "      <td>False</td>\n",
       "      <td>False</td>\n",
       "      <td>False</td>\n",
       "      <td>False</td>\n",
       "      <td>False</td>\n",
       "      <td>False</td>\n",
       "      <td>True</td>\n",
       "      <td>False</td>\n",
       "    </tr>\n",
       "    <tr>\n",
       "      <th>3</th>\n",
       "      <td>2009.0</td>\n",
       "      <td>-99.0</td>\n",
       "      <td>True</td>\n",
       "      <td>True</td>\n",
       "      <td>False</td>\n",
       "      <td>False</td>\n",
       "      <td>False</td>\n",
       "      <td>False</td>\n",
       "      <td>Success</td>\n",
       "      <td>False</td>\n",
       "      <td>...</td>\n",
       "      <td>False</td>\n",
       "      <td>False</td>\n",
       "      <td>False</td>\n",
       "      <td>False</td>\n",
       "      <td>False</td>\n",
       "      <td>False</td>\n",
       "      <td>False</td>\n",
       "      <td>False</td>\n",
       "      <td>True</td>\n",
       "      <td>False</td>\n",
       "    </tr>\n",
       "    <tr>\n",
       "      <th>4</th>\n",
       "      <td>2010.0</td>\n",
       "      <td>496.0</td>\n",
       "      <td>True</td>\n",
       "      <td>True</td>\n",
       "      <td>False</td>\n",
       "      <td>False</td>\n",
       "      <td>False</td>\n",
       "      <td>False</td>\n",
       "      <td>Success</td>\n",
       "      <td>False</td>\n",
       "      <td>...</td>\n",
       "      <td>False</td>\n",
       "      <td>False</td>\n",
       "      <td>False</td>\n",
       "      <td>False</td>\n",
       "      <td>False</td>\n",
       "      <td>False</td>\n",
       "      <td>False</td>\n",
       "      <td>False</td>\n",
       "      <td>True</td>\n",
       "      <td>False</td>\n",
       "    </tr>\n",
       "    <tr>\n",
       "      <th>...</th>\n",
       "      <td>...</td>\n",
       "      <td>...</td>\n",
       "      <td>...</td>\n",
       "      <td>...</td>\n",
       "      <td>...</td>\n",
       "      <td>...</td>\n",
       "      <td>...</td>\n",
       "      <td>...</td>\n",
       "      <td>...</td>\n",
       "      <td>...</td>\n",
       "      <td>...</td>\n",
       "      <td>...</td>\n",
       "      <td>...</td>\n",
       "      <td>...</td>\n",
       "      <td>...</td>\n",
       "      <td>...</td>\n",
       "      <td>...</td>\n",
       "      <td>...</td>\n",
       "      <td>...</td>\n",
       "      <td>...</td>\n",
       "      <td>...</td>\n",
       "    </tr>\n",
       "    <tr>\n",
       "      <th>467</th>\n",
       "      <td>2011.0</td>\n",
       "      <td>-5.0</td>\n",
       "      <td>False</td>\n",
       "      <td>False</td>\n",
       "      <td>False</td>\n",
       "      <td>False</td>\n",
       "      <td>False</td>\n",
       "      <td>False</td>\n",
       "      <td>Failed</td>\n",
       "      <td>False</td>\n",
       "      <td>...</td>\n",
       "      <td>False</td>\n",
       "      <td>False</td>\n",
       "      <td>False</td>\n",
       "      <td>False</td>\n",
       "      <td>False</td>\n",
       "      <td>False</td>\n",
       "      <td>False</td>\n",
       "      <td>False</td>\n",
       "      <td>True</td>\n",
       "      <td>False</td>\n",
       "    </tr>\n",
       "    <tr>\n",
       "      <th>468</th>\n",
       "      <td>2010.0</td>\n",
       "      <td>60.0</td>\n",
       "      <td>False</td>\n",
       "      <td>False</td>\n",
       "      <td>False</td>\n",
       "      <td>False</td>\n",
       "      <td>False</td>\n",
       "      <td>True</td>\n",
       "      <td>Failed</td>\n",
       "      <td>False</td>\n",
       "      <td>...</td>\n",
       "      <td>False</td>\n",
       "      <td>True</td>\n",
       "      <td>False</td>\n",
       "      <td>False</td>\n",
       "      <td>False</td>\n",
       "      <td>False</td>\n",
       "      <td>False</td>\n",
       "      <td>False</td>\n",
       "      <td>False</td>\n",
       "      <td>True</td>\n",
       "    </tr>\n",
       "    <tr>\n",
       "      <th>469</th>\n",
       "      <td>2010.0</td>\n",
       "      <td>0.0</td>\n",
       "      <td>False</td>\n",
       "      <td>False</td>\n",
       "      <td>False</td>\n",
       "      <td>False</td>\n",
       "      <td>False</td>\n",
       "      <td>False</td>\n",
       "      <td>Failed</td>\n",
       "      <td>False</td>\n",
       "      <td>...</td>\n",
       "      <td>False</td>\n",
       "      <td>False</td>\n",
       "      <td>False</td>\n",
       "      <td>False</td>\n",
       "      <td>False</td>\n",
       "      <td>False</td>\n",
       "      <td>False</td>\n",
       "      <td>False</td>\n",
       "      <td>True</td>\n",
       "      <td>False</td>\n",
       "    </tr>\n",
       "    <tr>\n",
       "      <th>470</th>\n",
       "      <td>2009.0</td>\n",
       "      <td>0.0</td>\n",
       "      <td>False</td>\n",
       "      <td>False</td>\n",
       "      <td>False</td>\n",
       "      <td>True</td>\n",
       "      <td>False</td>\n",
       "      <td>False</td>\n",
       "      <td>Failed</td>\n",
       "      <td>False</td>\n",
       "      <td>...</td>\n",
       "      <td>False</td>\n",
       "      <td>False</td>\n",
       "      <td>False</td>\n",
       "      <td>False</td>\n",
       "      <td>False</td>\n",
       "      <td>False</td>\n",
       "      <td>False</td>\n",
       "      <td>False</td>\n",
       "      <td>True</td>\n",
       "      <td>False</td>\n",
       "    </tr>\n",
       "    <tr>\n",
       "      <th>471</th>\n",
       "      <td>2013.0</td>\n",
       "      <td>11.0</td>\n",
       "      <td>False</td>\n",
       "      <td>False</td>\n",
       "      <td>False</td>\n",
       "      <td>False</td>\n",
       "      <td>False</td>\n",
       "      <td>False</td>\n",
       "      <td>Failed</td>\n",
       "      <td>False</td>\n",
       "      <td>...</td>\n",
       "      <td>False</td>\n",
       "      <td>False</td>\n",
       "      <td>False</td>\n",
       "      <td>False</td>\n",
       "      <td>False</td>\n",
       "      <td>False</td>\n",
       "      <td>False</td>\n",
       "      <td>False</td>\n",
       "      <td>True</td>\n",
       "      <td>False</td>\n",
       "    </tr>\n",
       "  </tbody>\n",
       "</table>\n",
       "<p>472 rows × 21 columns</p>\n",
       "</div>"
      ],
      "text/plain": [
       "     year of founding  Internet Activity Score  industry_marketing  \\\n",
       "0              2010.0                     -1.0               False   \n",
       "1              2011.0                    125.0                True   \n",
       "2              2011.0                    455.0               False   \n",
       "3              2009.0                    -99.0                True   \n",
       "4              2010.0                    496.0                True   \n",
       "..                ...                      ...                 ...   \n",
       "467            2011.0                     -5.0               False   \n",
       "468            2010.0                     60.0               False   \n",
       "469            2010.0                      0.0               False   \n",
       "470            2009.0                      0.0               False   \n",
       "471            2013.0                     11.0               False   \n",
       "\n",
       "     industry_sales  industry_operation  industry_social  industry_software  \\\n",
       "0             False                True            False              False   \n",
       "1              True               False            False              False   \n",
       "2             False                True            False              False   \n",
       "3              True               False            False              False   \n",
       "4              True               False            False              False   \n",
       "..              ...                 ...              ...                ...   \n",
       "467           False               False            False              False   \n",
       "468           False               False            False              False   \n",
       "469           False               False            False              False   \n",
       "470           False               False             True              False   \n",
       "471           False               False            False              False   \n",
       "\n",
       "     industry_web Dependent-Company Status  Continent of company_Europe  ...  \\\n",
       "0           False                  Success                        False  ...   \n",
       "1           False                  Success                        False  ...   \n",
       "2           False                  Success                        False  ...   \n",
       "3           False                  Success                        False  ...   \n",
       "4           False                  Success                        False  ...   \n",
       "..            ...                      ...                          ...  ...   \n",
       "467         False                   Failed                        False  ...   \n",
       "468          True                   Failed                        False  ...   \n",
       "469         False                   Failed                        False  ...   \n",
       "470         False                   Failed                        False  ...   \n",
       "471         False                   Failed                        False  ...   \n",
       "\n",
       "     Continent of company_South America  Continent of company_Unknown  \\\n",
       "0                                 False                         False   \n",
       "1                                 False                         False   \n",
       "2                                 False                         False   \n",
       "3                                 False                         False   \n",
       "4                                 False                         False   \n",
       "..                                  ...                           ...   \n",
       "467                               False                         False   \n",
       "468                               False                          True   \n",
       "469                               False                         False   \n",
       "470                               False                         False   \n",
       "471                               False                         False   \n",
       "\n",
       "     Country of company_France  Country of company_Germany  \\\n",
       "0                        False                       False   \n",
       "1                        False                       False   \n",
       "2                        False                       False   \n",
       "3                        False                       False   \n",
       "4                        False                       False   \n",
       "..                         ...                         ...   \n",
       "467                      False                       False   \n",
       "468                      False                       False   \n",
       "469                      False                       False   \n",
       "470                      False                       False   \n",
       "471                      False                       False   \n",
       "\n",
       "     Country of company_India  Country of company_Other  \\\n",
       "0                       False                     False   \n",
       "1                       False                     False   \n",
       "2                       False                     False   \n",
       "3                       False                     False   \n",
       "4                       False                     False   \n",
       "..                        ...                       ...   \n",
       "467                     False                     False   \n",
       "468                     False                     False   \n",
       "469                     False                     False   \n",
       "470                     False                     False   \n",
       "471                     False                     False   \n",
       "\n",
       "     Country of company_Spain  Country of company_United Kingdom  \\\n",
       "0                       False                              False   \n",
       "1                       False                              False   \n",
       "2                       False                              False   \n",
       "3                       False                              False   \n",
       "4                       False                              False   \n",
       "..                        ...                                ...   \n",
       "467                     False                              False   \n",
       "468                     False                              False   \n",
       "469                     False                              False   \n",
       "470                     False                              False   \n",
       "471                     False                              False   \n",
       "\n",
       "     Country of company_United States  Country of company_Unknown  \n",
       "0                                True                       False  \n",
       "1                                True                       False  \n",
       "2                                True                       False  \n",
       "3                                True                       False  \n",
       "4                                True                       False  \n",
       "..                                ...                         ...  \n",
       "467                              True                       False  \n",
       "468                             False                        True  \n",
       "469                              True                       False  \n",
       "470                              True                       False  \n",
       "471                              True                       False  \n",
       "\n",
       "[472 rows x 21 columns]"
      ]
     },
     "execution_count": 13,
     "metadata": {},
     "output_type": "execute_result"
    }
   ],
   "source": [
    "df"
   ]
  },
  {
   "cell_type": "code",
   "execution_count": 17,
   "id": "e1214893",
   "metadata": {},
   "outputs": [
    {
     "data": {
      "application/vnd.plotly.v1+json": {
       "config": {
        "plotlyServerURL": "https://plot.ly"
       },
       "data": [
        {
         "alignmentgroup": "True",
         "hovertemplate": "Dependent-Company Status=Success<br>Internet Activity Score=%{y}<extra></extra>",
         "legendgroup": "Success",
         "marker": {
          "color": "#636efa"
         },
         "name": "Success",
         "notched": false,
         "offsetgroup": "Success",
         "orientation": "v",
         "showlegend": true,
         "type": "box",
         "x0": " ",
         "xaxis": "x",
         "y": {
          "bdata": "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",
          "dtype": "f8"
         },
         "y0": " ",
         "yaxis": "y"
        },
        {
         "alignmentgroup": "True",
         "hovertemplate": "Dependent-Company Status=Failed<br>Internet Activity Score=%{y}<extra></extra>",
         "legendgroup": "Failed",
         "marker": {
          "color": "#EF553B"
         },
         "name": "Failed",
         "notched": false,
         "offsetgroup": "Failed",
         "orientation": "v",
         "showlegend": true,
         "type": "box",
         "x0": " ",
         "xaxis": "x",
         "y": {
          "bdata": "AAAAAAAAAAAAAAAAAAAAAAAAAAAAAAAAAAAAAADQe8AAAAAAAMBWwAAAAAAAQFHAAAAAAAAAR8AAAAAAAAAsQAAAAAAAADBAAAAAAADAWkAAAAAAAEBTwAAAAAAAuIDAAAAAAAAAIMAAAAAAAABOQAAAAAAAACBAAAAAAAAAIsAAAAAAAABOQAAAAAAAAE5AAAAAAAAAMUAAAAAAAABOQAAAAAAAAE5AAAAAAAAACEAAAAAAAAAoQAAAAAAAADDAAAAAAAAAAAAAAAAAAKBgwAAAAAAAACpAAAAAAAAATkAAAAAAAABOQAAAAAAAAAjAAAAAAAAAPsAAAAAAAABOQAAAAAAAQG5AAAAAAAAAYkAAAAAAAABOQAAAAAAAACzAAAAAAACASsAAAAAAAGBuwAAAAAAAAE5AAAAAAAAATkAAAAAAAABOQAAAAAAAAAAAAAAAAAAACMAAAAAAAAAAAAAAAAAAAAAAAAAAAAAAPcAAAAAAAEBlQAAAAAAAIGXAAAAAAAAALkAAAAAAAAAgwAAAAAAAAE5AAAAAAAAATkAAAAAAAAAkwAAAAAAAAE5AAAAAAAAATkAAAAAAAABVwAAAAAAAACrAAAAAAAAAEMAAAAAAAABOQAAAAAAAAE5AAAAAAAAALkAAAAAAAAAgwAAAAAAAAABAAAAAAAAAWsAAAAAAAADwvwAAAAAAADLAAAAAAAAAGMAAAAAAAIBAwAAAAAAAADBAAAAAAAAAYkAAAAAAAAAYwAAAAAAAAFFAAAAAAACAX0AAAAAAAAAAAAAAAAAAAAAAAAAAAABAXEAAAAAAAMBdQAAAAAAAIGVAAAAAAAAggEAAAAAAAJB0QAAAAAAAQFRAAAAAAABwcEAAAAAAAPB2QAAAAAAAUHZAAAAAAADAUkAAAAAAACBuQAAAAAAAADPAAAAAAACAQsAAAAAAAABPwAAAAAAAAE5AAAAAAAAAAAAAAAAAAAAQwAAAAAAAADBAAAAAAAAANkAAAAAAAAAAAAAAAAAAACDAAAAAAAAATkAAAAAAAEBRwAAAAAAAAEdAAAAAAAAATkAAAAAAAABOQAAAAAAAAE5AAAAAAAAATkAAAAAAAABOQAAAAAAAABzAAAAAAAAAKMAAAAAAAABNwAAAAAAAAE5AAAAAAAAATkAAAAAAAAAQwAAAAAAAgErAAAAAAACwccAAAAAAAAAwwAAAAAAAEHfAAAAAAAAAAAAAAAAAAABsQAAAAAAAwFbAAAAAAAAATkAAAAAAAADwPwAAAAAAAAjAAAAAAABAVsAAAAAAAIBswAAAAAAAAADAAAAAAAAATkAAAAAAAAAcQAAAAAAAgE7AAAAAAAAAJMAAAAAAAAAAwAAAAAAAAE5AAAAAAAAAKsAAAAAAAIBbQAAAAAAAAEVAAAAAAAAATkAAAAAAAAA+QAAAAAAAAE5AAAAAAAAATkAAAAAAAABPwAAAAAAAAFLAAAAAAAAAAAAAAAAAAABOQAAAAAAAADjAAAAAAAAATkAAAAAAAABOQAAAAAAAAEzAAAAAAAAATkAAAAAAAAA/QAAAAAAAAE5AAAAAAAAATkAAAAAAAAAAAAAAAAAAAE5AAAAAAAAATkAAAAAAAAA4wAAAAAAAAE5AAAAAAAAA8D8AAAAAAAAAAAAAAAAAAPC/AAAAAAAAEEAAAAAAAAAyQAAAAAAAAE5AAAAAAAAAPsAAAAAAAAAAAAAAAAAAAAAAAAAAAAAAFMAAAAAAAABOQAAAAAAAAAAAAAAAAAAAAAAAAAAAAAAmQA==",
          "dtype": "f8"
         },
         "y0": " ",
         "yaxis": "y"
        }
       ],
       "layout": {
        "boxmode": "group",
        "legend": {
         "title": {
          "text": "Dependent-Company Status"
         },
         "tracegroupgap": 0
        },
        "margin": {
         "t": 60
        },
        "template": {
         "data": {
          "bar": [
           {
            "error_x": {
             "color": "#2a3f5f"
            },
            "error_y": {
             "color": "#2a3f5f"
            },
            "marker": {
             "line": {
              "color": "#E5ECF6",
              "width": 0.5
             },
             "pattern": {
              "fillmode": "overlay",
              "size": 10,
              "solidity": 0.2
             }
            },
            "type": "bar"
           }
          ],
          "barpolar": [
           {
            "marker": {
             "line": {
              "color": "#E5ECF6",
              "width": 0.5
             },
             "pattern": {
              "fillmode": "overlay",
              "size": 10,
              "solidity": 0.2
             }
            },
            "type": "barpolar"
           }
          ],
          "carpet": [
           {
            "aaxis": {
             "endlinecolor": "#2a3f5f",
             "gridcolor": "white",
             "linecolor": "white",
             "minorgridcolor": "white",
             "startlinecolor": "#2a3f5f"
            },
            "baxis": {
             "endlinecolor": "#2a3f5f",
             "gridcolor": "white",
             "linecolor": "white",
             "minorgridcolor": "white",
             "startlinecolor": "#2a3f5f"
            },
            "type": "carpet"
           }
          ],
          "choropleth": [
           {
            "colorbar": {
             "outlinewidth": 0,
             "ticks": ""
            },
            "type": "choropleth"
           }
          ],
          "contour": [
           {
            "colorbar": {
             "outlinewidth": 0,
             "ticks": ""
            },
            "colorscale": [
             [
              0,
              "#0d0887"
             ],
             [
              0.1111111111111111,
              "#46039f"
             ],
             [
              0.2222222222222222,
              "#7201a8"
             ],
             [
              0.3333333333333333,
              "#9c179e"
             ],
             [
              0.4444444444444444,
              "#bd3786"
             ],
             [
              0.5555555555555556,
              "#d8576b"
             ],
             [
              0.6666666666666666,
              "#ed7953"
             ],
             [
              0.7777777777777778,
              "#fb9f3a"
             ],
             [
              0.8888888888888888,
              "#fdca26"
             ],
             [
              1,
              "#f0f921"
             ]
            ],
            "type": "contour"
           }
          ],
          "contourcarpet": [
           {
            "colorbar": {
             "outlinewidth": 0,
             "ticks": ""
            },
            "type": "contourcarpet"
           }
          ],
          "heatmap": [
           {
            "colorbar": {
             "outlinewidth": 0,
             "ticks": ""
            },
            "colorscale": [
             [
              0,
              "#0d0887"
             ],
             [
              0.1111111111111111,
              "#46039f"
             ],
             [
              0.2222222222222222,
              "#7201a8"
             ],
             [
              0.3333333333333333,
              "#9c179e"
             ],
             [
              0.4444444444444444,
              "#bd3786"
             ],
             [
              0.5555555555555556,
              "#d8576b"
             ],
             [
              0.6666666666666666,
              "#ed7953"
             ],
             [
              0.7777777777777778,
              "#fb9f3a"
             ],
             [
              0.8888888888888888,
              "#fdca26"
             ],
             [
              1,
              "#f0f921"
             ]
            ],
            "type": "heatmap"
           }
          ],
          "histogram": [
           {
            "marker": {
             "pattern": {
              "fillmode": "overlay",
              "size": 10,
              "solidity": 0.2
             }
            },
            "type": "histogram"
           }
          ],
          "histogram2d": [
           {
            "colorbar": {
             "outlinewidth": 0,
             "ticks": ""
            },
            "colorscale": [
             [
              0,
              "#0d0887"
             ],
             [
              0.1111111111111111,
              "#46039f"
             ],
             [
              0.2222222222222222,
              "#7201a8"
             ],
             [
              0.3333333333333333,
              "#9c179e"
             ],
             [
              0.4444444444444444,
              "#bd3786"
             ],
             [
              0.5555555555555556,
              "#d8576b"
             ],
             [
              0.6666666666666666,
              "#ed7953"
             ],
             [
              0.7777777777777778,
              "#fb9f3a"
             ],
             [
              0.8888888888888888,
              "#fdca26"
             ],
             [
              1,
              "#f0f921"
             ]
            ],
            "type": "histogram2d"
           }
          ],
          "histogram2dcontour": [
           {
            "colorbar": {
             "outlinewidth": 0,
             "ticks": ""
            },
            "colorscale": [
             [
              0,
              "#0d0887"
             ],
             [
              0.1111111111111111,
              "#46039f"
             ],
             [
              0.2222222222222222,
              "#7201a8"
             ],
             [
              0.3333333333333333,
              "#9c179e"
             ],
             [
              0.4444444444444444,
              "#bd3786"
             ],
             [
              0.5555555555555556,
              "#d8576b"
             ],
             [
              0.6666666666666666,
              "#ed7953"
             ],
             [
              0.7777777777777778,
              "#fb9f3a"
             ],
             [
              0.8888888888888888,
              "#fdca26"
             ],
             [
              1,
              "#f0f921"
             ]
            ],
            "type": "histogram2dcontour"
           }
          ],
          "mesh3d": [
           {
            "colorbar": {
             "outlinewidth": 0,
             "ticks": ""
            },
            "type": "mesh3d"
           }
          ],
          "parcoords": [
           {
            "line": {
             "colorbar": {
              "outlinewidth": 0,
              "ticks": ""
             }
            },
            "type": "parcoords"
           }
          ],
          "pie": [
           {
            "automargin": true,
            "type": "pie"
           }
          ],
          "scatter": [
           {
            "fillpattern": {
             "fillmode": "overlay",
             "size": 10,
             "solidity": 0.2
            },
            "type": "scatter"
           }
          ],
          "scatter3d": [
           {
            "line": {
             "colorbar": {
              "outlinewidth": 0,
              "ticks": ""
             }
            },
            "marker": {
             "colorbar": {
              "outlinewidth": 0,
              "ticks": ""
             }
            },
            "type": "scatter3d"
           }
          ],
          "scattercarpet": [
           {
            "marker": {
             "colorbar": {
              "outlinewidth": 0,
              "ticks": ""
             }
            },
            "type": "scattercarpet"
           }
          ],
          "scattergeo": [
           {
            "marker": {
             "colorbar": {
              "outlinewidth": 0,
              "ticks": ""
             }
            },
            "type": "scattergeo"
           }
          ],
          "scattergl": [
           {
            "marker": {
             "colorbar": {
              "outlinewidth": 0,
              "ticks": ""
             }
            },
            "type": "scattergl"
           }
          ],
          "scattermap": [
           {
            "marker": {
             "colorbar": {
              "outlinewidth": 0,
              "ticks": ""
             }
            },
            "type": "scattermap"
           }
          ],
          "scattermapbox": [
           {
            "marker": {
             "colorbar": {
              "outlinewidth": 0,
              "ticks": ""
             }
            },
            "type": "scattermapbox"
           }
          ],
          "scatterpolar": [
           {
            "marker": {
             "colorbar": {
              "outlinewidth": 0,
              "ticks": ""
             }
            },
            "type": "scatterpolar"
           }
          ],
          "scatterpolargl": [
           {
            "marker": {
             "colorbar": {
              "outlinewidth": 0,
              "ticks": ""
             }
            },
            "type": "scatterpolargl"
           }
          ],
          "scatterternary": [
           {
            "marker": {
             "colorbar": {
              "outlinewidth": 0,
              "ticks": ""
             }
            },
            "type": "scatterternary"
           }
          ],
          "surface": [
           {
            "colorbar": {
             "outlinewidth": 0,
             "ticks": ""
            },
            "colorscale": [
             [
              0,
              "#0d0887"
             ],
             [
              0.1111111111111111,
              "#46039f"
             ],
             [
              0.2222222222222222,
              "#7201a8"
             ],
             [
              0.3333333333333333,
              "#9c179e"
             ],
             [
              0.4444444444444444,
              "#bd3786"
             ],
             [
              0.5555555555555556,
              "#d8576b"
             ],
             [
              0.6666666666666666,
              "#ed7953"
             ],
             [
              0.7777777777777778,
              "#fb9f3a"
             ],
             [
              0.8888888888888888,
              "#fdca26"
             ],
             [
              1,
              "#f0f921"
             ]
            ],
            "type": "surface"
           }
          ],
          "table": [
           {
            "cells": {
             "fill": {
              "color": "#EBF0F8"
             },
             "line": {
              "color": "white"
             }
            },
            "header": {
             "fill": {
              "color": "#C8D4E3"
             },
             "line": {
              "color": "white"
             }
            },
            "type": "table"
           }
          ]
         },
         "layout": {
          "annotationdefaults": {
           "arrowcolor": "#2a3f5f",
           "arrowhead": 0,
           "arrowwidth": 1
          },
          "autotypenumbers": "strict",
          "coloraxis": {
           "colorbar": {
            "outlinewidth": 0,
            "ticks": ""
           }
          },
          "colorscale": {
           "diverging": [
            [
             0,
             "#8e0152"
            ],
            [
             0.1,
             "#c51b7d"
            ],
            [
             0.2,
             "#de77ae"
            ],
            [
             0.3,
             "#f1b6da"
            ],
            [
             0.4,
             "#fde0ef"
            ],
            [
             0.5,
             "#f7f7f7"
            ],
            [
             0.6,
             "#e6f5d0"
            ],
            [
             0.7,
             "#b8e186"
            ],
            [
             0.8,
             "#7fbc41"
            ],
            [
             0.9,
             "#4d9221"
            ],
            [
             1,
             "#276419"
            ]
           ],
           "sequential": [
            [
             0,
             "#0d0887"
            ],
            [
             0.1111111111111111,
             "#46039f"
            ],
            [
             0.2222222222222222,
             "#7201a8"
            ],
            [
             0.3333333333333333,
             "#9c179e"
            ],
            [
             0.4444444444444444,
             "#bd3786"
            ],
            [
             0.5555555555555556,
             "#d8576b"
            ],
            [
             0.6666666666666666,
             "#ed7953"
            ],
            [
             0.7777777777777778,
             "#fb9f3a"
            ],
            [
             0.8888888888888888,
             "#fdca26"
            ],
            [
             1,
             "#f0f921"
            ]
           ],
           "sequentialminus": [
            [
             0,
             "#0d0887"
            ],
            [
             0.1111111111111111,
             "#46039f"
            ],
            [
             0.2222222222222222,
             "#7201a8"
            ],
            [
             0.3333333333333333,
             "#9c179e"
            ],
            [
             0.4444444444444444,
             "#bd3786"
            ],
            [
             0.5555555555555556,
             "#d8576b"
            ],
            [
             0.6666666666666666,
             "#ed7953"
            ],
            [
             0.7777777777777778,
             "#fb9f3a"
            ],
            [
             0.8888888888888888,
             "#fdca26"
            ],
            [
             1,
             "#f0f921"
            ]
           ]
          },
          "colorway": [
           "#636efa",
           "#EF553B",
           "#00cc96",
           "#ab63fa",
           "#FFA15A",
           "#19d3f3",
           "#FF6692",
           "#B6E880",
           "#FF97FF",
           "#FECB52"
          ],
          "font": {
           "color": "#2a3f5f"
          },
          "geo": {
           "bgcolor": "white",
           "lakecolor": "white",
           "landcolor": "#E5ECF6",
           "showlakes": true,
           "showland": true,
           "subunitcolor": "white"
          },
          "hoverlabel": {
           "align": "left"
          },
          "hovermode": "closest",
          "mapbox": {
           "style": "light"
          },
          "paper_bgcolor": "white",
          "plot_bgcolor": "#E5ECF6",
          "polar": {
           "angularaxis": {
            "gridcolor": "white",
            "linecolor": "white",
            "ticks": ""
           },
           "bgcolor": "#E5ECF6",
           "radialaxis": {
            "gridcolor": "white",
            "linecolor": "white",
            "ticks": ""
           }
          },
          "scene": {
           "xaxis": {
            "backgroundcolor": "#E5ECF6",
            "gridcolor": "white",
            "gridwidth": 2,
            "linecolor": "white",
            "showbackground": true,
            "ticks": "",
            "zerolinecolor": "white"
           },
           "yaxis": {
            "backgroundcolor": "#E5ECF6",
            "gridcolor": "white",
            "gridwidth": 2,
            "linecolor": "white",
            "showbackground": true,
            "ticks": "",
            "zerolinecolor": "white"
           },
           "zaxis": {
            "backgroundcolor": "#E5ECF6",
            "gridcolor": "white",
            "gridwidth": 2,
            "linecolor": "white",
            "showbackground": true,
            "ticks": "",
            "zerolinecolor": "white"
           }
          },
          "shapedefaults": {
           "line": {
            "color": "#2a3f5f"
           }
          },
          "ternary": {
           "aaxis": {
            "gridcolor": "white",
            "linecolor": "white",
            "ticks": ""
           },
           "baxis": {
            "gridcolor": "white",
            "linecolor": "white",
            "ticks": ""
           },
           "bgcolor": "#E5ECF6",
           "caxis": {
            "gridcolor": "white",
            "linecolor": "white",
            "ticks": ""
           }
          },
          "title": {
           "x": 0.05
          },
          "xaxis": {
           "automargin": true,
           "gridcolor": "white",
           "linecolor": "white",
           "ticks": "",
           "title": {
            "standoff": 15
           },
           "zerolinecolor": "white",
           "zerolinewidth": 2
          },
          "yaxis": {
           "automargin": true,
           "gridcolor": "white",
           "linecolor": "white",
           "ticks": "",
           "title": {
            "standoff": 15
           },
           "zerolinecolor": "white",
           "zerolinewidth": 2
          }
         }
        },
        "xaxis": {
         "anchor": "y",
         "domain": [
          0,
          1
         ]
        },
        "yaxis": {
         "anchor": "x",
         "domain": [
          0,
          1
         ],
         "title": {
          "text": "Internet Activity Score"
         }
        }
       }
      }
     },
     "metadata": {},
     "output_type": "display_data"
    }
   ],
   "source": [
    "px.box(df, y=\"Internet Activity Score\", color=target)\n"
   ]
  },
  {
   "cell_type": "code",
   "execution_count": 18,
   "id": "bcd6d5de",
   "metadata": {},
   "outputs": [
    {
     "data": {
      "application/vnd.plotly.v1+json": {
       "config": {
        "plotlyServerURL": "https://plot.ly"
       },
       "data": [
        {
         "hovertemplate": "Internet Activity Score=%{x}<br>year of founding=%{y}<extra></extra>",
         "legendgroup": "",
         "marker": {
          "color": "#636efa",
          "symbol": "circle"
         },
         "mode": "markers",
         "name": "",
         "orientation": "v",
         "showlegend": false,
         "type": "scatter",
         "x": {
          "bdata": "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",
          "dtype": "f8"
         },
         "xaxis": "x",
         "y": {
          "bdata": "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",
          "dtype": "f8"
         },
         "yaxis": "y"
        }
       ],
       "layout": {
        "legend": {
         "tracegroupgap": 0
        },
        "margin": {
         "t": 60
        },
        "template": {
         "data": {
          "bar": [
           {
            "error_x": {
             "color": "#2a3f5f"
            },
            "error_y": {
             "color": "#2a3f5f"
            },
            "marker": {
             "line": {
              "color": "#E5ECF6",
              "width": 0.5
             },
             "pattern": {
              "fillmode": "overlay",
              "size": 10,
              "solidity": 0.2
             }
            },
            "type": "bar"
           }
          ],
          "barpolar": [
           {
            "marker": {
             "line": {
              "color": "#E5ECF6",
              "width": 0.5
             },
             "pattern": {
              "fillmode": "overlay",
              "size": 10,
              "solidity": 0.2
             }
            },
            "type": "barpolar"
           }
          ],
          "carpet": [
           {
            "aaxis": {
             "endlinecolor": "#2a3f5f",
             "gridcolor": "white",
             "linecolor": "white",
             "minorgridcolor": "white",
             "startlinecolor": "#2a3f5f"
            },
            "baxis": {
             "endlinecolor": "#2a3f5f",
             "gridcolor": "white",
             "linecolor": "white",
             "minorgridcolor": "white",
             "startlinecolor": "#2a3f5f"
            },
            "type": "carpet"
           }
          ],
          "choropleth": [
           {
            "colorbar": {
             "outlinewidth": 0,
             "ticks": ""
            },
            "type": "choropleth"
           }
          ],
          "contour": [
           {
            "colorbar": {
             "outlinewidth": 0,
             "ticks": ""
            },
            "colorscale": [
             [
              0,
              "#0d0887"
             ],
             [
              0.1111111111111111,
              "#46039f"
             ],
             [
              0.2222222222222222,
              "#7201a8"
             ],
             [
              0.3333333333333333,
              "#9c179e"
             ],
             [
              0.4444444444444444,
              "#bd3786"
             ],
             [
              0.5555555555555556,
              "#d8576b"
             ],
             [
              0.6666666666666666,
              "#ed7953"
             ],
             [
              0.7777777777777778,
              "#fb9f3a"
             ],
             [
              0.8888888888888888,
              "#fdca26"
             ],
             [
              1,
              "#f0f921"
             ]
            ],
            "type": "contour"
           }
          ],
          "contourcarpet": [
           {
            "colorbar": {
             "outlinewidth": 0,
             "ticks": ""
            },
            "type": "contourcarpet"
           }
          ],
          "heatmap": [
           {
            "colorbar": {
             "outlinewidth": 0,
             "ticks": ""
            },
            "colorscale": [
             [
              0,
              "#0d0887"
             ],
             [
              0.1111111111111111,
              "#46039f"
             ],
             [
              0.2222222222222222,
              "#7201a8"
             ],
             [
              0.3333333333333333,
              "#9c179e"
             ],
             [
              0.4444444444444444,
              "#bd3786"
             ],
             [
              0.5555555555555556,
              "#d8576b"
             ],
             [
              0.6666666666666666,
              "#ed7953"
             ],
             [
              0.7777777777777778,
              "#fb9f3a"
             ],
             [
              0.8888888888888888,
              "#fdca26"
             ],
             [
              1,
              "#f0f921"
             ]
            ],
            "type": "heatmap"
           }
          ],
          "histogram": [
           {
            "marker": {
             "pattern": {
              "fillmode": "overlay",
              "size": 10,
              "solidity": 0.2
             }
            },
            "type": "histogram"
           }
          ],
          "histogram2d": [
           {
            "colorbar": {
             "outlinewidth": 0,
             "ticks": ""
            },
            "colorscale": [
             [
              0,
              "#0d0887"
             ],
             [
              0.1111111111111111,
              "#46039f"
             ],
             [
              0.2222222222222222,
              "#7201a8"
             ],
             [
              0.3333333333333333,
              "#9c179e"
             ],
             [
              0.4444444444444444,
              "#bd3786"
             ],
             [
              0.5555555555555556,
              "#d8576b"
             ],
             [
              0.6666666666666666,
              "#ed7953"
             ],
             [
              0.7777777777777778,
              "#fb9f3a"
             ],
             [
              0.8888888888888888,
              "#fdca26"
             ],
             [
              1,
              "#f0f921"
             ]
            ],
            "type": "histogram2d"
           }
          ],
          "histogram2dcontour": [
           {
            "colorbar": {
             "outlinewidth": 0,
             "ticks": ""
            },
            "colorscale": [
             [
              0,
              "#0d0887"
             ],
             [
              0.1111111111111111,
              "#46039f"
             ],
             [
              0.2222222222222222,
              "#7201a8"
             ],
             [
              0.3333333333333333,
              "#9c179e"
             ],
             [
              0.4444444444444444,
              "#bd3786"
             ],
             [
              0.5555555555555556,
              "#d8576b"
             ],
             [
              0.6666666666666666,
              "#ed7953"
             ],
             [
              0.7777777777777778,
              "#fb9f3a"
             ],
             [
              0.8888888888888888,
              "#fdca26"
             ],
             [
              1,
              "#f0f921"
             ]
            ],
            "type": "histogram2dcontour"
           }
          ],
          "mesh3d": [
           {
            "colorbar": {
             "outlinewidth": 0,
             "ticks": ""
            },
            "type": "mesh3d"
           }
          ],
          "parcoords": [
           {
            "line": {
             "colorbar": {
              "outlinewidth": 0,
              "ticks": ""
             }
            },
            "type": "parcoords"
           }
          ],
          "pie": [
           {
            "automargin": true,
            "type": "pie"
           }
          ],
          "scatter": [
           {
            "fillpattern": {
             "fillmode": "overlay",
             "size": 10,
             "solidity": 0.2
            },
            "type": "scatter"
           }
          ],
          "scatter3d": [
           {
            "line": {
             "colorbar": {
              "outlinewidth": 0,
              "ticks": ""
             }
            },
            "marker": {
             "colorbar": {
              "outlinewidth": 0,
              "ticks": ""
             }
            },
            "type": "scatter3d"
           }
          ],
          "scattercarpet": [
           {
            "marker": {
             "colorbar": {
              "outlinewidth": 0,
              "ticks": ""
             }
            },
            "type": "scattercarpet"
           }
          ],
          "scattergeo": [
           {
            "marker": {
             "colorbar": {
              "outlinewidth": 0,
              "ticks": ""
             }
            },
            "type": "scattergeo"
           }
          ],
          "scattergl": [
           {
            "marker": {
             "colorbar": {
              "outlinewidth": 0,
              "ticks": ""
             }
            },
            "type": "scattergl"
           }
          ],
          "scattermap": [
           {
            "marker": {
             "colorbar": {
              "outlinewidth": 0,
              "ticks": ""
             }
            },
            "type": "scattermap"
           }
          ],
          "scattermapbox": [
           {
            "marker": {
             "colorbar": {
              "outlinewidth": 0,
              "ticks": ""
             }
            },
            "type": "scattermapbox"
           }
          ],
          "scatterpolar": [
           {
            "marker": {
             "colorbar": {
              "outlinewidth": 0,
              "ticks": ""
             }
            },
            "type": "scatterpolar"
           }
          ],
          "scatterpolargl": [
           {
            "marker": {
             "colorbar": {
              "outlinewidth": 0,
              "ticks": ""
             }
            },
            "type": "scatterpolargl"
           }
          ],
          "scatterternary": [
           {
            "marker": {
             "colorbar": {
              "outlinewidth": 0,
              "ticks": ""
             }
            },
            "type": "scatterternary"
           }
          ],
          "surface": [
           {
            "colorbar": {
             "outlinewidth": 0,
             "ticks": ""
            },
            "colorscale": [
             [
              0,
              "#0d0887"
             ],
             [
              0.1111111111111111,
              "#46039f"
             ],
             [
              0.2222222222222222,
              "#7201a8"
             ],
             [
              0.3333333333333333,
              "#9c179e"
             ],
             [
              0.4444444444444444,
              "#bd3786"
             ],
             [
              0.5555555555555556,
              "#d8576b"
             ],
             [
              0.6666666666666666,
              "#ed7953"
             ],
             [
              0.7777777777777778,
              "#fb9f3a"
             ],
             [
              0.8888888888888888,
              "#fdca26"
             ],
             [
              1,
              "#f0f921"
             ]
            ],
            "type": "surface"
           }
          ],
          "table": [
           {
            "cells": {
             "fill": {
              "color": "#EBF0F8"
             },
             "line": {
              "color": "white"
             }
            },
            "header": {
             "fill": {
              "color": "#C8D4E3"
             },
             "line": {
              "color": "white"
             }
            },
            "type": "table"
           }
          ]
         },
         "layout": {
          "annotationdefaults": {
           "arrowcolor": "#2a3f5f",
           "arrowhead": 0,
           "arrowwidth": 1
          },
          "autotypenumbers": "strict",
          "coloraxis": {
           "colorbar": {
            "outlinewidth": 0,
            "ticks": ""
           }
          },
          "colorscale": {
           "diverging": [
            [
             0,
             "#8e0152"
            ],
            [
             0.1,
             "#c51b7d"
            ],
            [
             0.2,
             "#de77ae"
            ],
            [
             0.3,
             "#f1b6da"
            ],
            [
             0.4,
             "#fde0ef"
            ],
            [
             0.5,
             "#f7f7f7"
            ],
            [
             0.6,
             "#e6f5d0"
            ],
            [
             0.7,
             "#b8e186"
            ],
            [
             0.8,
             "#7fbc41"
            ],
            [
             0.9,
             "#4d9221"
            ],
            [
             1,
             "#276419"
            ]
           ],
           "sequential": [
            [
             0,
             "#0d0887"
            ],
            [
             0.1111111111111111,
             "#46039f"
            ],
            [
             0.2222222222222222,
             "#7201a8"
            ],
            [
             0.3333333333333333,
             "#9c179e"
            ],
            [
             0.4444444444444444,
             "#bd3786"
            ],
            [
             0.5555555555555556,
             "#d8576b"
            ],
            [
             0.6666666666666666,
             "#ed7953"
            ],
            [
             0.7777777777777778,
             "#fb9f3a"
            ],
            [
             0.8888888888888888,
             "#fdca26"
            ],
            [
             1,
             "#f0f921"
            ]
           ],
           "sequentialminus": [
            [
             0,
             "#0d0887"
            ],
            [
             0.1111111111111111,
             "#46039f"
            ],
            [
             0.2222222222222222,
             "#7201a8"
            ],
            [
             0.3333333333333333,
             "#9c179e"
            ],
            [
             0.4444444444444444,
             "#bd3786"
            ],
            [
             0.5555555555555556,
             "#d8576b"
            ],
            [
             0.6666666666666666,
             "#ed7953"
            ],
            [
             0.7777777777777778,
             "#fb9f3a"
            ],
            [
             0.8888888888888888,
             "#fdca26"
            ],
            [
             1,
             "#f0f921"
            ]
           ]
          },
          "colorway": [
           "#636efa",
           "#EF553B",
           "#00cc96",
           "#ab63fa",
           "#FFA15A",
           "#19d3f3",
           "#FF6692",
           "#B6E880",
           "#FF97FF",
           "#FECB52"
          ],
          "font": {
           "color": "#2a3f5f"
          },
          "geo": {
           "bgcolor": "white",
           "lakecolor": "white",
           "landcolor": "#E5ECF6",
           "showlakes": true,
           "showland": true,
           "subunitcolor": "white"
          },
          "hoverlabel": {
           "align": "left"
          },
          "hovermode": "closest",
          "mapbox": {
           "style": "light"
          },
          "paper_bgcolor": "white",
          "plot_bgcolor": "#E5ECF6",
          "polar": {
           "angularaxis": {
            "gridcolor": "white",
            "linecolor": "white",
            "ticks": ""
           },
           "bgcolor": "#E5ECF6",
           "radialaxis": {
            "gridcolor": "white",
            "linecolor": "white",
            "ticks": ""
           }
          },
          "scene": {
           "xaxis": {
            "backgroundcolor": "#E5ECF6",
            "gridcolor": "white",
            "gridwidth": 2,
            "linecolor": "white",
            "showbackground": true,
            "ticks": "",
            "zerolinecolor": "white"
           },
           "yaxis": {
            "backgroundcolor": "#E5ECF6",
            "gridcolor": "white",
            "gridwidth": 2,
            "linecolor": "white",
            "showbackground": true,
            "ticks": "",
            "zerolinecolor": "white"
           },
           "zaxis": {
            "backgroundcolor": "#E5ECF6",
            "gridcolor": "white",
            "gridwidth": 2,
            "linecolor": "white",
            "showbackground": true,
            "ticks": "",
            "zerolinecolor": "white"
           }
          },
          "shapedefaults": {
           "line": {
            "color": "#2a3f5f"
           }
          },
          "ternary": {
           "aaxis": {
            "gridcolor": "white",
            "linecolor": "white",
            "ticks": ""
           },
           "baxis": {
            "gridcolor": "white",
            "linecolor": "white",
            "ticks": ""
           },
           "bgcolor": "#E5ECF6",
           "caxis": {
            "gridcolor": "white",
            "linecolor": "white",
            "ticks": ""
           }
          },
          "title": {
           "x": 0.05
          },
          "xaxis": {
           "automargin": true,
           "gridcolor": "white",
           "linecolor": "white",
           "ticks": "",
           "title": {
            "standoff": 15
           },
           "zerolinecolor": "white",
           "zerolinewidth": 2
          },
          "yaxis": {
           "automargin": true,
           "gridcolor": "white",
           "linecolor": "white",
           "ticks": "",
           "title": {
            "standoff": 15
           },
           "zerolinecolor": "white",
           "zerolinewidth": 2
          }
         }
        },
        "xaxis": {
         "anchor": "y",
         "domain": [
          0,
          1
         ],
         "title": {
          "text": "Internet Activity Score"
         }
        },
        "yaxis": {
         "anchor": "x",
         "domain": [
          0,
          1
         ],
         "title": {
          "text": "year of founding"
         }
        }
       }
      }
     },
     "metadata": {},
     "output_type": "display_data"
    }
   ],
   "source": [
    "px.scatter(df, x=\"Internet Activity Score\", y=\"year of founding\")"
   ]
  },
  {
   "cell_type": "code",
   "execution_count": 20,
   "id": "9c393564",
   "metadata": {},
   "outputs": [],
   "source": [
    "df[\"company_age\"] = 2014 - df[\"year of founding\"]\n",
    "\n",
    "del df[\"year of founding\"]"
   ]
  },
  {
   "cell_type": "code",
   "execution_count": 21,
   "id": "eed9d36c",
   "metadata": {},
   "outputs": [
    {
     "data": {
      "application/vnd.microsoft.datawrangler.viewer.v0+json": {
       "columns": [
        {
         "name": "index",
         "rawType": "int64",
         "type": "integer"
        },
        {
         "name": "Internet Activity Score",
         "rawType": "float64",
         "type": "float"
        },
        {
         "name": "industry_marketing",
         "rawType": "bool",
         "type": "boolean"
        },
        {
         "name": "industry_sales",
         "rawType": "bool",
         "type": "boolean"
        },
        {
         "name": "industry_operation",
         "rawType": "bool",
         "type": "boolean"
        },
        {
         "name": "industry_social",
         "rawType": "bool",
         "type": "boolean"
        },
        {
         "name": "industry_software",
         "rawType": "bool",
         "type": "boolean"
        },
        {
         "name": "industry_web",
         "rawType": "bool",
         "type": "boolean"
        },
        {
         "name": "Dependent-Company Status",
         "rawType": "object",
         "type": "string"
        },
        {
         "name": "Continent of company_Europe",
         "rawType": "bool",
         "type": "boolean"
        },
        {
         "name": "Continent of company_North America",
         "rawType": "bool",
         "type": "boolean"
        },
        {
         "name": "Continent of company_South America",
         "rawType": "bool",
         "type": "boolean"
        },
        {
         "name": "Continent of company_Unknown",
         "rawType": "bool",
         "type": "boolean"
        },
        {
         "name": "Country of company_France",
         "rawType": "bool",
         "type": "boolean"
        },
        {
         "name": "Country of company_Germany",
         "rawType": "bool",
         "type": "boolean"
        },
        {
         "name": "Country of company_India",
         "rawType": "bool",
         "type": "boolean"
        },
        {
         "name": "Country of company_Other",
         "rawType": "bool",
         "type": "boolean"
        },
        {
         "name": "Country of company_Spain",
         "rawType": "bool",
         "type": "boolean"
        },
        {
         "name": "Country of company_United Kingdom",
         "rawType": "bool",
         "type": "boolean"
        },
        {
         "name": "Country of company_United States",
         "rawType": "bool",
         "type": "boolean"
        },
        {
         "name": "Country of company_Unknown",
         "rawType": "bool",
         "type": "boolean"
        },
        {
         "name": "company_age",
         "rawType": "float64",
         "type": "float"
        }
       ],
       "ref": "32bd1573-a947-4fc3-9ce0-0649be0d6296",
       "rows": [
        [
         "0",
         "-1.0",
         "False",
         "False",
         "True",
         "False",
         "False",
         "False",
         "Success",
         "False",
         "True",
         "False",
         "False",
         "False",
         "False",
         "False",
         "False",
         "False",
         "False",
         "True",
         "False",
         "4.0"
        ],
        [
         "1",
         "125.0",
         "True",
         "True",
         "False",
         "False",
         "False",
         "False",
         "Success",
         "False",
         "True",
         "False",
         "False",
         "False",
         "False",
         "False",
         "False",
         "False",
         "False",
         "True",
         "False",
         "3.0"
        ],
        [
         "2",
         "455.0",
         "False",
         "False",
         "True",
         "False",
         "False",
         "False",
         "Success",
         "False",
         "True",
         "False",
         "False",
         "False",
         "False",
         "False",
         "False",
         "False",
         "False",
         "True",
         "False",
         "3.0"
        ],
        [
         "3",
         "-99.0",
         "True",
         "True",
         "False",
         "False",
         "False",
         "False",
         "Success",
         "False",
         "True",
         "False",
         "False",
         "False",
         "False",
         "False",
         "False",
         "False",
         "False",
         "True",
         "False",
         "5.0"
        ],
        [
         "4",
         "496.0",
         "True",
         "True",
         "False",
         "False",
         "False",
         "False",
         "Success",
         "False",
         "True",
         "False",
         "False",
         "False",
         "False",
         "False",
         "False",
         "False",
         "False",
         "True",
         "False",
         "4.0"
        ],
        [
         "5",
         "106.0",
         "False",
         "False",
         "False",
         "False",
         "False",
         "False",
         "Success",
         "False",
         "True",
         "False",
         "False",
         "False",
         "False",
         "False",
         "False",
         "False",
         "False",
         "True",
         "False",
         "4.0"
        ],
        [
         "6",
         "39.0",
         "False",
         "False",
         "False",
         "False",
         "False",
         "False",
         "Success",
         "False",
         "True",
         "False",
         "False",
         "False",
         "False",
         "False",
         "False",
         "False",
         "False",
         "True",
         "False",
         "3.0"
        ],
        [
         "7",
         "139.0",
         "False",
         "False",
         "False",
         "False",
         "False",
         "False",
         "Success",
         "False",
         "True",
         "False",
         "False",
         "False",
         "False",
         "False",
         "False",
         "False",
         "False",
         "True",
         "False",
         "4.0"
        ],
        [
         "8",
         "306.0",
         "True",
         "False",
         "False",
         "False",
         "False",
         "False",
         "Success",
         "False",
         "True",
         "False",
         "False",
         "False",
         "False",
         "False",
         "False",
         "False",
         "False",
         "True",
         "False",
         "3.0"
        ],
        [
         "9",
         "53.0",
         "False",
         "False",
         "False",
         "False",
         "False",
         "False",
         "Success",
         "False",
         "True",
         "False",
         "False",
         "False",
         "False",
         "False",
         "False",
         "False",
         "False",
         "True",
         "False",
         "1.0"
        ],
        [
         "10",
         "762.0",
         "True",
         "True",
         "False",
         "False",
         "False",
         "False",
         "Success",
         "False",
         "True",
         "False",
         "False",
         "False",
         "False",
         "False",
         "False",
         "False",
         "False",
         "True",
         "False",
         "3.0"
        ],
        [
         "11",
         "140.0",
         "False",
         "False",
         "True",
         "False",
         "False",
         "False",
         "Success",
         "False",
         "True",
         "False",
         "False",
         "False",
         "False",
         "False",
         "False",
         "False",
         "False",
         "True",
         "False",
         "4.0"
        ],
        [
         "12",
         "115.0",
         "True",
         "True",
         "False",
         "False",
         "False",
         "False",
         "Success",
         "False",
         "True",
         "False",
         "False",
         "False",
         "False",
         "False",
         "False",
         "False",
         "False",
         "True",
         "False",
         "4.0"
        ],
        [
         "13",
         "277.0",
         "False",
         "False",
         "False",
         "False",
         "False",
         "False",
         "Success",
         "False",
         "True",
         "False",
         "False",
         "False",
         "False",
         "False",
         "False",
         "False",
         "False",
         "True",
         "False",
         "6.0"
        ],
        [
         "14",
         "242.0",
         "True",
         "True",
         "False",
         "False",
         "False",
         "False",
         "Success",
         "False",
         "True",
         "False",
         "False",
         "False",
         "False",
         "False",
         "False",
         "False",
         "False",
         "True",
         "False",
         "4.0"
        ],
        [
         "15",
         "533.0",
         "False",
         "False",
         "False",
         "False",
         "False",
         "False",
         "Success",
         "False",
         "True",
         "False",
         "False",
         "False",
         "False",
         "False",
         "False",
         "False",
         "False",
         "True",
         "False",
         "6.0"
        ],
        [
         "16",
         "-81.0",
         "True",
         "False",
         "False",
         "False",
         "False",
         "False",
         "Success",
         "False",
         "True",
         "False",
         "False",
         "False",
         "False",
         "False",
         "False",
         "False",
         "False",
         "True",
         "False",
         "4.0"
        ],
        [
         "17",
         "471.0",
         "True",
         "True",
         "False",
         "False",
         "False",
         "False",
         "Success",
         "False",
         "True",
         "False",
         "False",
         "False",
         "False",
         "False",
         "False",
         "False",
         "False",
         "True",
         "False",
         "5.0"
        ],
        [
         "18",
         "47.0",
         "False",
         "False",
         "False",
         "False",
         "False",
         "False",
         "Success",
         "False",
         "True",
         "False",
         "False",
         "False",
         "False",
         "False",
         "False",
         "False",
         "False",
         "True",
         "False",
         "12.0"
        ],
        [
         "19",
         "60.0",
         "True",
         "True",
         "False",
         "False",
         "False",
         "False",
         "Success",
         "False",
         "True",
         "False",
         "False",
         "False",
         "False",
         "False",
         "False",
         "False",
         "False",
         "True",
         "False",
         "4.0"
        ],
        [
         "20",
         "70.0",
         "True",
         "False",
         "False",
         "False",
         "False",
         "False",
         "Success",
         "False",
         "True",
         "False",
         "False",
         "False",
         "False",
         "False",
         "False",
         "False",
         "False",
         "True",
         "False",
         "4.0"
        ],
        [
         "21",
         "242.0",
         "False",
         "False",
         "False",
         "True",
         "False",
         "False",
         "Success",
         "False",
         "True",
         "False",
         "False",
         "False",
         "False",
         "False",
         "False",
         "False",
         "False",
         "True",
         "False",
         "9.0"
        ],
        [
         "22",
         "245.0",
         "True",
         "False",
         "False",
         "False",
         "False",
         "False",
         "Success",
         "False",
         "True",
         "False",
         "False",
         "False",
         "False",
         "False",
         "False",
         "False",
         "False",
         "True",
         "False",
         "2.0"
        ],
        [
         "23",
         "60.0",
         "True",
         "False",
         "False",
         "False",
         "False",
         "False",
         "Success",
         "False",
         "False",
         "False",
         "True",
         "False",
         "False",
         "False",
         "False",
         "False",
         "False",
         "False",
         "True",
         "5.0"
        ],
        [
         "24",
         "373.0",
         "False",
         "False",
         "False",
         "False",
         "False",
         "False",
         "Success",
         "False",
         "True",
         "False",
         "False",
         "False",
         "False",
         "False",
         "False",
         "False",
         "False",
         "True",
         "False",
         "2.0"
        ],
        [
         "25",
         "61.0",
         "False",
         "False",
         "False",
         "False",
         "False",
         "True",
         "Success",
         "False",
         "True",
         "False",
         "False",
         "False",
         "False",
         "False",
         "False",
         "False",
         "False",
         "True",
         "False",
         "3.0"
        ],
        [
         "26",
         "155.0",
         "False",
         "False",
         "False",
         "False",
         "False",
         "False",
         "Success",
         "False",
         "True",
         "False",
         "False",
         "False",
         "False",
         "False",
         "False",
         "False",
         "False",
         "True",
         "False",
         "5.0"
        ],
        [
         "27",
         "43.0",
         "False",
         "False",
         "False",
         "True",
         "False",
         "False",
         "Success",
         "False",
         "True",
         "False",
         "False",
         "False",
         "False",
         "False",
         "False",
         "False",
         "False",
         "True",
         "False",
         "1.0"
        ],
        [
         "28",
         "11.0",
         "False",
         "False",
         "False",
         "False",
         "False",
         "False",
         "Success",
         "False",
         "True",
         "False",
         "False",
         "False",
         "False",
         "False",
         "False",
         "False",
         "False",
         "True",
         "False",
         "7.0"
        ],
        [
         "29",
         "281.0",
         "False",
         "False",
         "False",
         "False",
         "False",
         "False",
         "Success",
         "False",
         "True",
         "False",
         "False",
         "False",
         "False",
         "False",
         "False",
         "False",
         "False",
         "True",
         "False",
         "2.0"
        ],
        [
         "30",
         "421.0",
         "False",
         "False",
         "False",
         "False",
         "False",
         "False",
         "Success",
         "False",
         "True",
         "False",
         "False",
         "False",
         "False",
         "False",
         "False",
         "False",
         "False",
         "True",
         "False",
         "2.0"
        ],
        [
         "31",
         "-91.0",
         "False",
         "False",
         "False",
         "False",
         "False",
         "False",
         "Success",
         "False",
         "True",
         "False",
         "False",
         "False",
         "False",
         "False",
         "False",
         "False",
         "False",
         "True",
         "False",
         "6.0"
        ],
        [
         "32",
         "983.0",
         "False",
         "False",
         "False",
         "False",
         "False",
         "False",
         "Success",
         "False",
         "True",
         "False",
         "False",
         "False",
         "False",
         "False",
         "False",
         "False",
         "False",
         "True",
         "False",
         "4.0"
        ],
        [
         "33",
         "68.0",
         "False",
         "False",
         "False",
         "True",
         "False",
         "False",
         "Success",
         "False",
         "True",
         "False",
         "False",
         "False",
         "False",
         "False",
         "False",
         "False",
         "False",
         "True",
         "False",
         "3.0"
        ],
        [
         "34",
         "60.0",
         "False",
         "False",
         "False",
         "False",
         "False",
         "False",
         "Success",
         "False",
         "False",
         "False",
         "True",
         "False",
         "False",
         "False",
         "False",
         "False",
         "False",
         "False",
         "True",
         "4.0"
        ],
        [
         "35",
         "75.0",
         "True",
         "False",
         "False",
         "False",
         "False",
         "False",
         "Success",
         "False",
         "True",
         "False",
         "False",
         "False",
         "False",
         "False",
         "False",
         "False",
         "False",
         "True",
         "False",
         "2.0"
        ],
        [
         "36",
         "140.0",
         "False",
         "False",
         "False",
         "False",
         "False",
         "False",
         "Success",
         "False",
         "True",
         "False",
         "False",
         "False",
         "False",
         "False",
         "False",
         "False",
         "False",
         "True",
         "False",
         "2.0"
        ],
        [
         "37",
         "46.0",
         "False",
         "False",
         "True",
         "False",
         "False",
         "False",
         "Success",
         "False",
         "True",
         "False",
         "False",
         "False",
         "False",
         "False",
         "False",
         "False",
         "False",
         "True",
         "False",
         "2.0"
        ],
        [
         "38",
         "33.0",
         "False",
         "False",
         "False",
         "False",
         "False",
         "False",
         "Success",
         "False",
         "True",
         "False",
         "False",
         "False",
         "False",
         "False",
         "False",
         "False",
         "False",
         "True",
         "False",
         "4.0"
        ],
        [
         "39",
         "56.0",
         "False",
         "False",
         "False",
         "False",
         "False",
         "False",
         "Success",
         "False",
         "True",
         "False",
         "False",
         "False",
         "False",
         "False",
         "False",
         "False",
         "False",
         "True",
         "False",
         "4.0"
        ],
        [
         "40",
         "89.0",
         "True",
         "False",
         "False",
         "False",
         "False",
         "False",
         "Success",
         "False",
         "True",
         "False",
         "False",
         "False",
         "False",
         "False",
         "False",
         "False",
         "False",
         "True",
         "False",
         "2.0"
        ],
        [
         "41",
         "69.0",
         "False",
         "False",
         "True",
         "False",
         "False",
         "False",
         "Success",
         "False",
         "True",
         "False",
         "False",
         "False",
         "False",
         "False",
         "False",
         "False",
         "False",
         "True",
         "False",
         "5.0"
        ],
        [
         "42",
         "374.0",
         "False",
         "False",
         "True",
         "False",
         "False",
         "False",
         "Success",
         "False",
         "True",
         "False",
         "False",
         "False",
         "False",
         "False",
         "False",
         "False",
         "False",
         "True",
         "False",
         "3.0"
        ],
        [
         "43",
         "40.0",
         "False",
         "True",
         "False",
         "False",
         "False",
         "False",
         "Success",
         "False",
         "True",
         "False",
         "False",
         "False",
         "False",
         "False",
         "False",
         "False",
         "False",
         "True",
         "False",
         "6.0"
        ],
        [
         "44",
         "60.0",
         "False",
         "False",
         "False",
         "False",
         "False",
         "False",
         "Success",
         "False",
         "False",
         "False",
         "True",
         "False",
         "False",
         "False",
         "False",
         "False",
         "False",
         "False",
         "True",
         "2.0"
        ],
        [
         "45",
         "-24.0",
         "False",
         "False",
         "False",
         "False",
         "False",
         "False",
         "Success",
         "False",
         "True",
         "False",
         "False",
         "False",
         "False",
         "False",
         "False",
         "False",
         "False",
         "True",
         "False",
         "4.0"
        ],
        [
         "46",
         "295.0",
         "False",
         "False",
         "False",
         "False",
         "False",
         "False",
         "Success",
         "False",
         "True",
         "False",
         "False",
         "False",
         "False",
         "False",
         "False",
         "False",
         "False",
         "True",
         "False",
         "3.0"
        ],
        [
         "47",
         "111.0",
         "False",
         "False",
         "False",
         "False",
         "False",
         "False",
         "Success",
         "False",
         "True",
         "False",
         "False",
         "False",
         "False",
         "False",
         "False",
         "False",
         "False",
         "True",
         "False",
         "11.0"
        ],
        [
         "48",
         "160.0",
         "False",
         "False",
         "True",
         "False",
         "False",
         "False",
         "Success",
         "False",
         "True",
         "False",
         "False",
         "False",
         "False",
         "False",
         "False",
         "False",
         "False",
         "True",
         "False",
         "14.0"
        ],
        [
         "49",
         "0.0",
         "True",
         "False",
         "False",
         "False",
         "False",
         "False",
         "Failed",
         "False",
         "True",
         "False",
         "False",
         "False",
         "False",
         "False",
         "False",
         "False",
         "False",
         "True",
         "False",
         "4.0"
        ]
       ],
       "shape": {
        "columns": 21,
        "rows": 472
       }
      },
      "text/html": [
       "<div>\n",
       "<style scoped>\n",
       "    .dataframe tbody tr th:only-of-type {\n",
       "        vertical-align: middle;\n",
       "    }\n",
       "\n",
       "    .dataframe tbody tr th {\n",
       "        vertical-align: top;\n",
       "    }\n",
       "\n",
       "    .dataframe thead th {\n",
       "        text-align: right;\n",
       "    }\n",
       "</style>\n",
       "<table border=\"1\" class=\"dataframe\">\n",
       "  <thead>\n",
       "    <tr style=\"text-align: right;\">\n",
       "      <th></th>\n",
       "      <th>Internet Activity Score</th>\n",
       "      <th>industry_marketing</th>\n",
       "      <th>industry_sales</th>\n",
       "      <th>industry_operation</th>\n",
       "      <th>industry_social</th>\n",
       "      <th>industry_software</th>\n",
       "      <th>industry_web</th>\n",
       "      <th>Dependent-Company Status</th>\n",
       "      <th>Continent of company_Europe</th>\n",
       "      <th>Continent of company_North America</th>\n",
       "      <th>...</th>\n",
       "      <th>Continent of company_Unknown</th>\n",
       "      <th>Country of company_France</th>\n",
       "      <th>Country of company_Germany</th>\n",
       "      <th>Country of company_India</th>\n",
       "      <th>Country of company_Other</th>\n",
       "      <th>Country of company_Spain</th>\n",
       "      <th>Country of company_United Kingdom</th>\n",
       "      <th>Country of company_United States</th>\n",
       "      <th>Country of company_Unknown</th>\n",
       "      <th>company_age</th>\n",
       "    </tr>\n",
       "  </thead>\n",
       "  <tbody>\n",
       "    <tr>\n",
       "      <th>0</th>\n",
       "      <td>-1.0</td>\n",
       "      <td>False</td>\n",
       "      <td>False</td>\n",
       "      <td>True</td>\n",
       "      <td>False</td>\n",
       "      <td>False</td>\n",
       "      <td>False</td>\n",
       "      <td>Success</td>\n",
       "      <td>False</td>\n",
       "      <td>True</td>\n",
       "      <td>...</td>\n",
       "      <td>False</td>\n",
       "      <td>False</td>\n",
       "      <td>False</td>\n",
       "      <td>False</td>\n",
       "      <td>False</td>\n",
       "      <td>False</td>\n",
       "      <td>False</td>\n",
       "      <td>True</td>\n",
       "      <td>False</td>\n",
       "      <td>4.0</td>\n",
       "    </tr>\n",
       "    <tr>\n",
       "      <th>1</th>\n",
       "      <td>125.0</td>\n",
       "      <td>True</td>\n",
       "      <td>True</td>\n",
       "      <td>False</td>\n",
       "      <td>False</td>\n",
       "      <td>False</td>\n",
       "      <td>False</td>\n",
       "      <td>Success</td>\n",
       "      <td>False</td>\n",
       "      <td>True</td>\n",
       "      <td>...</td>\n",
       "      <td>False</td>\n",
       "      <td>False</td>\n",
       "      <td>False</td>\n",
       "      <td>False</td>\n",
       "      <td>False</td>\n",
       "      <td>False</td>\n",
       "      <td>False</td>\n",
       "      <td>True</td>\n",
       "      <td>False</td>\n",
       "      <td>3.0</td>\n",
       "    </tr>\n",
       "    <tr>\n",
       "      <th>2</th>\n",
       "      <td>455.0</td>\n",
       "      <td>False</td>\n",
       "      <td>False</td>\n",
       "      <td>True</td>\n",
       "      <td>False</td>\n",
       "      <td>False</td>\n",
       "      <td>False</td>\n",
       "      <td>Success</td>\n",
       "      <td>False</td>\n",
       "      <td>True</td>\n",
       "      <td>...</td>\n",
       "      <td>False</td>\n",
       "      <td>False</td>\n",
       "      <td>False</td>\n",
       "      <td>False</td>\n",
       "      <td>False</td>\n",
       "      <td>False</td>\n",
       "      <td>False</td>\n",
       "      <td>True</td>\n",
       "      <td>False</td>\n",
       "      <td>3.0</td>\n",
       "    </tr>\n",
       "    <tr>\n",
       "      <th>3</th>\n",
       "      <td>-99.0</td>\n",
       "      <td>True</td>\n",
       "      <td>True</td>\n",
       "      <td>False</td>\n",
       "      <td>False</td>\n",
       "      <td>False</td>\n",
       "      <td>False</td>\n",
       "      <td>Success</td>\n",
       "      <td>False</td>\n",
       "      <td>True</td>\n",
       "      <td>...</td>\n",
       "      <td>False</td>\n",
       "      <td>False</td>\n",
       "      <td>False</td>\n",
       "      <td>False</td>\n",
       "      <td>False</td>\n",
       "      <td>False</td>\n",
       "      <td>False</td>\n",
       "      <td>True</td>\n",
       "      <td>False</td>\n",
       "      <td>5.0</td>\n",
       "    </tr>\n",
       "    <tr>\n",
       "      <th>4</th>\n",
       "      <td>496.0</td>\n",
       "      <td>True</td>\n",
       "      <td>True</td>\n",
       "      <td>False</td>\n",
       "      <td>False</td>\n",
       "      <td>False</td>\n",
       "      <td>False</td>\n",
       "      <td>Success</td>\n",
       "      <td>False</td>\n",
       "      <td>True</td>\n",
       "      <td>...</td>\n",
       "      <td>False</td>\n",
       "      <td>False</td>\n",
       "      <td>False</td>\n",
       "      <td>False</td>\n",
       "      <td>False</td>\n",
       "      <td>False</td>\n",
       "      <td>False</td>\n",
       "      <td>True</td>\n",
       "      <td>False</td>\n",
       "      <td>4.0</td>\n",
       "    </tr>\n",
       "    <tr>\n",
       "      <th>...</th>\n",
       "      <td>...</td>\n",
       "      <td>...</td>\n",
       "      <td>...</td>\n",
       "      <td>...</td>\n",
       "      <td>...</td>\n",
       "      <td>...</td>\n",
       "      <td>...</td>\n",
       "      <td>...</td>\n",
       "      <td>...</td>\n",
       "      <td>...</td>\n",
       "      <td>...</td>\n",
       "      <td>...</td>\n",
       "      <td>...</td>\n",
       "      <td>...</td>\n",
       "      <td>...</td>\n",
       "      <td>...</td>\n",
       "      <td>...</td>\n",
       "      <td>...</td>\n",
       "      <td>...</td>\n",
       "      <td>...</td>\n",
       "      <td>...</td>\n",
       "    </tr>\n",
       "    <tr>\n",
       "      <th>467</th>\n",
       "      <td>-5.0</td>\n",
       "      <td>False</td>\n",
       "      <td>False</td>\n",
       "      <td>False</td>\n",
       "      <td>False</td>\n",
       "      <td>False</td>\n",
       "      <td>False</td>\n",
       "      <td>Failed</td>\n",
       "      <td>False</td>\n",
       "      <td>True</td>\n",
       "      <td>...</td>\n",
       "      <td>False</td>\n",
       "      <td>False</td>\n",
       "      <td>False</td>\n",
       "      <td>False</td>\n",
       "      <td>False</td>\n",
       "      <td>False</td>\n",
       "      <td>False</td>\n",
       "      <td>True</td>\n",
       "      <td>False</td>\n",
       "      <td>3.0</td>\n",
       "    </tr>\n",
       "    <tr>\n",
       "      <th>468</th>\n",
       "      <td>60.0</td>\n",
       "      <td>False</td>\n",
       "      <td>False</td>\n",
       "      <td>False</td>\n",
       "      <td>False</td>\n",
       "      <td>False</td>\n",
       "      <td>True</td>\n",
       "      <td>Failed</td>\n",
       "      <td>False</td>\n",
       "      <td>False</td>\n",
       "      <td>...</td>\n",
       "      <td>True</td>\n",
       "      <td>False</td>\n",
       "      <td>False</td>\n",
       "      <td>False</td>\n",
       "      <td>False</td>\n",
       "      <td>False</td>\n",
       "      <td>False</td>\n",
       "      <td>False</td>\n",
       "      <td>True</td>\n",
       "      <td>4.0</td>\n",
       "    </tr>\n",
       "    <tr>\n",
       "      <th>469</th>\n",
       "      <td>0.0</td>\n",
       "      <td>False</td>\n",
       "      <td>False</td>\n",
       "      <td>False</td>\n",
       "      <td>False</td>\n",
       "      <td>False</td>\n",
       "      <td>False</td>\n",
       "      <td>Failed</td>\n",
       "      <td>False</td>\n",
       "      <td>True</td>\n",
       "      <td>...</td>\n",
       "      <td>False</td>\n",
       "      <td>False</td>\n",
       "      <td>False</td>\n",
       "      <td>False</td>\n",
       "      <td>False</td>\n",
       "      <td>False</td>\n",
       "      <td>False</td>\n",
       "      <td>True</td>\n",
       "      <td>False</td>\n",
       "      <td>4.0</td>\n",
       "    </tr>\n",
       "    <tr>\n",
       "      <th>470</th>\n",
       "      <td>0.0</td>\n",
       "      <td>False</td>\n",
       "      <td>False</td>\n",
       "      <td>False</td>\n",
       "      <td>True</td>\n",
       "      <td>False</td>\n",
       "      <td>False</td>\n",
       "      <td>Failed</td>\n",
       "      <td>False</td>\n",
       "      <td>True</td>\n",
       "      <td>...</td>\n",
       "      <td>False</td>\n",
       "      <td>False</td>\n",
       "      <td>False</td>\n",
       "      <td>False</td>\n",
       "      <td>False</td>\n",
       "      <td>False</td>\n",
       "      <td>False</td>\n",
       "      <td>True</td>\n",
       "      <td>False</td>\n",
       "      <td>5.0</td>\n",
       "    </tr>\n",
       "    <tr>\n",
       "      <th>471</th>\n",
       "      <td>11.0</td>\n",
       "      <td>False</td>\n",
       "      <td>False</td>\n",
       "      <td>False</td>\n",
       "      <td>False</td>\n",
       "      <td>False</td>\n",
       "      <td>False</td>\n",
       "      <td>Failed</td>\n",
       "      <td>False</td>\n",
       "      <td>True</td>\n",
       "      <td>...</td>\n",
       "      <td>False</td>\n",
       "      <td>False</td>\n",
       "      <td>False</td>\n",
       "      <td>False</td>\n",
       "      <td>False</td>\n",
       "      <td>False</td>\n",
       "      <td>False</td>\n",
       "      <td>True</td>\n",
       "      <td>False</td>\n",
       "      <td>1.0</td>\n",
       "    </tr>\n",
       "  </tbody>\n",
       "</table>\n",
       "<p>472 rows × 21 columns</p>\n",
       "</div>"
      ],
      "text/plain": [
       "     Internet Activity Score  industry_marketing  industry_sales  \\\n",
       "0                       -1.0               False           False   \n",
       "1                      125.0                True            True   \n",
       "2                      455.0               False           False   \n",
       "3                      -99.0                True            True   \n",
       "4                      496.0                True            True   \n",
       "..                       ...                 ...             ...   \n",
       "467                     -5.0               False           False   \n",
       "468                     60.0               False           False   \n",
       "469                      0.0               False           False   \n",
       "470                      0.0               False           False   \n",
       "471                     11.0               False           False   \n",
       "\n",
       "     industry_operation  industry_social  industry_software  industry_web  \\\n",
       "0                  True            False              False         False   \n",
       "1                 False            False              False         False   \n",
       "2                  True            False              False         False   \n",
       "3                 False            False              False         False   \n",
       "4                 False            False              False         False   \n",
       "..                  ...              ...                ...           ...   \n",
       "467               False            False              False         False   \n",
       "468               False            False              False          True   \n",
       "469               False            False              False         False   \n",
       "470               False             True              False         False   \n",
       "471               False            False              False         False   \n",
       "\n",
       "    Dependent-Company Status  Continent of company_Europe  \\\n",
       "0                    Success                        False   \n",
       "1                    Success                        False   \n",
       "2                    Success                        False   \n",
       "3                    Success                        False   \n",
       "4                    Success                        False   \n",
       "..                       ...                          ...   \n",
       "467                   Failed                        False   \n",
       "468                   Failed                        False   \n",
       "469                   Failed                        False   \n",
       "470                   Failed                        False   \n",
       "471                   Failed                        False   \n",
       "\n",
       "     Continent of company_North America  ...  Continent of company_Unknown  \\\n",
       "0                                  True  ...                         False   \n",
       "1                                  True  ...                         False   \n",
       "2                                  True  ...                         False   \n",
       "3                                  True  ...                         False   \n",
       "4                                  True  ...                         False   \n",
       "..                                  ...  ...                           ...   \n",
       "467                                True  ...                         False   \n",
       "468                               False  ...                          True   \n",
       "469                                True  ...                         False   \n",
       "470                                True  ...                         False   \n",
       "471                                True  ...                         False   \n",
       "\n",
       "     Country of company_France  Country of company_Germany  \\\n",
       "0                        False                       False   \n",
       "1                        False                       False   \n",
       "2                        False                       False   \n",
       "3                        False                       False   \n",
       "4                        False                       False   \n",
       "..                         ...                         ...   \n",
       "467                      False                       False   \n",
       "468                      False                       False   \n",
       "469                      False                       False   \n",
       "470                      False                       False   \n",
       "471                      False                       False   \n",
       "\n",
       "     Country of company_India  Country of company_Other  \\\n",
       "0                       False                     False   \n",
       "1                       False                     False   \n",
       "2                       False                     False   \n",
       "3                       False                     False   \n",
       "4                       False                     False   \n",
       "..                        ...                       ...   \n",
       "467                     False                     False   \n",
       "468                     False                     False   \n",
       "469                     False                     False   \n",
       "470                     False                     False   \n",
       "471                     False                     False   \n",
       "\n",
       "     Country of company_Spain  Country of company_United Kingdom  \\\n",
       "0                       False                              False   \n",
       "1                       False                              False   \n",
       "2                       False                              False   \n",
       "3                       False                              False   \n",
       "4                       False                              False   \n",
       "..                        ...                                ...   \n",
       "467                     False                              False   \n",
       "468                     False                              False   \n",
       "469                     False                              False   \n",
       "470                     False                              False   \n",
       "471                     False                              False   \n",
       "\n",
       "     Country of company_United States  Country of company_Unknown  company_age  \n",
       "0                                True                       False          4.0  \n",
       "1                                True                       False          3.0  \n",
       "2                                True                       False          3.0  \n",
       "3                                True                       False          5.0  \n",
       "4                                True                       False          4.0  \n",
       "..                                ...                         ...          ...  \n",
       "467                              True                       False          3.0  \n",
       "468                             False                        True          4.0  \n",
       "469                              True                       False          4.0  \n",
       "470                              True                       False          5.0  \n",
       "471                              True                       False          1.0  \n",
       "\n",
       "[472 rows x 21 columns]"
      ]
     },
     "execution_count": 21,
     "metadata": {},
     "output_type": "execute_result"
    }
   ],
   "source": [
    "df"
   ]
  },
  {
   "cell_type": "code",
   "execution_count": 22,
   "id": "ccfbf528",
   "metadata": {},
   "outputs": [
    {
     "data": {
      "application/vnd.microsoft.datawrangler.viewer.v0+json": {
       "columns": [
        {
         "name": "index",
         "rawType": "object",
         "type": "string"
        },
        {
         "name": "Internet Activity Score",
         "rawType": "float64",
         "type": "float"
        },
        {
         "name": "company_age",
         "rawType": "float64",
         "type": "float"
        }
       ],
       "ref": "35f5ba62-edf0-441f-8f60-4e3195e5cf74",
       "rows": [
        [
         "count",
         "472.0",
         "472.0"
        ],
        [
         "mean",
         "106.70127118644068",
         "4.529661016949152"
        ],
        [
         "std",
         "210.33459785709408",
         "2.446707890754619"
        ],
        [
         "min",
         "-725.0",
         "1.0"
        ],
        [
         "25%",
         "0.0",
         "3.0"
        ],
        [
         "50%",
         "60.0",
         "4.0"
        ],
        [
         "75%",
         "157.75",
         "6.0"
        ],
        [
         "max",
         "1535.0",
         "17.0"
        ]
       ],
       "shape": {
        "columns": 2,
        "rows": 8
       }
      },
      "text/html": [
       "<div>\n",
       "<style scoped>\n",
       "    .dataframe tbody tr th:only-of-type {\n",
       "        vertical-align: middle;\n",
       "    }\n",
       "\n",
       "    .dataframe tbody tr th {\n",
       "        vertical-align: top;\n",
       "    }\n",
       "\n",
       "    .dataframe thead th {\n",
       "        text-align: right;\n",
       "    }\n",
       "</style>\n",
       "<table border=\"1\" class=\"dataframe\">\n",
       "  <thead>\n",
       "    <tr style=\"text-align: right;\">\n",
       "      <th></th>\n",
       "      <th>Internet Activity Score</th>\n",
       "      <th>company_age</th>\n",
       "    </tr>\n",
       "  </thead>\n",
       "  <tbody>\n",
       "    <tr>\n",
       "      <th>count</th>\n",
       "      <td>472.000000</td>\n",
       "      <td>472.000000</td>\n",
       "    </tr>\n",
       "    <tr>\n",
       "      <th>mean</th>\n",
       "      <td>106.701271</td>\n",
       "      <td>4.529661</td>\n",
       "    </tr>\n",
       "    <tr>\n",
       "      <th>std</th>\n",
       "      <td>210.334598</td>\n",
       "      <td>2.446708</td>\n",
       "    </tr>\n",
       "    <tr>\n",
       "      <th>min</th>\n",
       "      <td>-725.000000</td>\n",
       "      <td>1.000000</td>\n",
       "    </tr>\n",
       "    <tr>\n",
       "      <th>25%</th>\n",
       "      <td>0.000000</td>\n",
       "      <td>3.000000</td>\n",
       "    </tr>\n",
       "    <tr>\n",
       "      <th>50%</th>\n",
       "      <td>60.000000</td>\n",
       "      <td>4.000000</td>\n",
       "    </tr>\n",
       "    <tr>\n",
       "      <th>75%</th>\n",
       "      <td>157.750000</td>\n",
       "      <td>6.000000</td>\n",
       "    </tr>\n",
       "    <tr>\n",
       "      <th>max</th>\n",
       "      <td>1535.000000</td>\n",
       "      <td>17.000000</td>\n",
       "    </tr>\n",
       "  </tbody>\n",
       "</table>\n",
       "</div>"
      ],
      "text/plain": [
       "       Internet Activity Score  company_age\n",
       "count               472.000000   472.000000\n",
       "mean                106.701271     4.529661\n",
       "std                 210.334598     2.446708\n",
       "min                -725.000000     1.000000\n",
       "25%                   0.000000     3.000000\n",
       "50%                  60.000000     4.000000\n",
       "75%                 157.750000     6.000000\n",
       "max                1535.000000    17.000000"
      ]
     },
     "execution_count": 22,
     "metadata": {},
     "output_type": "execute_result"
    }
   ],
   "source": [
    "df.describe()"
   ]
  },
  {
   "cell_type": "code",
   "execution_count": 23,
   "id": "b977042e",
   "metadata": {},
   "outputs": [
    {
     "name": "stdout",
     "output_type": "stream",
     "text": [
      "Dataset shape after outlier removal: (406, 21)\n"
     ]
    }
   ],
   "source": [
    "# Identify numeric columns\n",
    "numeric_cols = df.select_dtypes(include=[np.number]).columns\n",
    "\n",
    "# Remove outliers using IQR method for each numeric column\n",
    "for col in numeric_cols:\n",
    "    Q1 = df[col].quantile(0.25)\n",
    "    Q3 = df[col].quantile(0.75)\n",
    "    IQR = Q3 - Q1\n",
    "    lower_bound = Q1 - 1.5 * IQR\n",
    "    upper_bound = Q3 + 1.5 * IQR\n",
    "    \n",
    "    # Filter out outliers\n",
    "    df = df[(df[col] >= lower_bound) & (df[col] <= upper_bound)]\n",
    "\n",
    "print(f\"Dataset shape after outlier removal: {df.shape}\")"
   ]
  },
  {
   "cell_type": "code",
   "execution_count": 25,
   "id": "a68c9bb7",
   "metadata": {},
   "outputs": [
    {
     "data": {
      "application/vnd.microsoft.datawrangler.viewer.v0+json": {
       "columns": [
        {
         "name": "index",
         "rawType": "object",
         "type": "string"
        },
        {
         "name": "Internet Activity Score",
         "rawType": "float64",
         "type": "float"
        },
        {
         "name": "company_age",
         "rawType": "float64",
         "type": "float"
        }
       ],
       "ref": "d39b3331-2997-4219-956a-004617ca4235",
       "rows": [
        [
         "count",
         "406.0",
         "406.0"
        ],
        [
         "mean",
         "71.69211822660098",
         "4.3399014778325125"
        ],
        [
         "std",
         "114.01538248805333",
         "2.0385746630761608"
        ],
        [
         "min",
         "-228.0",
         "1.0"
        ],
        [
         "25%",
         "0.0",
         "3.0"
        ],
        [
         "50%",
         "60.0",
         "4.0"
        ],
        [
         "75%",
         "122.25",
         "5.0"
        ],
        [
         "max",
         "388.0",
         "10.0"
        ]
       ],
       "shape": {
        "columns": 2,
        "rows": 8
       }
      },
      "text/html": [
       "<div>\n",
       "<style scoped>\n",
       "    .dataframe tbody tr th:only-of-type {\n",
       "        vertical-align: middle;\n",
       "    }\n",
       "\n",
       "    .dataframe tbody tr th {\n",
       "        vertical-align: top;\n",
       "    }\n",
       "\n",
       "    .dataframe thead th {\n",
       "        text-align: right;\n",
       "    }\n",
       "</style>\n",
       "<table border=\"1\" class=\"dataframe\">\n",
       "  <thead>\n",
       "    <tr style=\"text-align: right;\">\n",
       "      <th></th>\n",
       "      <th>Internet Activity Score</th>\n",
       "      <th>company_age</th>\n",
       "    </tr>\n",
       "  </thead>\n",
       "  <tbody>\n",
       "    <tr>\n",
       "      <th>count</th>\n",
       "      <td>406.000000</td>\n",
       "      <td>406.000000</td>\n",
       "    </tr>\n",
       "    <tr>\n",
       "      <th>mean</th>\n",
       "      <td>71.692118</td>\n",
       "      <td>4.339901</td>\n",
       "    </tr>\n",
       "    <tr>\n",
       "      <th>std</th>\n",
       "      <td>114.015382</td>\n",
       "      <td>2.038575</td>\n",
       "    </tr>\n",
       "    <tr>\n",
       "      <th>min</th>\n",
       "      <td>-228.000000</td>\n",
       "      <td>1.000000</td>\n",
       "    </tr>\n",
       "    <tr>\n",
       "      <th>25%</th>\n",
       "      <td>0.000000</td>\n",
       "      <td>3.000000</td>\n",
       "    </tr>\n",
       "    <tr>\n",
       "      <th>50%</th>\n",
       "      <td>60.000000</td>\n",
       "      <td>4.000000</td>\n",
       "    </tr>\n",
       "    <tr>\n",
       "      <th>75%</th>\n",
       "      <td>122.250000</td>\n",
       "      <td>5.000000</td>\n",
       "    </tr>\n",
       "    <tr>\n",
       "      <th>max</th>\n",
       "      <td>388.000000</td>\n",
       "      <td>10.000000</td>\n",
       "    </tr>\n",
       "  </tbody>\n",
       "</table>\n",
       "</div>"
      ],
      "text/plain": [
       "       Internet Activity Score  company_age\n",
       "count               406.000000   406.000000\n",
       "mean                 71.692118     4.339901\n",
       "std                 114.015382     2.038575\n",
       "min                -228.000000     1.000000\n",
       "25%                   0.000000     3.000000\n",
       "50%                  60.000000     4.000000\n",
       "75%                 122.250000     5.000000\n",
       "max                 388.000000    10.000000"
      ]
     },
     "execution_count": 25,
     "metadata": {},
     "output_type": "execute_result"
    }
   ],
   "source": [
    "df.describe()"
   ]
  },
  {
   "cell_type": "code",
   "execution_count": 26,
   "id": "2fa47029",
   "metadata": {},
   "outputs": [
    {
     "data": {
      "application/vnd.microsoft.datawrangler.viewer.v0+json": {
       "columns": [
        {
         "name": "Dependent-Company Status",
         "rawType": "object",
         "type": "string"
        },
        {
         "name": "count",
         "rawType": "int64",
         "type": "integer"
        }
       ],
       "ref": "17244825-d6b9-4ffe-af8b-15c695a22f63",
       "rows": [
        [
         "Success",
         "248"
        ],
        [
         "Failed",
         "158"
        ]
       ],
       "shape": {
        "columns": 1,
        "rows": 2
       }
      },
      "text/plain": [
       "Dependent-Company Status\n",
       "Success    248\n",
       "Failed     158\n",
       "Name: count, dtype: int64"
      ]
     },
     "execution_count": 26,
     "metadata": {},
     "output_type": "execute_result"
    }
   ],
   "source": [
    "df[target].value_counts()"
   ]
  },
  {
   "cell_type": "code",
   "execution_count": 36,
   "id": "acb8a62a",
   "metadata": {},
   "outputs": [
    {
     "name": "stdout",
     "output_type": "stream",
     "text": [
      "Training set shape: (324, 20)\n",
      "Validation set shape: (41, 20)\n",
      "Test set shape: (41, 20)\n",
      "Target distribution in train: Dependent-Company Status\n",
      "Success    198\n",
      "Failed     126\n",
      "Name: count, dtype: int64\n",
      "Target distribution in validation: Dependent-Company Status\n",
      "Success    25\n",
      "Failed     16\n",
      "Name: count, dtype: int64\n",
      "Target distribution in test: Dependent-Company Status\n",
      "Success    25\n",
      "Failed     16\n",
      "Name: count, dtype: int64\n"
     ]
    }
   ],
   "source": [
    "from sklearn.model_selection import train_test_split\n",
    "\n",
    "# Separate features and target\n",
    "X = df.drop(target, axis=1)\n",
    "y = df[target]\n",
    "\n",
    "# First split: 80% train, 20% temp (which will be split into validation and test)\n",
    "X_train, X_temp, y_train, y_temp = train_test_split(X, y, test_size=0.2, \\\n",
    "    random_state=42, stratify=y)\n",
    "\n",
    "# Second split: Split the 20% temp into 10% validation and 10% test\n",
    "X_val, X_test, y_val, y_test = train_test_split(X_temp, y_temp, test_size=0.5, \\\n",
    "    random_state=42, stratify=y_temp)\n",
    "\n",
    "print(f\"Training set shape: {X_train.shape}\")\n",
    "print(f\"Validation set shape: {X_val.shape}\")\n",
    "print(f\"Test set shape: {X_test.shape}\")\n",
    "print(f\"Target distribution in train: {y_train.value_counts()}\")\n",
    "print(f\"Target distribution in validation: {y_val.value_counts()}\")\n",
    "print(f\"Target distribution in test: {y_test.value_counts()}\")"
   ]
  },
  {
   "cell_type": "code",
   "execution_count": 29,
   "id": "3a86d28d",
   "metadata": {},
   "outputs": [],
   "source": [
    "del X_test\n",
    "del y_test"
   ]
  },
  {
   "cell_type": "code",
   "execution_count": 37,
   "id": "a172f87f",
   "metadata": {},
   "outputs": [
    {
     "name": "stdout",
     "output_type": "stream",
     "text": [
      "Scaling completed!\n",
      "Training set scaled shape: (324, 20)\n",
      "Validation set scaled shape: (41, 20)\n"
     ]
    }
   ],
   "source": [
    "from sklearn.preprocessing import MinMaxScaler\n",
    "\n",
    "# Initialize the scaler\n",
    "scaler = MinMaxScaler()\n",
    "\n",
    "# Fit the scaler on training data and transform all sets\n",
    "X_train_scaled = X_train.copy()\n",
    "X_val_scaled = X_val.copy()\n",
    "\n",
    "# Scale only the numeric columns\n",
    "X_train_scaled[numeric_cols] = scaler.fit_transform(X_train[numeric_cols])\n",
    "X_val_scaled[numeric_cols] = scaler.transform(X_val[numeric_cols])\n",
    "\n",
    "print(\"Scaling completed!\")\n",
    "print(f\"Training set scaled shape: {X_train_scaled.shape}\")\n",
    "print(f\"Validation set scaled shape: {X_val_scaled.shape}\")"
   ]
  },
  {
   "cell_type": "markdown",
   "id": "ba206b47",
   "metadata": {},
   "source": [
    "# Modeling"
   ]
  },
  {
   "cell_type": "markdown",
   "id": "6b01c5d6",
   "metadata": {},
   "source": [
    "## Log reg"
   ]
  },
  {
   "cell_type": "code",
   "execution_count": 40,
   "id": "9312f41f",
   "metadata": {},
   "outputs": [
    {
     "name": "stdout",
     "output_type": "stream",
     "text": [
      "Logistic Regression Performance Comparison:\n",
      "           Training  Validation  Difference\n",
      "accuracy     0.7191      0.6829      0.0362\n",
      "precision    0.7399      0.6875      0.0524\n",
      "recall       0.8333      0.8800     -0.0467\n",
      "f1           0.7838      0.7719      0.0119\n",
      "roc_auc      0.8157      0.7700      0.0457\n",
      "pr_auc       0.8869      0.8706      0.0162\n"
     ]
    }
   ],
   "source": [
    "from sklearn.metrics import accuracy_score, precision_score, recall_score, f1_score, roc_auc_score, average_precision_score\n",
    "\n",
    "def evaluate_model(model, X_data, y_true, data_name=\"\"):\n",
    "    \"\"\"\n",
    "    Evaluate a model and print comprehensive metrics\n",
    "    \n",
    "    Parameters:\n",
    "    model: trained sklearn model\n",
    "    X_data: feature data\n",
    "    y_true: true labels\n",
    "    data_name: string to identify the dataset (e.g., \"Training\", \"Validation\")\n",
    "    \n",
    "    Returns:\n",
    "    dict: dictionary containing all metrics\n",
    "    \"\"\"\n",
    "    # Make predictions\n",
    "    y_pred = model.predict(X_data)\n",
    "    y_pred_proba = model.predict_proba(X_data)[:, 1]\n",
    "    \n",
    "    # Calculate metrics\n",
    "    accuracy = accuracy_score(y_true, y_pred)\n",
    "    precision = precision_score(y_true, y_pred, pos_label='Success')\n",
    "    recall = recall_score(y_true, y_pred, pos_label='Success')\n",
    "    f1 = f1_score(y_true, y_pred, pos_label='Success')\n",
    "    roc_auc = roc_auc_score(y_true == 'Success', y_pred_proba)\n",
    "    pr_auc = average_precision_score(y_true == 'Success', y_pred_proba)\n",
    "    \n",
    "    # Store results\n",
    "    results = {\n",
    "        'accuracy': accuracy,\n",
    "        'precision': precision,\n",
    "        'recall': recall,\n",
    "        'f1': f1,\n",
    "        'roc_auc': roc_auc,\n",
    "        'pr_auc': pr_auc\n",
    "    }\n",
    "    \n",
    "    return results\n",
    "\n",
    "# Evaluate on training and validation data\n",
    "train_results = evaluate_model(logreg, X_train_scaled, y_train, \"Training\")\n",
    "val_results = evaluate_model(logreg, X_val_scaled, y_val, \"Validation\")\n",
    "\n",
    "# Create comparison table\n",
    "comparison_df = pd.DataFrame({\n",
    "    'Training': train_results,\n",
    "    'Validation': val_results\n",
    "})\n",
    "comparison_df['Difference'] = comparison_df['Training'] - comparison_df['Validation']\n",
    "\n",
    "print(\"Logistic Regression Performance Comparison:\")\n",
    "print(comparison_df.round(4))\n"
   ]
  },
  {
   "cell_type": "code",
   "execution_count": 43,
   "id": "1ed92d38",
   "metadata": {},
   "outputs": [
    {
     "data": {
      "application/vnd.plotly.v1+json": {
       "config": {
        "plotlyServerURL": "https://plot.ly"
       },
       "data": [
        {
         "hovertemplate": "Absolute Coefficient Value=%{x}<br>feature=%{y}<extra></extra>",
         "legendgroup": "",
         "marker": {
          "color": "#636efa",
          "pattern": {
           "shape": ""
          }
         },
         "name": "",
         "orientation": "h",
         "showlegend": false,
         "textposition": "auto",
         "type": "bar",
         "x": {
          "bdata": "yZC4ZjjrAkAduQfjyIn6P+xFk2jrtfA/rgj080KX7z92nofAWFLoP3aeh8BYUug/Bcaeu8Yp5z/DAlKw06jlPwPmhWp2u9w/2vbC5/cE3D+8Tbj+usvaP4eLi5UnC9k/hnOhrncI2T/tU9wyPa3YP3rt/vPPC9U//u29cqDW1D+iN6CkapPRP2+ALG0SH7U/Dpx+P1kBsz/9R4YqZFKqPw==",
          "dtype": "f8"
         },
         "xaxis": "x",
         "y": [
          "Internet Activity Score",
          "company_age",
          "industry_web",
          "Country of company_United Kingdom",
          "Continent of company_Unknown",
          "Country of company_Unknown",
          "Country of company_France",
          "industry_social",
          "industry_marketing",
          "industry_operation",
          "Country of company_Spain",
          "Country of company_India",
          "Country of company_Other",
          "Continent of company_South America",
          "Country of company_Germany",
          "Continent of company_Europe",
          "industry_software",
          "Country of company_United States",
          "industry_sales",
          "Continent of company_North America"
         ],
         "yaxis": "y"
        }
       ],
       "layout": {
        "barmode": "relative",
        "legend": {
         "tracegroupgap": 0
        },
        "template": {
         "data": {
          "bar": [
           {
            "error_x": {
             "color": "#2a3f5f"
            },
            "error_y": {
             "color": "#2a3f5f"
            },
            "marker": {
             "line": {
              "color": "#E5ECF6",
              "width": 0.5
             },
             "pattern": {
              "fillmode": "overlay",
              "size": 10,
              "solidity": 0.2
             }
            },
            "type": "bar"
           }
          ],
          "barpolar": [
           {
            "marker": {
             "line": {
              "color": "#E5ECF6",
              "width": 0.5
             },
             "pattern": {
              "fillmode": "overlay",
              "size": 10,
              "solidity": 0.2
             }
            },
            "type": "barpolar"
           }
          ],
          "carpet": [
           {
            "aaxis": {
             "endlinecolor": "#2a3f5f",
             "gridcolor": "white",
             "linecolor": "white",
             "minorgridcolor": "white",
             "startlinecolor": "#2a3f5f"
            },
            "baxis": {
             "endlinecolor": "#2a3f5f",
             "gridcolor": "white",
             "linecolor": "white",
             "minorgridcolor": "white",
             "startlinecolor": "#2a3f5f"
            },
            "type": "carpet"
           }
          ],
          "choropleth": [
           {
            "colorbar": {
             "outlinewidth": 0,
             "ticks": ""
            },
            "type": "choropleth"
           }
          ],
          "contour": [
           {
            "colorbar": {
             "outlinewidth": 0,
             "ticks": ""
            },
            "colorscale": [
             [
              0,
              "#0d0887"
             ],
             [
              0.1111111111111111,
              "#46039f"
             ],
             [
              0.2222222222222222,
              "#7201a8"
             ],
             [
              0.3333333333333333,
              "#9c179e"
             ],
             [
              0.4444444444444444,
              "#bd3786"
             ],
             [
              0.5555555555555556,
              "#d8576b"
             ],
             [
              0.6666666666666666,
              "#ed7953"
             ],
             [
              0.7777777777777778,
              "#fb9f3a"
             ],
             [
              0.8888888888888888,
              "#fdca26"
             ],
             [
              1,
              "#f0f921"
             ]
            ],
            "type": "contour"
           }
          ],
          "contourcarpet": [
           {
            "colorbar": {
             "outlinewidth": 0,
             "ticks": ""
            },
            "type": "contourcarpet"
           }
          ],
          "heatmap": [
           {
            "colorbar": {
             "outlinewidth": 0,
             "ticks": ""
            },
            "colorscale": [
             [
              0,
              "#0d0887"
             ],
             [
              0.1111111111111111,
              "#46039f"
             ],
             [
              0.2222222222222222,
              "#7201a8"
             ],
             [
              0.3333333333333333,
              "#9c179e"
             ],
             [
              0.4444444444444444,
              "#bd3786"
             ],
             [
              0.5555555555555556,
              "#d8576b"
             ],
             [
              0.6666666666666666,
              "#ed7953"
             ],
             [
              0.7777777777777778,
              "#fb9f3a"
             ],
             [
              0.8888888888888888,
              "#fdca26"
             ],
             [
              1,
              "#f0f921"
             ]
            ],
            "type": "heatmap"
           }
          ],
          "histogram": [
           {
            "marker": {
             "pattern": {
              "fillmode": "overlay",
              "size": 10,
              "solidity": 0.2
             }
            },
            "type": "histogram"
           }
          ],
          "histogram2d": [
           {
            "colorbar": {
             "outlinewidth": 0,
             "ticks": ""
            },
            "colorscale": [
             [
              0,
              "#0d0887"
             ],
             [
              0.1111111111111111,
              "#46039f"
             ],
             [
              0.2222222222222222,
              "#7201a8"
             ],
             [
              0.3333333333333333,
              "#9c179e"
             ],
             [
              0.4444444444444444,
              "#bd3786"
             ],
             [
              0.5555555555555556,
              "#d8576b"
             ],
             [
              0.6666666666666666,
              "#ed7953"
             ],
             [
              0.7777777777777778,
              "#fb9f3a"
             ],
             [
              0.8888888888888888,
              "#fdca26"
             ],
             [
              1,
              "#f0f921"
             ]
            ],
            "type": "histogram2d"
           }
          ],
          "histogram2dcontour": [
           {
            "colorbar": {
             "outlinewidth": 0,
             "ticks": ""
            },
            "colorscale": [
             [
              0,
              "#0d0887"
             ],
             [
              0.1111111111111111,
              "#46039f"
             ],
             [
              0.2222222222222222,
              "#7201a8"
             ],
             [
              0.3333333333333333,
              "#9c179e"
             ],
             [
              0.4444444444444444,
              "#bd3786"
             ],
             [
              0.5555555555555556,
              "#d8576b"
             ],
             [
              0.6666666666666666,
              "#ed7953"
             ],
             [
              0.7777777777777778,
              "#fb9f3a"
             ],
             [
              0.8888888888888888,
              "#fdca26"
             ],
             [
              1,
              "#f0f921"
             ]
            ],
            "type": "histogram2dcontour"
           }
          ],
          "mesh3d": [
           {
            "colorbar": {
             "outlinewidth": 0,
             "ticks": ""
            },
            "type": "mesh3d"
           }
          ],
          "parcoords": [
           {
            "line": {
             "colorbar": {
              "outlinewidth": 0,
              "ticks": ""
             }
            },
            "type": "parcoords"
           }
          ],
          "pie": [
           {
            "automargin": true,
            "type": "pie"
           }
          ],
          "scatter": [
           {
            "fillpattern": {
             "fillmode": "overlay",
             "size": 10,
             "solidity": 0.2
            },
            "type": "scatter"
           }
          ],
          "scatter3d": [
           {
            "line": {
             "colorbar": {
              "outlinewidth": 0,
              "ticks": ""
             }
            },
            "marker": {
             "colorbar": {
              "outlinewidth": 0,
              "ticks": ""
             }
            },
            "type": "scatter3d"
           }
          ],
          "scattercarpet": [
           {
            "marker": {
             "colorbar": {
              "outlinewidth": 0,
              "ticks": ""
             }
            },
            "type": "scattercarpet"
           }
          ],
          "scattergeo": [
           {
            "marker": {
             "colorbar": {
              "outlinewidth": 0,
              "ticks": ""
             }
            },
            "type": "scattergeo"
           }
          ],
          "scattergl": [
           {
            "marker": {
             "colorbar": {
              "outlinewidth": 0,
              "ticks": ""
             }
            },
            "type": "scattergl"
           }
          ],
          "scattermap": [
           {
            "marker": {
             "colorbar": {
              "outlinewidth": 0,
              "ticks": ""
             }
            },
            "type": "scattermap"
           }
          ],
          "scattermapbox": [
           {
            "marker": {
             "colorbar": {
              "outlinewidth": 0,
              "ticks": ""
             }
            },
            "type": "scattermapbox"
           }
          ],
          "scatterpolar": [
           {
            "marker": {
             "colorbar": {
              "outlinewidth": 0,
              "ticks": ""
             }
            },
            "type": "scatterpolar"
           }
          ],
          "scatterpolargl": [
           {
            "marker": {
             "colorbar": {
              "outlinewidth": 0,
              "ticks": ""
             }
            },
            "type": "scatterpolargl"
           }
          ],
          "scatterternary": [
           {
            "marker": {
             "colorbar": {
              "outlinewidth": 0,
              "ticks": ""
             }
            },
            "type": "scatterternary"
           }
          ],
          "surface": [
           {
            "colorbar": {
             "outlinewidth": 0,
             "ticks": ""
            },
            "colorscale": [
             [
              0,
              "#0d0887"
             ],
             [
              0.1111111111111111,
              "#46039f"
             ],
             [
              0.2222222222222222,
              "#7201a8"
             ],
             [
              0.3333333333333333,
              "#9c179e"
             ],
             [
              0.4444444444444444,
              "#bd3786"
             ],
             [
              0.5555555555555556,
              "#d8576b"
             ],
             [
              0.6666666666666666,
              "#ed7953"
             ],
             [
              0.7777777777777778,
              "#fb9f3a"
             ],
             [
              0.8888888888888888,
              "#fdca26"
             ],
             [
              1,
              "#f0f921"
             ]
            ],
            "type": "surface"
           }
          ],
          "table": [
           {
            "cells": {
             "fill": {
              "color": "#EBF0F8"
             },
             "line": {
              "color": "white"
             }
            },
            "header": {
             "fill": {
              "color": "#C8D4E3"
             },
             "line": {
              "color": "white"
             }
            },
            "type": "table"
           }
          ]
         },
         "layout": {
          "annotationdefaults": {
           "arrowcolor": "#2a3f5f",
           "arrowhead": 0,
           "arrowwidth": 1
          },
          "autotypenumbers": "strict",
          "coloraxis": {
           "colorbar": {
            "outlinewidth": 0,
            "ticks": ""
           }
          },
          "colorscale": {
           "diverging": [
            [
             0,
             "#8e0152"
            ],
            [
             0.1,
             "#c51b7d"
            ],
            [
             0.2,
             "#de77ae"
            ],
            [
             0.3,
             "#f1b6da"
            ],
            [
             0.4,
             "#fde0ef"
            ],
            [
             0.5,
             "#f7f7f7"
            ],
            [
             0.6,
             "#e6f5d0"
            ],
            [
             0.7,
             "#b8e186"
            ],
            [
             0.8,
             "#7fbc41"
            ],
            [
             0.9,
             "#4d9221"
            ],
            [
             1,
             "#276419"
            ]
           ],
           "sequential": [
            [
             0,
             "#0d0887"
            ],
            [
             0.1111111111111111,
             "#46039f"
            ],
            [
             0.2222222222222222,
             "#7201a8"
            ],
            [
             0.3333333333333333,
             "#9c179e"
            ],
            [
             0.4444444444444444,
             "#bd3786"
            ],
            [
             0.5555555555555556,
             "#d8576b"
            ],
            [
             0.6666666666666666,
             "#ed7953"
            ],
            [
             0.7777777777777778,
             "#fb9f3a"
            ],
            [
             0.8888888888888888,
             "#fdca26"
            ],
            [
             1,
             "#f0f921"
            ]
           ],
           "sequentialminus": [
            [
             0,
             "#0d0887"
            ],
            [
             0.1111111111111111,
             "#46039f"
            ],
            [
             0.2222222222222222,
             "#7201a8"
            ],
            [
             0.3333333333333333,
             "#9c179e"
            ],
            [
             0.4444444444444444,
             "#bd3786"
            ],
            [
             0.5555555555555556,
             "#d8576b"
            ],
            [
             0.6666666666666666,
             "#ed7953"
            ],
            [
             0.7777777777777778,
             "#fb9f3a"
            ],
            [
             0.8888888888888888,
             "#fdca26"
            ],
            [
             1,
             "#f0f921"
            ]
           ]
          },
          "colorway": [
           "#636efa",
           "#EF553B",
           "#00cc96",
           "#ab63fa",
           "#FFA15A",
           "#19d3f3",
           "#FF6692",
           "#B6E880",
           "#FF97FF",
           "#FECB52"
          ],
          "font": {
           "color": "#2a3f5f"
          },
          "geo": {
           "bgcolor": "white",
           "lakecolor": "white",
           "landcolor": "#E5ECF6",
           "showlakes": true,
           "showland": true,
           "subunitcolor": "white"
          },
          "hoverlabel": {
           "align": "left"
          },
          "hovermode": "closest",
          "mapbox": {
           "style": "light"
          },
          "paper_bgcolor": "white",
          "plot_bgcolor": "#E5ECF6",
          "polar": {
           "angularaxis": {
            "gridcolor": "white",
            "linecolor": "white",
            "ticks": ""
           },
           "bgcolor": "#E5ECF6",
           "radialaxis": {
            "gridcolor": "white",
            "linecolor": "white",
            "ticks": ""
           }
          },
          "scene": {
           "xaxis": {
            "backgroundcolor": "#E5ECF6",
            "gridcolor": "white",
            "gridwidth": 2,
            "linecolor": "white",
            "showbackground": true,
            "ticks": "",
            "zerolinecolor": "white"
           },
           "yaxis": {
            "backgroundcolor": "#E5ECF6",
            "gridcolor": "white",
            "gridwidth": 2,
            "linecolor": "white",
            "showbackground": true,
            "ticks": "",
            "zerolinecolor": "white"
           },
           "zaxis": {
            "backgroundcolor": "#E5ECF6",
            "gridcolor": "white",
            "gridwidth": 2,
            "linecolor": "white",
            "showbackground": true,
            "ticks": "",
            "zerolinecolor": "white"
           }
          },
          "shapedefaults": {
           "line": {
            "color": "#2a3f5f"
           }
          },
          "ternary": {
           "aaxis": {
            "gridcolor": "white",
            "linecolor": "white",
            "ticks": ""
           },
           "baxis": {
            "gridcolor": "white",
            "linecolor": "white",
            "ticks": ""
           },
           "bgcolor": "#E5ECF6",
           "caxis": {
            "gridcolor": "white",
            "linecolor": "white",
            "ticks": ""
           }
          },
          "title": {
           "x": 0.05
          },
          "xaxis": {
           "automargin": true,
           "gridcolor": "white",
           "linecolor": "white",
           "ticks": "",
           "title": {
            "standoff": 15
           },
           "zerolinecolor": "white",
           "zerolinewidth": 2
          },
          "yaxis": {
           "automargin": true,
           "gridcolor": "white",
           "linecolor": "white",
           "ticks": "",
           "title": {
            "standoff": 15
           },
           "zerolinecolor": "white",
           "zerolinewidth": 2
          }
         }
        },
        "title": {
         "text": "Top Feature Importances (Logistic Regression)"
        },
        "xaxis": {
         "anchor": "y",
         "domain": [
          0,
          1
         ],
         "title": {
          "text": "Absolute Coefficient Value"
         }
        },
        "yaxis": {
         "anchor": "x",
         "categoryorder": "total ascending",
         "domain": [
          0,
          1
         ],
         "title": {
          "text": "feature"
         }
        }
       }
      }
     },
     "metadata": {},
     "output_type": "display_data"
    }
   ],
   "source": [
    "from sklearn.linear_model import LogisticRegression\n",
    "\n",
    "# Train logistic regression model\n",
    "logreg = LogisticRegression(random_state=42)\n",
    "logreg.fit(X_train_scaled, y_train)\n",
    "\n",
    "# Get feature importances (coefficients)\n",
    "feature_names = X_train_scaled.columns\n",
    "coefficients = logreg.coef_[0]\n",
    "\n",
    "# Create dataframe for visualization\n",
    "importance_df = pd.DataFrame({\n",
    "    'feature': feature_names,\n",
    "    'importance': np.abs(coefficients)\n",
    "}).sort_values('importance', ascending=False)\n",
    "\n",
    "# Plot feature importances\n",
    "fig = px.bar(importance_df, \n",
    "             x='importance', \n",
    "             y='feature', \n",
    "             orientation='h',\n",
    "             title='Top Feature Importances (Logistic Regression)',\n",
    "             labels={'importance': 'Absolute Coefficient Value'})\n",
    "fig.update_layout(yaxis={'categoryorder':'total ascending'})\n",
    "fig.show()"
   ]
  },
  {
   "cell_type": "code",
   "execution_count": 45,
   "id": "c2d6e387",
   "metadata": {},
   "outputs": [
    {
     "name": "stderr",
     "output_type": "stream",
     "text": [
      "\u001b[2mUsing Python 3.11.13 environment at: c:\\Users\\hayk_\\OneDrive\\Desktop\\01_python_math_ml_course\\ma\u001b[0m\n",
      "\u001b[2mResolved \u001b[1m3 packages\u001b[0m \u001b[2min 1.42s\u001b[0m\u001b[0m\n",
      "\u001b[36m\u001b[1mDownloading\u001b[0m\u001b[39m lightgbm \u001b[2m(1.4MiB)\u001b[0m\n",
      " \u001b[32m\u001b[1mDownloading\u001b[0m\u001b[39m lightgbm\n",
      "\u001b[2mPrepared \u001b[1m1 package\u001b[0m \u001b[2min 579ms\u001b[0m\u001b[0m\n",
      "\u001b[2mInstalled \u001b[1m1 package\u001b[0m \u001b[2min 98ms\u001b[0m\u001b[0m\n",
      " \u001b[32m+\u001b[39m \u001b[1mlightgbm\u001b[0m\u001b[2m==4.6.0\u001b[0m\n"
     ]
    }
   ],
   "source": [
    "!uv pip install lightgbm"
   ]
  },
  {
   "cell_type": "code",
   "execution_count": 52,
   "id": "633793aa",
   "metadata": {},
   "outputs": [
    {
     "data": {
      "text/html": [
       "<style>#sk-container-id-3 {\n",
       "  /* Definition of color scheme common for light and dark mode */\n",
       "  --sklearn-color-text: #000;\n",
       "  --sklearn-color-text-muted: #666;\n",
       "  --sklearn-color-line: gray;\n",
       "  /* Definition of color scheme for unfitted estimators */\n",
       "  --sklearn-color-unfitted-level-0: #fff5e6;\n",
       "  --sklearn-color-unfitted-level-1: #f6e4d2;\n",
       "  --sklearn-color-unfitted-level-2: #ffe0b3;\n",
       "  --sklearn-color-unfitted-level-3: chocolate;\n",
       "  /* Definition of color scheme for fitted estimators */\n",
       "  --sklearn-color-fitted-level-0: #f0f8ff;\n",
       "  --sklearn-color-fitted-level-1: #d4ebff;\n",
       "  --sklearn-color-fitted-level-2: #b3dbfd;\n",
       "  --sklearn-color-fitted-level-3: cornflowerblue;\n",
       "\n",
       "  /* Specific color for light theme */\n",
       "  --sklearn-color-text-on-default-background: var(--sg-text-color, var(--theme-code-foreground, var(--jp-content-font-color1, black)));\n",
       "  --sklearn-color-background: var(--sg-background-color, var(--theme-background, var(--jp-layout-color0, white)));\n",
       "  --sklearn-color-border-box: var(--sg-text-color, var(--theme-code-foreground, var(--jp-content-font-color1, black)));\n",
       "  --sklearn-color-icon: #696969;\n",
       "\n",
       "  @media (prefers-color-scheme: dark) {\n",
       "    /* Redefinition of color scheme for dark theme */\n",
       "    --sklearn-color-text-on-default-background: var(--sg-text-color, var(--theme-code-foreground, var(--jp-content-font-color1, white)));\n",
       "    --sklearn-color-background: var(--sg-background-color, var(--theme-background, var(--jp-layout-color0, #111)));\n",
       "    --sklearn-color-border-box: var(--sg-text-color, var(--theme-code-foreground, var(--jp-content-font-color1, white)));\n",
       "    --sklearn-color-icon: #878787;\n",
       "  }\n",
       "}\n",
       "\n",
       "#sk-container-id-3 {\n",
       "  color: var(--sklearn-color-text);\n",
       "}\n",
       "\n",
       "#sk-container-id-3 pre {\n",
       "  padding: 0;\n",
       "}\n",
       "\n",
       "#sk-container-id-3 input.sk-hidden--visually {\n",
       "  border: 0;\n",
       "  clip: rect(1px 1px 1px 1px);\n",
       "  clip: rect(1px, 1px, 1px, 1px);\n",
       "  height: 1px;\n",
       "  margin: -1px;\n",
       "  overflow: hidden;\n",
       "  padding: 0;\n",
       "  position: absolute;\n",
       "  width: 1px;\n",
       "}\n",
       "\n",
       "#sk-container-id-3 div.sk-dashed-wrapped {\n",
       "  border: 1px dashed var(--sklearn-color-line);\n",
       "  margin: 0 0.4em 0.5em 0.4em;\n",
       "  box-sizing: border-box;\n",
       "  padding-bottom: 0.4em;\n",
       "  background-color: var(--sklearn-color-background);\n",
       "}\n",
       "\n",
       "#sk-container-id-3 div.sk-container {\n",
       "  /* jupyter's `normalize.less` sets `[hidden] { display: none; }`\n",
       "     but bootstrap.min.css set `[hidden] { display: none !important; }`\n",
       "     so we also need the `!important` here to be able to override the\n",
       "     default hidden behavior on the sphinx rendered scikit-learn.org.\n",
       "     See: https://github.com/scikit-learn/scikit-learn/issues/21755 */\n",
       "  display: inline-block !important;\n",
       "  position: relative;\n",
       "}\n",
       "\n",
       "#sk-container-id-3 div.sk-text-repr-fallback {\n",
       "  display: none;\n",
       "}\n",
       "\n",
       "div.sk-parallel-item,\n",
       "div.sk-serial,\n",
       "div.sk-item {\n",
       "  /* draw centered vertical line to link estimators */\n",
       "  background-image: linear-gradient(var(--sklearn-color-text-on-default-background), var(--sklearn-color-text-on-default-background));\n",
       "  background-size: 2px 100%;\n",
       "  background-repeat: no-repeat;\n",
       "  background-position: center center;\n",
       "}\n",
       "\n",
       "/* Parallel-specific style estimator block */\n",
       "\n",
       "#sk-container-id-3 div.sk-parallel-item::after {\n",
       "  content: \"\";\n",
       "  width: 100%;\n",
       "  border-bottom: 2px solid var(--sklearn-color-text-on-default-background);\n",
       "  flex-grow: 1;\n",
       "}\n",
       "\n",
       "#sk-container-id-3 div.sk-parallel {\n",
       "  display: flex;\n",
       "  align-items: stretch;\n",
       "  justify-content: center;\n",
       "  background-color: var(--sklearn-color-background);\n",
       "  position: relative;\n",
       "}\n",
       "\n",
       "#sk-container-id-3 div.sk-parallel-item {\n",
       "  display: flex;\n",
       "  flex-direction: column;\n",
       "}\n",
       "\n",
       "#sk-container-id-3 div.sk-parallel-item:first-child::after {\n",
       "  align-self: flex-end;\n",
       "  width: 50%;\n",
       "}\n",
       "\n",
       "#sk-container-id-3 div.sk-parallel-item:last-child::after {\n",
       "  align-self: flex-start;\n",
       "  width: 50%;\n",
       "}\n",
       "\n",
       "#sk-container-id-3 div.sk-parallel-item:only-child::after {\n",
       "  width: 0;\n",
       "}\n",
       "\n",
       "/* Serial-specific style estimator block */\n",
       "\n",
       "#sk-container-id-3 div.sk-serial {\n",
       "  display: flex;\n",
       "  flex-direction: column;\n",
       "  align-items: center;\n",
       "  background-color: var(--sklearn-color-background);\n",
       "  padding-right: 1em;\n",
       "  padding-left: 1em;\n",
       "}\n",
       "\n",
       "\n",
       "/* Toggleable style: style used for estimator/Pipeline/ColumnTransformer box that is\n",
       "clickable and can be expanded/collapsed.\n",
       "- Pipeline and ColumnTransformer use this feature and define the default style\n",
       "- Estimators will overwrite some part of the style using the `sk-estimator` class\n",
       "*/\n",
       "\n",
       "/* Pipeline and ColumnTransformer style (default) */\n",
       "\n",
       "#sk-container-id-3 div.sk-toggleable {\n",
       "  /* Default theme specific background. It is overwritten whether we have a\n",
       "  specific estimator or a Pipeline/ColumnTransformer */\n",
       "  background-color: var(--sklearn-color-background);\n",
       "}\n",
       "\n",
       "/* Toggleable label */\n",
       "#sk-container-id-3 label.sk-toggleable__label {\n",
       "  cursor: pointer;\n",
       "  display: flex;\n",
       "  width: 100%;\n",
       "  margin-bottom: 0;\n",
       "  padding: 0.5em;\n",
       "  box-sizing: border-box;\n",
       "  text-align: center;\n",
       "  align-items: start;\n",
       "  justify-content: space-between;\n",
       "  gap: 0.5em;\n",
       "}\n",
       "\n",
       "#sk-container-id-3 label.sk-toggleable__label .caption {\n",
       "  font-size: 0.6rem;\n",
       "  font-weight: lighter;\n",
       "  color: var(--sklearn-color-text-muted);\n",
       "}\n",
       "\n",
       "#sk-container-id-3 label.sk-toggleable__label-arrow:before {\n",
       "  /* Arrow on the left of the label */\n",
       "  content: \"▸\";\n",
       "  float: left;\n",
       "  margin-right: 0.25em;\n",
       "  color: var(--sklearn-color-icon);\n",
       "}\n",
       "\n",
       "#sk-container-id-3 label.sk-toggleable__label-arrow:hover:before {\n",
       "  color: var(--sklearn-color-text);\n",
       "}\n",
       "\n",
       "/* Toggleable content - dropdown */\n",
       "\n",
       "#sk-container-id-3 div.sk-toggleable__content {\n",
       "  display: none;\n",
       "  text-align: left;\n",
       "  /* unfitted */\n",
       "  background-color: var(--sklearn-color-unfitted-level-0);\n",
       "}\n",
       "\n",
       "#sk-container-id-3 div.sk-toggleable__content.fitted {\n",
       "  /* fitted */\n",
       "  background-color: var(--sklearn-color-fitted-level-0);\n",
       "}\n",
       "\n",
       "#sk-container-id-3 div.sk-toggleable__content pre {\n",
       "  margin: 0.2em;\n",
       "  border-radius: 0.25em;\n",
       "  color: var(--sklearn-color-text);\n",
       "  /* unfitted */\n",
       "  background-color: var(--sklearn-color-unfitted-level-0);\n",
       "}\n",
       "\n",
       "#sk-container-id-3 div.sk-toggleable__content.fitted pre {\n",
       "  /* unfitted */\n",
       "  background-color: var(--sklearn-color-fitted-level-0);\n",
       "}\n",
       "\n",
       "#sk-container-id-3 input.sk-toggleable__control:checked~div.sk-toggleable__content {\n",
       "  /* Expand drop-down */\n",
       "  display: block;\n",
       "  width: 100%;\n",
       "  overflow: visible;\n",
       "}\n",
       "\n",
       "#sk-container-id-3 input.sk-toggleable__control:checked~label.sk-toggleable__label-arrow:before {\n",
       "  content: \"▾\";\n",
       "}\n",
       "\n",
       "/* Pipeline/ColumnTransformer-specific style */\n",
       "\n",
       "#sk-container-id-3 div.sk-label input.sk-toggleable__control:checked~label.sk-toggleable__label {\n",
       "  color: var(--sklearn-color-text);\n",
       "  background-color: var(--sklearn-color-unfitted-level-2);\n",
       "}\n",
       "\n",
       "#sk-container-id-3 div.sk-label.fitted input.sk-toggleable__control:checked~label.sk-toggleable__label {\n",
       "  background-color: var(--sklearn-color-fitted-level-2);\n",
       "}\n",
       "\n",
       "/* Estimator-specific style */\n",
       "\n",
       "/* Colorize estimator box */\n",
       "#sk-container-id-3 div.sk-estimator input.sk-toggleable__control:checked~label.sk-toggleable__label {\n",
       "  /* unfitted */\n",
       "  background-color: var(--sklearn-color-unfitted-level-2);\n",
       "}\n",
       "\n",
       "#sk-container-id-3 div.sk-estimator.fitted input.sk-toggleable__control:checked~label.sk-toggleable__label {\n",
       "  /* fitted */\n",
       "  background-color: var(--sklearn-color-fitted-level-2);\n",
       "}\n",
       "\n",
       "#sk-container-id-3 div.sk-label label.sk-toggleable__label,\n",
       "#sk-container-id-3 div.sk-label label {\n",
       "  /* The background is the default theme color */\n",
       "  color: var(--sklearn-color-text-on-default-background);\n",
       "}\n",
       "\n",
       "/* On hover, darken the color of the background */\n",
       "#sk-container-id-3 div.sk-label:hover label.sk-toggleable__label {\n",
       "  color: var(--sklearn-color-text);\n",
       "  background-color: var(--sklearn-color-unfitted-level-2);\n",
       "}\n",
       "\n",
       "/* Label box, darken color on hover, fitted */\n",
       "#sk-container-id-3 div.sk-label.fitted:hover label.sk-toggleable__label.fitted {\n",
       "  color: var(--sklearn-color-text);\n",
       "  background-color: var(--sklearn-color-fitted-level-2);\n",
       "}\n",
       "\n",
       "/* Estimator label */\n",
       "\n",
       "#sk-container-id-3 div.sk-label label {\n",
       "  font-family: monospace;\n",
       "  font-weight: bold;\n",
       "  display: inline-block;\n",
       "  line-height: 1.2em;\n",
       "}\n",
       "\n",
       "#sk-container-id-3 div.sk-label-container {\n",
       "  text-align: center;\n",
       "}\n",
       "\n",
       "/* Estimator-specific */\n",
       "#sk-container-id-3 div.sk-estimator {\n",
       "  font-family: monospace;\n",
       "  border: 1px dotted var(--sklearn-color-border-box);\n",
       "  border-radius: 0.25em;\n",
       "  box-sizing: border-box;\n",
       "  margin-bottom: 0.5em;\n",
       "  /* unfitted */\n",
       "  background-color: var(--sklearn-color-unfitted-level-0);\n",
       "}\n",
       "\n",
       "#sk-container-id-3 div.sk-estimator.fitted {\n",
       "  /* fitted */\n",
       "  background-color: var(--sklearn-color-fitted-level-0);\n",
       "}\n",
       "\n",
       "/* on hover */\n",
       "#sk-container-id-3 div.sk-estimator:hover {\n",
       "  /* unfitted */\n",
       "  background-color: var(--sklearn-color-unfitted-level-2);\n",
       "}\n",
       "\n",
       "#sk-container-id-3 div.sk-estimator.fitted:hover {\n",
       "  /* fitted */\n",
       "  background-color: var(--sklearn-color-fitted-level-2);\n",
       "}\n",
       "\n",
       "/* Specification for estimator info (e.g. \"i\" and \"?\") */\n",
       "\n",
       "/* Common style for \"i\" and \"?\" */\n",
       "\n",
       ".sk-estimator-doc-link,\n",
       "a:link.sk-estimator-doc-link,\n",
       "a:visited.sk-estimator-doc-link {\n",
       "  float: right;\n",
       "  font-size: smaller;\n",
       "  line-height: 1em;\n",
       "  font-family: monospace;\n",
       "  background-color: var(--sklearn-color-background);\n",
       "  border-radius: 1em;\n",
       "  height: 1em;\n",
       "  width: 1em;\n",
       "  text-decoration: none !important;\n",
       "  margin-left: 0.5em;\n",
       "  text-align: center;\n",
       "  /* unfitted */\n",
       "  border: var(--sklearn-color-unfitted-level-1) 1pt solid;\n",
       "  color: var(--sklearn-color-unfitted-level-1);\n",
       "}\n",
       "\n",
       ".sk-estimator-doc-link.fitted,\n",
       "a:link.sk-estimator-doc-link.fitted,\n",
       "a:visited.sk-estimator-doc-link.fitted {\n",
       "  /* fitted */\n",
       "  border: var(--sklearn-color-fitted-level-1) 1pt solid;\n",
       "  color: var(--sklearn-color-fitted-level-1);\n",
       "}\n",
       "\n",
       "/* On hover */\n",
       "div.sk-estimator:hover .sk-estimator-doc-link:hover,\n",
       ".sk-estimator-doc-link:hover,\n",
       "div.sk-label-container:hover .sk-estimator-doc-link:hover,\n",
       ".sk-estimator-doc-link:hover {\n",
       "  /* unfitted */\n",
       "  background-color: var(--sklearn-color-unfitted-level-3);\n",
       "  color: var(--sklearn-color-background);\n",
       "  text-decoration: none;\n",
       "}\n",
       "\n",
       "div.sk-estimator.fitted:hover .sk-estimator-doc-link.fitted:hover,\n",
       ".sk-estimator-doc-link.fitted:hover,\n",
       "div.sk-label-container:hover .sk-estimator-doc-link.fitted:hover,\n",
       ".sk-estimator-doc-link.fitted:hover {\n",
       "  /* fitted */\n",
       "  background-color: var(--sklearn-color-fitted-level-3);\n",
       "  color: var(--sklearn-color-background);\n",
       "  text-decoration: none;\n",
       "}\n",
       "\n",
       "/* Span, style for the box shown on hovering the info icon */\n",
       ".sk-estimator-doc-link span {\n",
       "  display: none;\n",
       "  z-index: 9999;\n",
       "  position: relative;\n",
       "  font-weight: normal;\n",
       "  right: .2ex;\n",
       "  padding: .5ex;\n",
       "  margin: .5ex;\n",
       "  width: min-content;\n",
       "  min-width: 20ex;\n",
       "  max-width: 50ex;\n",
       "  color: var(--sklearn-color-text);\n",
       "  box-shadow: 2pt 2pt 4pt #999;\n",
       "  /* unfitted */\n",
       "  background: var(--sklearn-color-unfitted-level-0);\n",
       "  border: .5pt solid var(--sklearn-color-unfitted-level-3);\n",
       "}\n",
       "\n",
       ".sk-estimator-doc-link.fitted span {\n",
       "  /* fitted */\n",
       "  background: var(--sklearn-color-fitted-level-0);\n",
       "  border: var(--sklearn-color-fitted-level-3);\n",
       "}\n",
       "\n",
       ".sk-estimator-doc-link:hover span {\n",
       "  display: block;\n",
       "}\n",
       "\n",
       "/* \"?\"-specific style due to the `<a>` HTML tag */\n",
       "\n",
       "#sk-container-id-3 a.estimator_doc_link {\n",
       "  float: right;\n",
       "  font-size: 1rem;\n",
       "  line-height: 1em;\n",
       "  font-family: monospace;\n",
       "  background-color: var(--sklearn-color-background);\n",
       "  border-radius: 1rem;\n",
       "  height: 1rem;\n",
       "  width: 1rem;\n",
       "  text-decoration: none;\n",
       "  /* unfitted */\n",
       "  color: var(--sklearn-color-unfitted-level-1);\n",
       "  border: var(--sklearn-color-unfitted-level-1) 1pt solid;\n",
       "}\n",
       "\n",
       "#sk-container-id-3 a.estimator_doc_link.fitted {\n",
       "  /* fitted */\n",
       "  border: var(--sklearn-color-fitted-level-1) 1pt solid;\n",
       "  color: var(--sklearn-color-fitted-level-1);\n",
       "}\n",
       "\n",
       "/* On hover */\n",
       "#sk-container-id-3 a.estimator_doc_link:hover {\n",
       "  /* unfitted */\n",
       "  background-color: var(--sklearn-color-unfitted-level-3);\n",
       "  color: var(--sklearn-color-background);\n",
       "  text-decoration: none;\n",
       "}\n",
       "\n",
       "#sk-container-id-3 a.estimator_doc_link.fitted:hover {\n",
       "  /* fitted */\n",
       "  background-color: var(--sklearn-color-fitted-level-3);\n",
       "}\n",
       "\n",
       ".estimator-table summary {\n",
       "    padding: .5rem;\n",
       "    font-family: monospace;\n",
       "    cursor: pointer;\n",
       "}\n",
       "\n",
       ".estimator-table details[open] {\n",
       "    padding-left: 0.1rem;\n",
       "    padding-right: 0.1rem;\n",
       "    padding-bottom: 0.3rem;\n",
       "}\n",
       "\n",
       ".estimator-table .parameters-table {\n",
       "    margin-left: auto !important;\n",
       "    margin-right: auto !important;\n",
       "}\n",
       "\n",
       ".estimator-table .parameters-table tr:nth-child(odd) {\n",
       "    background-color: #fff;\n",
       "}\n",
       "\n",
       ".estimator-table .parameters-table tr:nth-child(even) {\n",
       "    background-color: #f6f6f6;\n",
       "}\n",
       "\n",
       ".estimator-table .parameters-table tr:hover {\n",
       "    background-color: #e0e0e0;\n",
       "}\n",
       "\n",
       ".estimator-table table td {\n",
       "    border: 1px solid rgba(106, 105, 104, 0.232);\n",
       "}\n",
       "\n",
       ".user-set td {\n",
       "    color:rgb(255, 94, 0);\n",
       "    text-align: left;\n",
       "}\n",
       "\n",
       ".user-set td.value pre {\n",
       "    color:rgb(255, 94, 0) !important;\n",
       "    background-color: transparent !important;\n",
       "}\n",
       "\n",
       ".default td {\n",
       "    color: black;\n",
       "    text-align: left;\n",
       "}\n",
       "\n",
       ".user-set td i,\n",
       ".default td i {\n",
       "    color: black;\n",
       "}\n",
       "\n",
       ".copy-paste-icon {\n",
       "    background-image: url(data:image/svg+xml;base64,PHN2ZyB4bWxucz0iaHR0cDovL3d3dy53My5vcmcvMjAwMC9zdmciIHZpZXdCb3g9IjAgMCA0NDggNTEyIj48IS0tIUZvbnQgQXdlc29tZSBGcmVlIDYuNy4yIGJ5IEBmb250YXdlc29tZSAtIGh0dHBzOi8vZm9udGF3ZXNvbWUuY29tIExpY2Vuc2UgLSBodHRwczovL2ZvbnRhd2Vzb21lLmNvbS9saWNlbnNlL2ZyZWUgQ29weXJpZ2h0IDIwMjUgRm9udGljb25zLCBJbmMuLS0+PHBhdGggZD0iTTIwOCAwTDMzMi4xIDBjMTIuNyAwIDI0LjkgNS4xIDMzLjkgMTQuMWw2Ny45IDY3LjljOSA5IDE0LjEgMjEuMiAxNC4xIDMzLjlMNDQ4IDMzNmMwIDI2LjUtMjEuNSA0OC00OCA0OGwtMTkyIDBjLTI2LjUgMC00OC0yMS41LTQ4LTQ4bDAtMjg4YzAtMjYuNSAyMS41LTQ4IDQ4LTQ4ek00OCAxMjhsODAgMCAwIDY0LTY0IDAgMCAyNTYgMTkyIDAgMC0zMiA2NCAwIDAgNDhjMCAyNi41LTIxLjUgNDgtNDggNDhMNDggNTEyYy0yNi41IDAtNDgtMjEuNS00OC00OEwwIDE3NmMwLTI2LjUgMjEuNS00OCA0OC00OHoiLz48L3N2Zz4=);\n",
       "    background-repeat: no-repeat;\n",
       "    background-size: 14px 14px;\n",
       "    background-position: 0;\n",
       "    display: inline-block;\n",
       "    width: 14px;\n",
       "    height: 14px;\n",
       "    cursor: pointer;\n",
       "}\n",
       "</style><body><div id=\"sk-container-id-3\" class=\"sk-top-container\"><div class=\"sk-text-repr-fallback\"><pre>LGBMClassifier(n_estimators=50, random_state=42, verbose=-1)</pre><b>In a Jupyter environment, please rerun this cell to show the HTML representation or trust the notebook. <br />On GitHub, the HTML representation is unable to render, please try loading this page with nbviewer.org.</b></div><div class=\"sk-container\" hidden><div class=\"sk-item\"><div class=\"sk-estimator fitted sk-toggleable\"><input class=\"sk-toggleable__control sk-hidden--visually\" id=\"sk-estimator-id-3\" type=\"checkbox\" checked><label for=\"sk-estimator-id-3\" class=\"sk-toggleable__label fitted sk-toggleable__label-arrow\"><div><div>LGBMClassifier</div></div><div><span class=\"sk-estimator-doc-link fitted\">i<span>Fitted</span></span></div></label><div class=\"sk-toggleable__content fitted\" data-param-prefix=\"\">\n",
       "        <div class=\"estimator-table\">\n",
       "            <details>\n",
       "                <summary>Parameters</summary>\n",
       "                <table class=\"parameters-table\">\n",
       "                  <tbody>\n",
       "                    \n",
       "        <tr class=\"default\">\n",
       "            <td><i class=\"copy-paste-icon\"\n",
       "                 onclick=\"copyToClipboard('boosting_type',\n",
       "                          this.parentElement.nextElementSibling)\"\n",
       "            ></i></td>\n",
       "            <td class=\"param\">boosting_type&nbsp;</td>\n",
       "            <td class=\"value\">&#x27;gbdt&#x27;</td>\n",
       "        </tr>\n",
       "    \n",
       "\n",
       "        <tr class=\"default\">\n",
       "            <td><i class=\"copy-paste-icon\"\n",
       "                 onclick=\"copyToClipboard('num_leaves',\n",
       "                          this.parentElement.nextElementSibling)\"\n",
       "            ></i></td>\n",
       "            <td class=\"param\">num_leaves&nbsp;</td>\n",
       "            <td class=\"value\">31</td>\n",
       "        </tr>\n",
       "    \n",
       "\n",
       "        <tr class=\"default\">\n",
       "            <td><i class=\"copy-paste-icon\"\n",
       "                 onclick=\"copyToClipboard('max_depth',\n",
       "                          this.parentElement.nextElementSibling)\"\n",
       "            ></i></td>\n",
       "            <td class=\"param\">max_depth&nbsp;</td>\n",
       "            <td class=\"value\">-1</td>\n",
       "        </tr>\n",
       "    \n",
       "\n",
       "        <tr class=\"default\">\n",
       "            <td><i class=\"copy-paste-icon\"\n",
       "                 onclick=\"copyToClipboard('learning_rate',\n",
       "                          this.parentElement.nextElementSibling)\"\n",
       "            ></i></td>\n",
       "            <td class=\"param\">learning_rate&nbsp;</td>\n",
       "            <td class=\"value\">0.1</td>\n",
       "        </tr>\n",
       "    \n",
       "\n",
       "        <tr class=\"user-set\">\n",
       "            <td><i class=\"copy-paste-icon\"\n",
       "                 onclick=\"copyToClipboard('n_estimators',\n",
       "                          this.parentElement.nextElementSibling)\"\n",
       "            ></i></td>\n",
       "            <td class=\"param\">n_estimators&nbsp;</td>\n",
       "            <td class=\"value\">50</td>\n",
       "        </tr>\n",
       "    \n",
       "\n",
       "        <tr class=\"default\">\n",
       "            <td><i class=\"copy-paste-icon\"\n",
       "                 onclick=\"copyToClipboard('subsample_for_bin',\n",
       "                          this.parentElement.nextElementSibling)\"\n",
       "            ></i></td>\n",
       "            <td class=\"param\">subsample_for_bin&nbsp;</td>\n",
       "            <td class=\"value\">200000</td>\n",
       "        </tr>\n",
       "    \n",
       "\n",
       "        <tr class=\"default\">\n",
       "            <td><i class=\"copy-paste-icon\"\n",
       "                 onclick=\"copyToClipboard('objective',\n",
       "                          this.parentElement.nextElementSibling)\"\n",
       "            ></i></td>\n",
       "            <td class=\"param\">objective&nbsp;</td>\n",
       "            <td class=\"value\">None</td>\n",
       "        </tr>\n",
       "    \n",
       "\n",
       "        <tr class=\"default\">\n",
       "            <td><i class=\"copy-paste-icon\"\n",
       "                 onclick=\"copyToClipboard('class_weight',\n",
       "                          this.parentElement.nextElementSibling)\"\n",
       "            ></i></td>\n",
       "            <td class=\"param\">class_weight&nbsp;</td>\n",
       "            <td class=\"value\">None</td>\n",
       "        </tr>\n",
       "    \n",
       "\n",
       "        <tr class=\"default\">\n",
       "            <td><i class=\"copy-paste-icon\"\n",
       "                 onclick=\"copyToClipboard('min_split_gain',\n",
       "                          this.parentElement.nextElementSibling)\"\n",
       "            ></i></td>\n",
       "            <td class=\"param\">min_split_gain&nbsp;</td>\n",
       "            <td class=\"value\">0.0</td>\n",
       "        </tr>\n",
       "    \n",
       "\n",
       "        <tr class=\"default\">\n",
       "            <td><i class=\"copy-paste-icon\"\n",
       "                 onclick=\"copyToClipboard('min_child_weight',\n",
       "                          this.parentElement.nextElementSibling)\"\n",
       "            ></i></td>\n",
       "            <td class=\"param\">min_child_weight&nbsp;</td>\n",
       "            <td class=\"value\">0.001</td>\n",
       "        </tr>\n",
       "    \n",
       "\n",
       "        <tr class=\"default\">\n",
       "            <td><i class=\"copy-paste-icon\"\n",
       "                 onclick=\"copyToClipboard('min_child_samples',\n",
       "                          this.parentElement.nextElementSibling)\"\n",
       "            ></i></td>\n",
       "            <td class=\"param\">min_child_samples&nbsp;</td>\n",
       "            <td class=\"value\">20</td>\n",
       "        </tr>\n",
       "    \n",
       "\n",
       "        <tr class=\"default\">\n",
       "            <td><i class=\"copy-paste-icon\"\n",
       "                 onclick=\"copyToClipboard('subsample',\n",
       "                          this.parentElement.nextElementSibling)\"\n",
       "            ></i></td>\n",
       "            <td class=\"param\">subsample&nbsp;</td>\n",
       "            <td class=\"value\">1.0</td>\n",
       "        </tr>\n",
       "    \n",
       "\n",
       "        <tr class=\"default\">\n",
       "            <td><i class=\"copy-paste-icon\"\n",
       "                 onclick=\"copyToClipboard('subsample_freq',\n",
       "                          this.parentElement.nextElementSibling)\"\n",
       "            ></i></td>\n",
       "            <td class=\"param\">subsample_freq&nbsp;</td>\n",
       "            <td class=\"value\">0</td>\n",
       "        </tr>\n",
       "    \n",
       "\n",
       "        <tr class=\"default\">\n",
       "            <td><i class=\"copy-paste-icon\"\n",
       "                 onclick=\"copyToClipboard('colsample_bytree',\n",
       "                          this.parentElement.nextElementSibling)\"\n",
       "            ></i></td>\n",
       "            <td class=\"param\">colsample_bytree&nbsp;</td>\n",
       "            <td class=\"value\">1.0</td>\n",
       "        </tr>\n",
       "    \n",
       "\n",
       "        <tr class=\"default\">\n",
       "            <td><i class=\"copy-paste-icon\"\n",
       "                 onclick=\"copyToClipboard('reg_alpha',\n",
       "                          this.parentElement.nextElementSibling)\"\n",
       "            ></i></td>\n",
       "            <td class=\"param\">reg_alpha&nbsp;</td>\n",
       "            <td class=\"value\">0.0</td>\n",
       "        </tr>\n",
       "    \n",
       "\n",
       "        <tr class=\"default\">\n",
       "            <td><i class=\"copy-paste-icon\"\n",
       "                 onclick=\"copyToClipboard('reg_lambda',\n",
       "                          this.parentElement.nextElementSibling)\"\n",
       "            ></i></td>\n",
       "            <td class=\"param\">reg_lambda&nbsp;</td>\n",
       "            <td class=\"value\">0.0</td>\n",
       "        </tr>\n",
       "    \n",
       "\n",
       "        <tr class=\"user-set\">\n",
       "            <td><i class=\"copy-paste-icon\"\n",
       "                 onclick=\"copyToClipboard('random_state',\n",
       "                          this.parentElement.nextElementSibling)\"\n",
       "            ></i></td>\n",
       "            <td class=\"param\">random_state&nbsp;</td>\n",
       "            <td class=\"value\">42</td>\n",
       "        </tr>\n",
       "    \n",
       "\n",
       "        <tr class=\"default\">\n",
       "            <td><i class=\"copy-paste-icon\"\n",
       "                 onclick=\"copyToClipboard('n_jobs',\n",
       "                          this.parentElement.nextElementSibling)\"\n",
       "            ></i></td>\n",
       "            <td class=\"param\">n_jobs&nbsp;</td>\n",
       "            <td class=\"value\">None</td>\n",
       "        </tr>\n",
       "    \n",
       "\n",
       "        <tr class=\"default\">\n",
       "            <td><i class=\"copy-paste-icon\"\n",
       "                 onclick=\"copyToClipboard('importance_type',\n",
       "                          this.parentElement.nextElementSibling)\"\n",
       "            ></i></td>\n",
       "            <td class=\"param\">importance_type&nbsp;</td>\n",
       "            <td class=\"value\">&#x27;split&#x27;</td>\n",
       "        </tr>\n",
       "    \n",
       "\n",
       "        <tr class=\"user-set\">\n",
       "            <td><i class=\"copy-paste-icon\"\n",
       "                 onclick=\"copyToClipboard('verbose',\n",
       "                          this.parentElement.nextElementSibling)\"\n",
       "            ></i></td>\n",
       "            <td class=\"param\">verbose&nbsp;</td>\n",
       "            <td class=\"value\">-1</td>\n",
       "        </tr>\n",
       "    \n",
       "                  </tbody>\n",
       "                </table>\n",
       "            </details>\n",
       "        </div>\n",
       "    </div></div></div></div></div><script>function copyToClipboard(text, element) {\n",
       "    // Get the parameter prefix from the closest toggleable content\n",
       "    const toggleableContent = element.closest('.sk-toggleable__content');\n",
       "    const paramPrefix = toggleableContent ? toggleableContent.dataset.paramPrefix : '';\n",
       "    const fullParamName = paramPrefix ? `${paramPrefix}${text}` : text;\n",
       "\n",
       "    const originalStyle = element.style;\n",
       "    const computedStyle = window.getComputedStyle(element);\n",
       "    const originalWidth = computedStyle.width;\n",
       "    const originalHTML = element.innerHTML.replace('Copied!', '');\n",
       "\n",
       "    navigator.clipboard.writeText(fullParamName)\n",
       "        .then(() => {\n",
       "            element.style.width = originalWidth;\n",
       "            element.style.color = 'green';\n",
       "            element.innerHTML = \"Copied!\";\n",
       "\n",
       "            setTimeout(() => {\n",
       "                element.innerHTML = originalHTML;\n",
       "                element.style = originalStyle;\n",
       "            }, 2000);\n",
       "        })\n",
       "        .catch(err => {\n",
       "            console.error('Failed to copy:', err);\n",
       "            element.style.color = 'red';\n",
       "            element.innerHTML = \"Failed!\";\n",
       "            setTimeout(() => {\n",
       "                element.innerHTML = originalHTML;\n",
       "                element.style = originalStyle;\n",
       "            }, 2000);\n",
       "        });\n",
       "    return false;\n",
       "}\n",
       "\n",
       "document.querySelectorAll('.fa-regular.fa-copy').forEach(function(element) {\n",
       "    const toggleableContent = element.closest('.sk-toggleable__content');\n",
       "    const paramPrefix = toggleableContent ? toggleableContent.dataset.paramPrefix : '';\n",
       "    const paramName = element.parentElement.nextElementSibling.textContent.trim();\n",
       "    const fullParamName = paramPrefix ? `${paramPrefix}${paramName}` : paramName;\n",
       "\n",
       "    element.setAttribute('title', fullParamName);\n",
       "});\n",
       "</script></body>"
      ],
      "text/plain": [
       "LGBMClassifier(n_estimators=50, random_state=42, verbose=-1)"
      ]
     },
     "execution_count": 52,
     "metadata": {},
     "output_type": "execute_result"
    }
   ],
   "source": [
    "from lightgbm import LGBMClassifier\n",
    "\n",
    "# Train LightGBM model\n",
    "lgbm = LGBMClassifier(random_state=42, verbose=-1, \n",
    "                      n_estimators=50)\n",
    "lgbm.fit(X_train_scaled, y_train)\n",
    "\n"
   ]
  },
  {
   "cell_type": "code",
   "execution_count": 53,
   "id": "840e829b",
   "metadata": {},
   "outputs": [
    {
     "name": "stdout",
     "output_type": "stream",
     "text": [
      "LightGBM Performance Comparison:\n",
      "           Training  Validation  Difference\n",
      "accuracy     0.8642      0.7561      0.1081\n",
      "precision    0.8889      0.8261      0.0628\n",
      "recall       0.8889      0.7600      0.1289\n",
      "f1           0.8889      0.7917      0.0972\n",
      "roc_auc      0.9341      0.8212      0.1128\n",
      "pr_auc       0.9612      0.8459      0.1153\n"
     ]
    }
   ],
   "source": [
    "# Evaluate LightGBM on training and validation data\n",
    "train_results_lgbm = evaluate_model(lgbm, X_train_scaled, y_train, \"Training\")\n",
    "val_results_lgbm = evaluate_model(lgbm, X_val_scaled, y_val, \"Validation\")\n",
    "\n",
    "# Create comparison table for LightGBM\n",
    "comparison_df_lgbm = pd.DataFrame({\n",
    "    'Training': train_results_lgbm,\n",
    "    'Validation': val_results_lgbm\n",
    "})\n",
    "comparison_df_lgbm['Difference'] = comparison_df_lgbm['Training'] - comparison_df_lgbm['Validation']\n",
    "\n",
    "print(\"LightGBM Performance Comparison:\")\n",
    "print(comparison_df_lgbm.round(4))"
   ]
  },
  {
   "cell_type": "code",
   "execution_count": null,
   "id": "83fb0285",
   "metadata": {},
   "outputs": [
    {
     "data": {
      "application/vnd.microsoft.datawrangler.viewer.v0+json": {
       "columns": [
        {
         "name": "index",
         "rawType": "object",
         "type": "string"
        },
        {
         "name": "0",
         "rawType": "object",
         "type": "unknown"
        }
       ],
       "ref": "1a15e8f7-7aca-4fa1-a189-65c2eda91b15",
       "rows": [
        [
         "Internet Activity Score",
         "388.0"
        ],
        [
         "industry_marketing",
         "True"
        ],
        [
         "industry_sales",
         "True"
        ],
        [
         "industry_operation",
         "True"
        ],
        [
         "industry_social",
         "True"
        ],
        [
         "industry_software",
         "True"
        ],
        [
         "industry_web",
         "True"
        ],
        [
         "Dependent-Company Status",
         "Success"
        ],
        [
         "Continent of company_Europe",
         "True"
        ],
        [
         "Continent of company_North America",
         "True"
        ],
        [
         "Continent of company_South America",
         "True"
        ],
        [
         "Continent of company_Unknown",
         "True"
        ],
        [
         "Country of company_France",
         "True"
        ],
        [
         "Country of company_Germany",
         "True"
        ],
        [
         "Country of company_India",
         "True"
        ],
        [
         "Country of company_Other",
         "True"
        ],
        [
         "Country of company_Spain",
         "True"
        ],
        [
         "Country of company_United Kingdom",
         "True"
        ],
        [
         "Country of company_United States",
         "True"
        ],
        [
         "Country of company_Unknown",
         "True"
        ],
        [
         "company_age",
         "10.0"
        ]
       ],
       "shape": {
        "columns": 1,
        "rows": 21
       }
      },
      "text/plain": [
       "Internet Activity Score                 388.0\n",
       "industry_marketing                       True\n",
       "industry_sales                           True\n",
       "industry_operation                       True\n",
       "industry_social                          True\n",
       "industry_software                        True\n",
       "industry_web                             True\n",
       "Dependent-Company Status              Success\n",
       "Continent of company_Europe              True\n",
       "Continent of company_North America       True\n",
       "Continent of company_South America       True\n",
       "Continent of company_Unknown             True\n",
       "Country of company_France                True\n",
       "Country of company_Germany               True\n",
       "Country of company_India                 True\n",
       "Country of company_Other                 True\n",
       "Country of company_Spain                 True\n",
       "Country of company_United Kingdom        True\n",
       "Country of company_United States         True\n",
       "Country of company_Unknown               True\n",
       "company_age                              10.0\n",
       "dtype: object"
      ]
     },
     "execution_count": 42,
     "metadata": {},
     "output_type": "execute_result"
    }
   ],
   "source": [
    "# Get feature importances\n",
    "lgbm_importance_df = pd.DataFrame({\n",
    "    'feature': feature_names,\n",
    "    'importance': lgbm.feature_importances_\n",
    "}).sort_values('importance', ascending=False)\n",
    "\n",
    "# Plot feature importances\n",
    "fig = px.bar(lgbm_importance_df, \n",
    "             x='importance', \n",
    "             y='feature', \n",
    "             orientation='h',\n",
    "             title='Top Feature Importances (LightGBM)',\n",
    "             labels={'importance': 'Feature Importance'})\n",
    "fig.update_layout(yaxis={'categoryorder':'total ascending'})\n",
    "fig.show()"
   ]
  },
  {
   "cell_type": "code",
   "execution_count": null,
   "id": "b266481c",
   "metadata": {},
   "outputs": [],
   "source": [
    "from hyperopt import hp, fmin, tpe, Trials, STATUS_OK\n",
    "from sklearn.model_selection import cross_val_score\n",
    "import numpy as np\n",
    "\n",
    "# Define the search space for hyperparameters\n",
    "space = {\n",
    "    'n_estimators': hp.choice('n_estimators', [10, 30, 50, 100]),\n",
    "    'max_depth': hp.choice('max_depth', [3, 5, -1]),\n",
    "    'learning_rate': hp.uniform('learning_rate', 0.01, 0.3),\n",
    "    'subsample': hp.uniform('subsample', 0.6, 1.0),\n",
    "    'colsample_bytree': hp.uniform('colsample_bytree', 0.6, 1.0),\n",
    "    # 'reg_alpha': hp.uniform('reg_alpha', 0, 1),\n",
    "    # 'reg_lambda': hp.uniform('reg_lambda', 0, 1)\n",
    "}\n",
    "\n",
    "# Define the objective function\n",
    "def objective(params):\n",
    "    # Create LightGBM model with hyperparameters\n",
    "    model = LGBMClassifier(\n",
    "        n_estimators=int(params['n_estimators']),\n",
    "        max_depth=int(params['max_depth']) if params['max_depth'] != -1 else -1,\n",
    "        learning_rate=params['learning_rate'],\n",
    "        num_leaves=int(params['num_leaves']),\n",
    "        subsample=params['subsample'],\n",
    "        colsample_bytree=params['colsample_bytree'],\n",
    "        reg_alpha=params['reg_alpha'],\n",
    "        reg_lambda=params['reg_lambda'],\n",
    "        random_state=42,\n",
    "        verbose=-1\n",
    "    )\n",
    "    \n",
    "    # Use cross-validation to evaluate the model\n",
    "    # We want to minimize the negative f1 score (maximize f1 score)\n",
    "    scores = cross_val_score(model, X_train_scaled, y_train, \n",
    "                           cv=5, scoring='f1', n_jobs=-1)\n",
    "    \n",
    "    # Return the loss (negative mean f1 score)\n",
    "    return {'loss': -scores.mean(), 'status': STATUS_OK}\n",
    "\n",
    "# Run hyperparameter optimization\n",
    "trials = Trials()\n",
    "best = fmin(fn=objective,\n",
    "           space=space,\n",
    "           algo=tpe.suggest,\n",
    "           max_evals=100,\n",
    "           trials=trials)\n",
    "\n",
    "print(\"Best hyperparameters:\")\n",
    "print(best)"
   ]
  },
  {
   "cell_type": "code",
   "execution_count": null,
   "id": "a7922375",
   "metadata": {},
   "outputs": [],
   "source": []
  }
 ],
 "metadata": {
  "kernelspec": {
   "display_name": "ma",
   "language": "python",
   "name": "python3"
  },
  "language_info": {
   "codemirror_mode": {
    "name": "ipython",
    "version": 3
   },
   "file_extension": ".py",
   "mimetype": "text/x-python",
   "name": "python",
   "nbconvert_exporter": "python",
   "pygments_lexer": "ipython3",
   "version": "3.11.13"
  }
 },
 "nbformat": 4,
 "nbformat_minor": 5
}
